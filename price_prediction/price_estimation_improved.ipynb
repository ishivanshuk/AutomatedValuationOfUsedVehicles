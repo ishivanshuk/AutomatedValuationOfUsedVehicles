{
 "cells": [
  {
   "cell_type": "code",
   "execution_count": 1,
   "id": "8f233f6c",
   "metadata": {},
   "outputs": [],
   "source": [
    "import pandas as pd\n",
    "df = pd.read_csv('Car details v3.csv')"
   ]
  },
  {
   "cell_type": "code",
   "execution_count": 2,
   "id": "c5f88c6d",
   "metadata": {},
   "outputs": [],
   "source": [
    "df.drop('torque', inplace=True, axis=1)"
   ]
  },
  {
   "cell_type": "code",
   "execution_count": 3,
   "id": "975dd42c",
   "metadata": {},
   "outputs": [
    {
     "name": "stdout",
     "output_type": "stream",
     "text": [
      "                              name  year  selling_price  km_driven    fuel  \\\n",
      "0           Maruti Swift Dzire VDI  2014         450000     145500  Diesel   \n",
      "1     Skoda Rapid 1.5 TDI Ambition  2014         370000     120000  Diesel   \n",
      "2         Honda City 2017-2020 EXi  2006         158000     140000  Petrol   \n",
      "3        Hyundai i20 Sportz Diesel  2010         225000     127000  Diesel   \n",
      "4           Maruti Swift VXI BSIII  2007         130000     120000  Petrol   \n",
      "...                            ...   ...            ...        ...     ...   \n",
      "8123             Hyundai i20 Magna  2013         320000     110000  Petrol   \n",
      "8124         Hyundai Verna CRDi SX  2007         135000     119000  Diesel   \n",
      "8125        Maruti Swift Dzire ZDi  2009         382000     120000  Diesel   \n",
      "8126               Tata Indigo CR4  2013         290000      25000  Diesel   \n",
      "8127               Tata Indigo CR4  2013         290000      25000  Diesel   \n",
      "\n",
      "     seller_type transmission                 owner     mileage   engine  \\\n",
      "0     Individual       Manual           First Owner   23.4 kmpl  1248 CC   \n",
      "1     Individual       Manual          Second Owner  21.14 kmpl  1498 CC   \n",
      "2     Individual       Manual           Third Owner   17.7 kmpl  1497 CC   \n",
      "3     Individual       Manual           First Owner   23.0 kmpl  1396 CC   \n",
      "4     Individual       Manual           First Owner   16.1 kmpl  1298 CC   \n",
      "...          ...          ...                   ...         ...      ...   \n",
      "8123  Individual       Manual           First Owner   18.5 kmpl  1197 CC   \n",
      "8124  Individual       Manual  Fourth & Above Owner   16.8 kmpl  1493 CC   \n",
      "8125  Individual       Manual           First Owner   19.3 kmpl  1248 CC   \n",
      "8126  Individual       Manual           First Owner  23.57 kmpl  1396 CC   \n",
      "8127  Individual       Manual           First Owner  23.57 kmpl  1396 CC   \n",
      "\n",
      "       max_power  seats  \n",
      "0         74 bhp    5.0  \n",
      "1     103.52 bhp    5.0  \n",
      "2         78 bhp    5.0  \n",
      "3         90 bhp    5.0  \n",
      "4       88.2 bhp    5.0  \n",
      "...          ...    ...  \n",
      "8123   82.85 bhp    5.0  \n",
      "8124     110 bhp    5.0  \n",
      "8125    73.9 bhp    5.0  \n",
      "8126      70 bhp    5.0  \n",
      "8127      70 bhp    5.0  \n",
      "\n",
      "[8128 rows x 12 columns]\n"
     ]
    }
   ],
   "source": [
    "print (df)"
   ]
  },
  {
   "cell_type": "code",
   "execution_count": 4,
   "id": "c62ab581",
   "metadata": {},
   "outputs": [],
   "source": [
    "backup=df.copy()"
   ]
  },
  {
   "cell_type": "code",
   "execution_count": 5,
   "id": "031580f2",
   "metadata": {},
   "outputs": [],
   "source": [
    "df['company_name'] = df['name'].str.split(' ').str.get(0)"
   ]
  },
  {
   "cell_type": "code",
   "execution_count": 6,
   "id": "e1abba32",
   "metadata": {},
   "outputs": [],
   "source": [
    "df['model_name'] = df['name'].str.split(' ').str.slice(1,10).str.join(' ')"
   ]
  },
  {
   "cell_type": "code",
   "execution_count": 7,
   "id": "c88052c3",
   "metadata": {},
   "outputs": [],
   "source": [
    "df.drop('name', inplace=True, axis=1)"
   ]
  },
  {
   "cell_type": "code",
   "execution_count": 8,
   "id": "457c6824",
   "metadata": {},
   "outputs": [
    {
     "name": "stdout",
     "output_type": "stream",
     "text": [
      "      year  selling_price  km_driven    fuel seller_type transmission  \\\n",
      "0     2014         450000     145500  Diesel  Individual       Manual   \n",
      "1     2014         370000     120000  Diesel  Individual       Manual   \n",
      "2     2006         158000     140000  Petrol  Individual       Manual   \n",
      "3     2010         225000     127000  Diesel  Individual       Manual   \n",
      "4     2007         130000     120000  Petrol  Individual       Manual   \n",
      "...    ...            ...        ...     ...         ...          ...   \n",
      "8123  2013         320000     110000  Petrol  Individual       Manual   \n",
      "8124  2007         135000     119000  Diesel  Individual       Manual   \n",
      "8125  2009         382000     120000  Diesel  Individual       Manual   \n",
      "8126  2013         290000      25000  Diesel  Individual       Manual   \n",
      "8127  2013         290000      25000  Diesel  Individual       Manual   \n",
      "\n",
      "                     owner     mileage   engine   max_power  seats  \\\n",
      "0              First Owner   23.4 kmpl  1248 CC      74 bhp    5.0   \n",
      "1             Second Owner  21.14 kmpl  1498 CC  103.52 bhp    5.0   \n",
      "2              Third Owner   17.7 kmpl  1497 CC      78 bhp    5.0   \n",
      "3              First Owner   23.0 kmpl  1396 CC      90 bhp    5.0   \n",
      "4              First Owner   16.1 kmpl  1298 CC    88.2 bhp    5.0   \n",
      "...                    ...         ...      ...         ...    ...   \n",
      "8123           First Owner   18.5 kmpl  1197 CC   82.85 bhp    5.0   \n",
      "8124  Fourth & Above Owner   16.8 kmpl  1493 CC     110 bhp    5.0   \n",
      "8125           First Owner   19.3 kmpl  1248 CC    73.9 bhp    5.0   \n",
      "8126           First Owner  23.57 kmpl  1396 CC      70 bhp    5.0   \n",
      "8127           First Owner  23.57 kmpl  1396 CC      70 bhp    5.0   \n",
      "\n",
      "     company_name              model_name  \n",
      "0          Maruti         Swift Dzire VDI  \n",
      "1           Skoda  Rapid 1.5 TDI Ambition  \n",
      "2           Honda      City 2017-2020 EXi  \n",
      "3         Hyundai       i20 Sportz Diesel  \n",
      "4          Maruti         Swift VXI BSIII  \n",
      "...           ...                     ...  \n",
      "8123      Hyundai               i20 Magna  \n",
      "8124      Hyundai           Verna CRDi SX  \n",
      "8125       Maruti         Swift Dzire ZDi  \n",
      "8126         Tata              Indigo CR4  \n",
      "8127         Tata              Indigo CR4  \n",
      "\n",
      "[8128 rows x 13 columns]\n"
     ]
    }
   ],
   "source": [
    "print (df)"
   ]
  },
  {
   "cell_type": "code",
   "execution_count": 9,
   "id": "7bd8c254",
   "metadata": {},
   "outputs": [
    {
     "name": "stdout",
     "output_type": "stream",
     "text": [
      "<class 'pandas.core.frame.DataFrame'>\n",
      "RangeIndex: 8128 entries, 0 to 8127\n",
      "Data columns (total 13 columns):\n",
      " #   Column         Non-Null Count  Dtype  \n",
      "---  ------         --------------  -----  \n",
      " 0   year           8128 non-null   int64  \n",
      " 1   selling_price  8128 non-null   int64  \n",
      " 2   km_driven      8128 non-null   int64  \n",
      " 3   fuel           8128 non-null   object \n",
      " 4   seller_type    8128 non-null   object \n",
      " 5   transmission   8128 non-null   object \n",
      " 6   owner          8128 non-null   object \n",
      " 7   mileage        7907 non-null   object \n",
      " 8   engine         7907 non-null   object \n",
      " 9   max_power      7913 non-null   object \n",
      " 10  seats          7907 non-null   float64\n",
      " 11  company_name   8128 non-null   object \n",
      " 12  model_name     8128 non-null   object \n",
      "dtypes: float64(1), int64(3), object(9)\n",
      "memory usage: 825.6+ KB\n"
     ]
    }
   ],
   "source": [
    "df.info()"
   ]
  },
  {
   "cell_type": "code",
   "execution_count": 10,
   "id": "e7d5af91",
   "metadata": {},
   "outputs": [],
   "source": [
    "df['mileage (kmpl)'] = df['mileage']\n",
    "df.drop('mileage', inplace=True, axis=1)\n",
    "df['mileage (kmpl)']=df['mileage (kmpl)'].str.split(' ').str.get(0)\n",
    "\n",
    "df['engine (cc)'] = df['engine']\n",
    "df.drop('engine', inplace=True, axis=1)\n",
    "df['engine (cc)']=df['engine (cc)'].str.split(' ').str.get(0)\n",
    "\n",
    "df['max_power (bhp)'] = df['max_power']\n",
    "df.drop('max_power', inplace=True, axis=1)\n",
    "df['max_power (bhp)']=df['max_power (bhp)'].str.split(' ').str.get(0)"
   ]
  },
  {
   "cell_type": "code",
   "execution_count": 11,
   "id": "9542dcee",
   "metadata": {},
   "outputs": [
    {
     "name": "stdout",
     "output_type": "stream",
     "text": [
      "      year  selling_price  km_driven    fuel seller_type transmission  \\\n",
      "0     2014         450000     145500  Diesel  Individual       Manual   \n",
      "1     2014         370000     120000  Diesel  Individual       Manual   \n",
      "2     2006         158000     140000  Petrol  Individual       Manual   \n",
      "3     2010         225000     127000  Diesel  Individual       Manual   \n",
      "4     2007         130000     120000  Petrol  Individual       Manual   \n",
      "...    ...            ...        ...     ...         ...          ...   \n",
      "8123  2013         320000     110000  Petrol  Individual       Manual   \n",
      "8124  2007         135000     119000  Diesel  Individual       Manual   \n",
      "8125  2009         382000     120000  Diesel  Individual       Manual   \n",
      "8126  2013         290000      25000  Diesel  Individual       Manual   \n",
      "8127  2013         290000      25000  Diesel  Individual       Manual   \n",
      "\n",
      "                     owner  seats company_name              model_name  \\\n",
      "0              First Owner    5.0       Maruti         Swift Dzire VDI   \n",
      "1             Second Owner    5.0        Skoda  Rapid 1.5 TDI Ambition   \n",
      "2              Third Owner    5.0        Honda      City 2017-2020 EXi   \n",
      "3              First Owner    5.0      Hyundai       i20 Sportz Diesel   \n",
      "4              First Owner    5.0       Maruti         Swift VXI BSIII   \n",
      "...                    ...    ...          ...                     ...   \n",
      "8123           First Owner    5.0      Hyundai               i20 Magna   \n",
      "8124  Fourth & Above Owner    5.0      Hyundai           Verna CRDi SX   \n",
      "8125           First Owner    5.0       Maruti         Swift Dzire ZDi   \n",
      "8126           First Owner    5.0         Tata              Indigo CR4   \n",
      "8127           First Owner    5.0         Tata              Indigo CR4   \n",
      "\n",
      "     mileage (kmpl) engine (cc) max_power (bhp)  \n",
      "0              23.4        1248              74  \n",
      "1             21.14        1498          103.52  \n",
      "2              17.7        1497              78  \n",
      "3              23.0        1396              90  \n",
      "4              16.1        1298            88.2  \n",
      "...             ...         ...             ...  \n",
      "8123           18.5        1197           82.85  \n",
      "8124           16.8        1493             110  \n",
      "8125           19.3        1248            73.9  \n",
      "8126          23.57        1396              70  \n",
      "8127          23.57        1396              70  \n",
      "\n",
      "[8128 rows x 13 columns]\n"
     ]
    }
   ],
   "source": [
    "print (df)"
   ]
  },
  {
   "cell_type": "code",
   "execution_count": 12,
   "id": "ce360376",
   "metadata": {},
   "outputs": [
    {
     "name": "stdout",
     "output_type": "stream",
     "text": [
      "<class 'pandas.core.frame.DataFrame'>\n",
      "RangeIndex: 8128 entries, 0 to 8127\n",
      "Data columns (total 13 columns):\n",
      " #   Column           Non-Null Count  Dtype  \n",
      "---  ------           --------------  -----  \n",
      " 0   year             8128 non-null   int64  \n",
      " 1   selling_price    8128 non-null   int64  \n",
      " 2   km_driven        8128 non-null   int64  \n",
      " 3   fuel             8128 non-null   object \n",
      " 4   seller_type      8128 non-null   object \n",
      " 5   transmission     8128 non-null   object \n",
      " 6   owner            8128 non-null   object \n",
      " 7   seats            7907 non-null   float64\n",
      " 8   company_name     8128 non-null   object \n",
      " 9   model_name       8128 non-null   object \n",
      " 10  mileage (kmpl)   7907 non-null   object \n",
      " 11  engine (cc)      7907 non-null   object \n",
      " 12  max_power (bhp)  7913 non-null   object \n",
      "dtypes: float64(1), int64(3), object(9)\n",
      "memory usage: 825.6+ KB\n"
     ]
    }
   ],
   "source": [
    "df.info()"
   ]
  },
  {
   "cell_type": "code",
   "execution_count": 13,
   "id": "810863df",
   "metadata": {},
   "outputs": [
    {
     "data": {
      "text/plain": [
       "0        True\n",
       "1       False\n",
       "2        True\n",
       "3        True\n",
       "4       False\n",
       "        ...  \n",
       "8123    False\n",
       "8124     True\n",
       "8125    False\n",
       "8126     True\n",
       "8127     True\n",
       "Name: max_power (bhp), Length: 8128, dtype: object"
      ]
     },
     "execution_count": 13,
     "metadata": {},
     "output_type": "execute_result"
    }
   ],
   "source": [
    "##df['engine (cc)'].str.isnumeric()\n",
    "df['max_power (bhp)'].str.isnumeric()\n",
    "##df['mileage (kmpl)'].str.isnumeric()\n",
    "\n",
    "##problems\n",
    "##max_power and mileage contains decimel points....system does not recognise it as a numerical value stored in string\n",
    "##all 3 values needs to be converted in integer or double"
   ]
  },
  {
   "cell_type": "code",
   "execution_count": 14,
   "id": "c0756846",
   "metadata": {},
   "outputs": [],
   "source": [
    "df['engine (cc)']=df['engine (cc)'].str.replace(' ','')"
   ]
  },
  {
   "cell_type": "code",
   "execution_count": 15,
   "id": "229a27cb",
   "metadata": {},
   "outputs": [],
   "source": [
    "df['engine (cc)']=df['engine (cc)'].astype(float)"
   ]
  },
  {
   "cell_type": "code",
   "execution_count": 16,
   "id": "b41e71af",
   "metadata": {},
   "outputs": [
    {
     "name": "stdout",
     "output_type": "stream",
     "text": [
      "<class 'pandas.core.frame.DataFrame'>\n",
      "RangeIndex: 8128 entries, 0 to 8127\n",
      "Data columns (total 13 columns):\n",
      " #   Column           Non-Null Count  Dtype  \n",
      "---  ------           --------------  -----  \n",
      " 0   year             8128 non-null   int64  \n",
      " 1   selling_price    8128 non-null   int64  \n",
      " 2   km_driven        8128 non-null   int64  \n",
      " 3   fuel             8128 non-null   object \n",
      " 4   seller_type      8128 non-null   object \n",
      " 5   transmission     8128 non-null   object \n",
      " 6   owner            8128 non-null   object \n",
      " 7   seats            7907 non-null   float64\n",
      " 8   company_name     8128 non-null   object \n",
      " 9   model_name       8128 non-null   object \n",
      " 10  mileage (kmpl)   7907 non-null   object \n",
      " 11  engine (cc)      7907 non-null   float64\n",
      " 12  max_power (bhp)  7913 non-null   object \n",
      "dtypes: float64(2), int64(3), object(8)\n",
      "memory usage: 825.6+ KB\n"
     ]
    }
   ],
   "source": [
    "df.info()"
   ]
  },
  {
   "cell_type": "code",
   "execution_count": 17,
   "id": "694c5ec6",
   "metadata": {},
   "outputs": [],
   "source": [
    "df['mileage (kmpl)']=df['mileage (kmpl)'].str.replace(' ','')"
   ]
  },
  {
   "cell_type": "code",
   "execution_count": 18,
   "id": "1870bb5b",
   "metadata": {},
   "outputs": [
    {
     "name": "stdout",
     "output_type": "stream",
     "text": [
      "      year  selling_price  km_driven    fuel seller_type transmission  \\\n",
      "0     2014         450000     145500  Diesel  Individual       Manual   \n",
      "1     2014         370000     120000  Diesel  Individual       Manual   \n",
      "2     2006         158000     140000  Petrol  Individual       Manual   \n",
      "3     2010         225000     127000  Diesel  Individual       Manual   \n",
      "4     2007         130000     120000  Petrol  Individual       Manual   \n",
      "...    ...            ...        ...     ...         ...          ...   \n",
      "8123  2013         320000     110000  Petrol  Individual       Manual   \n",
      "8124  2007         135000     119000  Diesel  Individual       Manual   \n",
      "8125  2009         382000     120000  Diesel  Individual       Manual   \n",
      "8126  2013         290000      25000  Diesel  Individual       Manual   \n",
      "8127  2013         290000      25000  Diesel  Individual       Manual   \n",
      "\n",
      "                     owner  seats company_name              model_name  \\\n",
      "0              First Owner    5.0       Maruti         Swift Dzire VDI   \n",
      "1             Second Owner    5.0        Skoda  Rapid 1.5 TDI Ambition   \n",
      "2              Third Owner    5.0        Honda      City 2017-2020 EXi   \n",
      "3              First Owner    5.0      Hyundai       i20 Sportz Diesel   \n",
      "4              First Owner    5.0       Maruti         Swift VXI BSIII   \n",
      "...                    ...    ...          ...                     ...   \n",
      "8123           First Owner    5.0      Hyundai               i20 Magna   \n",
      "8124  Fourth & Above Owner    5.0      Hyundai           Verna CRDi SX   \n",
      "8125           First Owner    5.0       Maruti         Swift Dzire ZDi   \n",
      "8126           First Owner    5.0         Tata              Indigo CR4   \n",
      "8127           First Owner    5.0         Tata              Indigo CR4   \n",
      "\n",
      "      mileage (kmpl)  engine (cc) max_power (bhp)  \n",
      "0              23.40       1248.0              74  \n",
      "1              21.14       1498.0          103.52  \n",
      "2              17.70       1497.0              78  \n",
      "3              23.00       1396.0              90  \n",
      "4              16.10       1298.0            88.2  \n",
      "...              ...          ...             ...  \n",
      "8123           18.50       1197.0           82.85  \n",
      "8124           16.80       1493.0             110  \n",
      "8125           19.30       1248.0            73.9  \n",
      "8126           23.57       1396.0              70  \n",
      "8127           23.57       1396.0              70  \n",
      "\n",
      "[8128 rows x 13 columns]\n"
     ]
    }
   ],
   "source": [
    "df['mileage (kmpl)']=df['mileage (kmpl)'].astype(float)\n",
    "print (df)"
   ]
  },
  {
   "cell_type": "code",
   "execution_count": 19,
   "id": "d60ec07e",
   "metadata": {},
   "outputs": [
    {
     "data": {
      "text/plain": [
       "0        True\n",
       "1       False\n",
       "2        True\n",
       "3        True\n",
       "4       False\n",
       "        ...  \n",
       "8123    False\n",
       "8124     True\n",
       "8125    False\n",
       "8126     True\n",
       "8127     True\n",
       "Name: max_power (bhp), Length: 8128, dtype: object"
      ]
     },
     "execution_count": 19,
     "metadata": {},
     "output_type": "execute_result"
    }
   ],
   "source": [
    "df['max_power (bhp)']=df['max_power (bhp)'].str.replace(' ','')\n",
    "df['max_power (bhp)'].str.isnumeric()"
   ]
  },
  {
   "cell_type": "code",
   "execution_count": 20,
   "id": "e1b1f429",
   "metadata": {},
   "outputs": [
    {
     "name": "stdout",
     "output_type": "stream",
     "text": [
      "      year  selling_price  km_driven    fuel seller_type transmission  \\\n",
      "0     2014         450000     145500  Diesel  Individual       Manual   \n",
      "1     2014         370000     120000  Diesel  Individual       Manual   \n",
      "2     2006         158000     140000  Petrol  Individual       Manual   \n",
      "3     2010         225000     127000  Diesel  Individual       Manual   \n",
      "4     2007         130000     120000  Petrol  Individual       Manual   \n",
      "...    ...            ...        ...     ...         ...          ...   \n",
      "8123  2013         320000     110000  Petrol  Individual       Manual   \n",
      "8124  2007         135000     119000  Diesel  Individual       Manual   \n",
      "8125  2009         382000     120000  Diesel  Individual       Manual   \n",
      "8126  2013         290000      25000  Diesel  Individual       Manual   \n",
      "8127  2013         290000      25000  Diesel  Individual       Manual   \n",
      "\n",
      "                     owner  seats company_name              model_name  \\\n",
      "0              First Owner    5.0       Maruti         Swift Dzire VDI   \n",
      "1             Second Owner    5.0        Skoda  Rapid 1.5 TDI Ambition   \n",
      "2              Third Owner    5.0        Honda      City 2017-2020 EXi   \n",
      "3              First Owner    5.0      Hyundai       i20 Sportz Diesel   \n",
      "4              First Owner    5.0       Maruti         Swift VXI BSIII   \n",
      "...                    ...    ...          ...                     ...   \n",
      "8123           First Owner    5.0      Hyundai               i20 Magna   \n",
      "8124  Fourth & Above Owner    5.0      Hyundai           Verna CRDi SX   \n",
      "8125           First Owner    5.0       Maruti         Swift Dzire ZDi   \n",
      "8126           First Owner    5.0         Tata              Indigo CR4   \n",
      "8127           First Owner    5.0         Tata              Indigo CR4   \n",
      "\n",
      "      mileage (kmpl)  engine (cc) max_power (bhp)  \n",
      "0              23.40       1248.0              74  \n",
      "1              21.14       1498.0          103.52  \n",
      "2              17.70       1497.0              78  \n",
      "3              23.00       1396.0              90  \n",
      "4              16.10       1298.0            88.2  \n",
      "...              ...          ...             ...  \n",
      "8123           18.50       1197.0           82.85  \n",
      "8124           16.80       1493.0             110  \n",
      "8125           19.30       1248.0            73.9  \n",
      "8126           23.57       1396.0              70  \n",
      "8127           23.57       1396.0              70  \n",
      "\n",
      "[8128 rows x 13 columns]\n"
     ]
    }
   ],
   "source": [
    "print (df)"
   ]
  },
  {
   "cell_type": "code",
   "execution_count": 21,
   "id": "cc7078f8",
   "metadata": {},
   "outputs": [
    {
     "name": "stdout",
     "output_type": "stream",
     "text": [
      "<class 'pandas.core.frame.DataFrame'>\n",
      "RangeIndex: 8128 entries, 0 to 8127\n",
      "Data columns (total 13 columns):\n",
      " #   Column           Non-Null Count  Dtype  \n",
      "---  ------           --------------  -----  \n",
      " 0   year             8128 non-null   int64  \n",
      " 1   selling_price    8128 non-null   int64  \n",
      " 2   km_driven        8128 non-null   int64  \n",
      " 3   fuel             8128 non-null   object \n",
      " 4   seller_type      8128 non-null   object \n",
      " 5   transmission     8128 non-null   object \n",
      " 6   owner            8128 non-null   object \n",
      " 7   seats            7907 non-null   float64\n",
      " 8   company_name     8128 non-null   object \n",
      " 9   model_name       8128 non-null   object \n",
      " 10  mileage (kmpl)   7907 non-null   float64\n",
      " 11  engine (cc)      7907 non-null   float64\n",
      " 12  max_power (bhp)  7913 non-null   object \n",
      "dtypes: float64(3), int64(3), object(7)\n",
      "memory usage: 825.6+ KB\n"
     ]
    }
   ],
   "source": [
    "df.info()"
   ]
  },
  {
   "cell_type": "code",
   "execution_count": null,
   "id": "d7b8e6d6",
   "metadata": {},
   "outputs": [],
   "source": []
  },
  {
   "cell_type": "code",
   "execution_count": 22,
   "id": "4bad55cf",
   "metadata": {},
   "outputs": [
    {
     "name": "stdout",
     "output_type": "stream",
     "text": [
      "      year  selling_price  km_driven    fuel seller_type transmission  \\\n",
      "0     2014         450000     145500  Diesel  Individual       Manual   \n",
      "1     2014         370000     120000  Diesel  Individual       Manual   \n",
      "2     2006         158000     140000  Petrol  Individual       Manual   \n",
      "3     2010         225000     127000  Diesel  Individual       Manual   \n",
      "4     2007         130000     120000  Petrol  Individual       Manual   \n",
      "...    ...            ...        ...     ...         ...          ...   \n",
      "8123  2013         320000     110000  Petrol  Individual       Manual   \n",
      "8124  2007         135000     119000  Diesel  Individual       Manual   \n",
      "8125  2009         382000     120000  Diesel  Individual       Manual   \n",
      "8126  2013         290000      25000  Diesel  Individual       Manual   \n",
      "8127  2013         290000      25000  Diesel  Individual       Manual   \n",
      "\n",
      "                     owner  seats company_name              model_name  \\\n",
      "0              First Owner    5.0       Maruti         Swift Dzire VDI   \n",
      "1             Second Owner    5.0        Skoda  Rapid 1.5 TDI Ambition   \n",
      "2              Third Owner    5.0        Honda      City 2017-2020 EXi   \n",
      "3              First Owner    5.0      Hyundai       i20 Sportz Diesel   \n",
      "4              First Owner    5.0       Maruti         Swift VXI BSIII   \n",
      "...                    ...    ...          ...                     ...   \n",
      "8123           First Owner    5.0      Hyundai               i20 Magna   \n",
      "8124  Fourth & Above Owner    5.0      Hyundai           Verna CRDi SX   \n",
      "8125           First Owner    5.0       Maruti         Swift Dzire ZDi   \n",
      "8126           First Owner    5.0         Tata              Indigo CR4   \n",
      "8127           First Owner    5.0         Tata              Indigo CR4   \n",
      "\n",
      "      mileage (kmpl)  engine (cc) max_power (bhp)  \n",
      "0              23.40       1248.0              74  \n",
      "1              21.14       1498.0          103.52  \n",
      "2              17.70       1497.0              78  \n",
      "3              23.00       1396.0              90  \n",
      "4              16.10       1298.0            88.2  \n",
      "...              ...          ...             ...  \n",
      "8123           18.50       1197.0           82.85  \n",
      "8124           16.80       1493.0             110  \n",
      "8125           19.30       1248.0            73.9  \n",
      "8126           23.57       1396.0              70  \n",
      "8127           23.57       1396.0              70  \n",
      "\n",
      "[8128 rows x 13 columns]\n"
     ]
    }
   ],
   "source": [
    "print(df)"
   ]
  },
  {
   "cell_type": "code",
   "execution_count": 23,
   "id": "c01e2699",
   "metadata": {},
   "outputs": [
    {
     "name": "stdout",
     "output_type": "stream",
     "text": [
      "<class 'pandas.core.frame.DataFrame'>\n",
      "RangeIndex: 8128 entries, 0 to 8127\n",
      "Data columns (total 13 columns):\n",
      " #   Column           Non-Null Count  Dtype  \n",
      "---  ------           --------------  -----  \n",
      " 0   year             8128 non-null   int64  \n",
      " 1   selling_price    8128 non-null   int64  \n",
      " 2   km_driven        8128 non-null   int64  \n",
      " 3   fuel             8128 non-null   object \n",
      " 4   seller_type      8128 non-null   object \n",
      " 5   transmission     8128 non-null   object \n",
      " 6   owner            8128 non-null   object \n",
      " 7   seats            7907 non-null   float64\n",
      " 8   company_name     8128 non-null   object \n",
      " 9   model_name       8128 non-null   object \n",
      " 10  mileage (kmpl)   7907 non-null   float64\n",
      " 11  engine (cc)      7907 non-null   float64\n",
      " 12  max_power (bhp)  7913 non-null   object \n",
      "dtypes: float64(3), int64(3), object(7)\n",
      "memory usage: 825.6+ KB\n"
     ]
    }
   ],
   "source": [
    "df.info()"
   ]
  },
  {
   "cell_type": "code",
   "execution_count": 24,
   "id": "49a978d1",
   "metadata": {},
   "outputs": [],
   "source": [
    "df['max_power (bhp)'] = pd.to_numeric(df['max_power (bhp)'])  \n"
   ]
  },
  {
   "cell_type": "code",
   "execution_count": 25,
   "id": "a0967d7b",
   "metadata": {},
   "outputs": [
    {
     "name": "stdout",
     "output_type": "stream",
     "text": [
      "<class 'pandas.core.frame.DataFrame'>\n",
      "RangeIndex: 8128 entries, 0 to 8127\n",
      "Data columns (total 13 columns):\n",
      " #   Column           Non-Null Count  Dtype  \n",
      "---  ------           --------------  -----  \n",
      " 0   year             8128 non-null   int64  \n",
      " 1   selling_price    8128 non-null   int64  \n",
      " 2   km_driven        8128 non-null   int64  \n",
      " 3   fuel             8128 non-null   object \n",
      " 4   seller_type      8128 non-null   object \n",
      " 5   transmission     8128 non-null   object \n",
      " 6   owner            8128 non-null   object \n",
      " 7   seats            7907 non-null   float64\n",
      " 8   company_name     8128 non-null   object \n",
      " 9   model_name       8128 non-null   object \n",
      " 10  mileage (kmpl)   7907 non-null   float64\n",
      " 11  engine (cc)      7907 non-null   float64\n",
      " 12  max_power (bhp)  7912 non-null   float64\n",
      "dtypes: float64(4), int64(3), object(6)\n",
      "memory usage: 825.6+ KB\n"
     ]
    }
   ],
   "source": [
    "df.info()"
   ]
  },
  {
   "cell_type": "code",
   "execution_count": 26,
   "id": "b34111fd",
   "metadata": {},
   "outputs": [],
   "source": [
    "df=df.dropna()\n",
    "df=df.reset_index(drop=True)\n"
   ]
  },
  {
   "cell_type": "code",
   "execution_count": 27,
   "id": "e6e11448",
   "metadata": {},
   "outputs": [
    {
     "name": "stdout",
     "output_type": "stream",
     "text": [
      "<class 'pandas.core.frame.DataFrame'>\n",
      "RangeIndex: 7906 entries, 0 to 7905\n",
      "Data columns (total 13 columns):\n",
      " #   Column           Non-Null Count  Dtype  \n",
      "---  ------           --------------  -----  \n",
      " 0   year             7906 non-null   int64  \n",
      " 1   selling_price    7906 non-null   int64  \n",
      " 2   km_driven        7906 non-null   int64  \n",
      " 3   fuel             7906 non-null   object \n",
      " 4   seller_type      7906 non-null   object \n",
      " 5   transmission     7906 non-null   object \n",
      " 6   owner            7906 non-null   object \n",
      " 7   seats            7906 non-null   float64\n",
      " 8   company_name     7906 non-null   object \n",
      " 9   model_name       7906 non-null   object \n",
      " 10  mileage (kmpl)   7906 non-null   float64\n",
      " 11  engine (cc)      7906 non-null   float64\n",
      " 12  max_power (bhp)  7906 non-null   float64\n",
      "dtypes: float64(4), int64(3), object(6)\n",
      "memory usage: 803.1+ KB\n"
     ]
    }
   ],
   "source": [
    "df.info()"
   ]
  },
  {
   "cell_type": "code",
   "execution_count": 28,
   "id": "2f8b9e9e",
   "metadata": {},
   "outputs": [],
   "source": [
    "df['fuel']=df['fuel'].str.lower()\n",
    "df['seller_type']=df['seller_type'].str.lower()\n",
    "df['transmission']=df['transmission'].str.lower()\n",
    "df['owner']=df['owner'].str.lower()\n",
    "df['company_name']=df['company_name'].str.lower()\n",
    "df['model_name']=df['model_name'].str.lower()"
   ]
  },
  {
   "cell_type": "code",
   "execution_count": 29,
   "id": "6470238c",
   "metadata": {
    "scrolled": true
   },
   "outputs": [
    {
     "name": "stdout",
     "output_type": "stream",
     "text": [
      "      year  selling_price  km_driven    fuel seller_type transmission  \\\n",
      "0     2014         450000     145500  diesel  individual       manual   \n",
      "1     2014         370000     120000  diesel  individual       manual   \n",
      "2     2006         158000     140000  petrol  individual       manual   \n",
      "3     2010         225000     127000  diesel  individual       manual   \n",
      "4     2007         130000     120000  petrol  individual       manual   \n",
      "...    ...            ...        ...     ...         ...          ...   \n",
      "7901  2013         320000     110000  petrol  individual       manual   \n",
      "7902  2007         135000     119000  diesel  individual       manual   \n",
      "7903  2009         382000     120000  diesel  individual       manual   \n",
      "7904  2013         290000      25000  diesel  individual       manual   \n",
      "7905  2013         290000      25000  diesel  individual       manual   \n",
      "\n",
      "                     owner  seats company_name              model_name  \\\n",
      "0              first owner    5.0       maruti         swift dzire vdi   \n",
      "1             second owner    5.0        skoda  rapid 1.5 tdi ambition   \n",
      "2              third owner    5.0        honda      city 2017-2020 exi   \n",
      "3              first owner    5.0      hyundai       i20 sportz diesel   \n",
      "4              first owner    5.0       maruti         swift vxi bsiii   \n",
      "...                    ...    ...          ...                     ...   \n",
      "7901           first owner    5.0      hyundai               i20 magna   \n",
      "7902  fourth & above owner    5.0      hyundai           verna crdi sx   \n",
      "7903           first owner    5.0       maruti         swift dzire zdi   \n",
      "7904           first owner    5.0         tata              indigo cr4   \n",
      "7905           first owner    5.0         tata              indigo cr4   \n",
      "\n",
      "      mileage (kmpl)  engine (cc)  max_power (bhp)  \n",
      "0              23.40       1248.0            74.00  \n",
      "1              21.14       1498.0           103.52  \n",
      "2              17.70       1497.0            78.00  \n",
      "3              23.00       1396.0            90.00  \n",
      "4              16.10       1298.0            88.20  \n",
      "...              ...          ...              ...  \n",
      "7901           18.50       1197.0            82.85  \n",
      "7902           16.80       1493.0           110.00  \n",
      "7903           19.30       1248.0            73.90  \n",
      "7904           23.57       1396.0            70.00  \n",
      "7905           23.57       1396.0            70.00  \n",
      "\n",
      "[7906 rows x 13 columns]\n"
     ]
    }
   ],
   "source": [
    "print(df)"
   ]
  },
  {
   "cell_type": "markdown",
   "id": "844e37df",
   "metadata": {},
   "source": [
    "data cleaning over"
   ]
  },
  {
   "cell_type": "code",
   "execution_count": 30,
   "id": "3b4408c8",
   "metadata": {},
   "outputs": [
    {
     "data": {
      "text/plain": [
       "year               0\n",
       "selling_price      0\n",
       "km_driven          0\n",
       "fuel               0\n",
       "seller_type        0\n",
       "transmission       0\n",
       "owner              0\n",
       "seats              0\n",
       "company_name       0\n",
       "model_name         0\n",
       "mileage (kmpl)     0\n",
       "engine (cc)        0\n",
       "max_power (bhp)    0\n",
       "dtype: int64"
      ]
     },
     "execution_count": 30,
     "metadata": {},
     "output_type": "execute_result"
    }
   ],
   "source": [
    "df.isnull().sum()"
   ]
  },
  {
   "cell_type": "code",
   "execution_count": 31,
   "id": "4cb57a4d",
   "metadata": {},
   "outputs": [],
   "source": [
    "import matplotlib.pyplot as plt\n",
    "import seaborn as sns\n",
    "from sklearn.model_selection import train_test_split\n",
    "from sklearn.linear_model import LinearRegression\n",
    "from sklearn.linear_model import Lasso\n",
    "from sklearn import metrics"
   ]
  },
  {
   "cell_type": "code",
   "execution_count": 32,
   "id": "8303aa40",
   "metadata": {},
   "outputs": [
    {
     "name": "stdout",
     "output_type": "stream",
     "text": [
      "      year  selling_price  km_driven    fuel seller_type transmission  \\\n",
      "0     2014         450000     145500  diesel  individual       manual   \n",
      "1     2014         370000     120000  diesel  individual       manual   \n",
      "2     2006         158000     140000  petrol  individual       manual   \n",
      "3     2010         225000     127000  diesel  individual       manual   \n",
      "4     2007         130000     120000  petrol  individual       manual   \n",
      "...    ...            ...        ...     ...         ...          ...   \n",
      "7901  2013         320000     110000  petrol  individual       manual   \n",
      "7902  2007         135000     119000  diesel  individual       manual   \n",
      "7903  2009         382000     120000  diesel  individual       manual   \n",
      "7904  2013         290000      25000  diesel  individual       manual   \n",
      "7905  2013         290000      25000  diesel  individual       manual   \n",
      "\n",
      "                     owner  seats company_name              model_name  \\\n",
      "0              first owner    5.0       maruti         swift dzire vdi   \n",
      "1             second owner    5.0        skoda  rapid 1.5 tdi ambition   \n",
      "2              third owner    5.0        honda      city 2017-2020 exi   \n",
      "3              first owner    5.0      hyundai       i20 sportz diesel   \n",
      "4              first owner    5.0       maruti         swift vxi bsiii   \n",
      "...                    ...    ...          ...                     ...   \n",
      "7901           first owner    5.0      hyundai               i20 magna   \n",
      "7902  fourth & above owner    5.0      hyundai           verna crdi sx   \n",
      "7903           first owner    5.0       maruti         swift dzire zdi   \n",
      "7904           first owner    5.0         tata              indigo cr4   \n",
      "7905           first owner    5.0         tata              indigo cr4   \n",
      "\n",
      "      mileage (kmpl)  engine (cc)  max_power (bhp)  \n",
      "0              23.40       1248.0            74.00  \n",
      "1              21.14       1498.0           103.52  \n",
      "2              17.70       1497.0            78.00  \n",
      "3              23.00       1396.0            90.00  \n",
      "4              16.10       1298.0            88.20  \n",
      "...              ...          ...              ...  \n",
      "7901           18.50       1197.0            82.85  \n",
      "7902           16.80       1493.0           110.00  \n",
      "7903           19.30       1248.0            73.90  \n",
      "7904           23.57       1396.0            70.00  \n",
      "7905           23.57       1396.0            70.00  \n",
      "\n",
      "[7906 rows x 13 columns]\n"
     ]
    }
   ],
   "source": [
    "print(df)"
   ]
  },
  {
   "cell_type": "code",
   "execution_count": 33,
   "id": "21af2998",
   "metadata": {},
   "outputs": [
    {
     "name": "stdout",
     "output_type": "stream",
     "text": [
      "diesel    4299\n",
      "petrol    3520\n",
      "cng         52\n",
      "lpg         35\n",
      "Name: fuel, dtype: int64\n"
     ]
    }
   ],
   "source": [
    "print(df.fuel.value_counts())"
   ]
  },
  {
   "cell_type": "code",
   "execution_count": 34,
   "id": "c1f2af6f",
   "metadata": {},
   "outputs": [],
   "source": [
    "df.replace({'fuel':{'petrol':0,'diesel':1,'cng':2,'lpg':3}},inplace=True)"
   ]
  },
  {
   "cell_type": "code",
   "execution_count": 35,
   "id": "02fff3d9",
   "metadata": {},
   "outputs": [
    {
     "name": "stdout",
     "output_type": "stream",
     "text": [
      "      year  selling_price  km_driven  fuel seller_type transmission  \\\n",
      "0     2014         450000     145500     1  individual       manual   \n",
      "1     2014         370000     120000     1  individual       manual   \n",
      "2     2006         158000     140000     0  individual       manual   \n",
      "3     2010         225000     127000     1  individual       manual   \n",
      "4     2007         130000     120000     0  individual       manual   \n",
      "...    ...            ...        ...   ...         ...          ...   \n",
      "7901  2013         320000     110000     0  individual       manual   \n",
      "7902  2007         135000     119000     1  individual       manual   \n",
      "7903  2009         382000     120000     1  individual       manual   \n",
      "7904  2013         290000      25000     1  individual       manual   \n",
      "7905  2013         290000      25000     1  individual       manual   \n",
      "\n",
      "                     owner  seats company_name              model_name  \\\n",
      "0              first owner    5.0       maruti         swift dzire vdi   \n",
      "1             second owner    5.0        skoda  rapid 1.5 tdi ambition   \n",
      "2              third owner    5.0        honda      city 2017-2020 exi   \n",
      "3              first owner    5.0      hyundai       i20 sportz diesel   \n",
      "4              first owner    5.0       maruti         swift vxi bsiii   \n",
      "...                    ...    ...          ...                     ...   \n",
      "7901           first owner    5.0      hyundai               i20 magna   \n",
      "7902  fourth & above owner    5.0      hyundai           verna crdi sx   \n",
      "7903           first owner    5.0       maruti         swift dzire zdi   \n",
      "7904           first owner    5.0         tata              indigo cr4   \n",
      "7905           first owner    5.0         tata              indigo cr4   \n",
      "\n",
      "      mileage (kmpl)  engine (cc)  max_power (bhp)  \n",
      "0              23.40       1248.0            74.00  \n",
      "1              21.14       1498.0           103.52  \n",
      "2              17.70       1497.0            78.00  \n",
      "3              23.00       1396.0            90.00  \n",
      "4              16.10       1298.0            88.20  \n",
      "...              ...          ...              ...  \n",
      "7901           18.50       1197.0            82.85  \n",
      "7902           16.80       1493.0           110.00  \n",
      "7903           19.30       1248.0            73.90  \n",
      "7904           23.57       1396.0            70.00  \n",
      "7905           23.57       1396.0            70.00  \n",
      "\n",
      "[7906 rows x 13 columns]\n"
     ]
    }
   ],
   "source": [
    "print(df)"
   ]
  },
  {
   "cell_type": "code",
   "execution_count": 36,
   "id": "62bf6a56",
   "metadata": {},
   "outputs": [
    {
     "name": "stdout",
     "output_type": "stream",
     "text": [
      "individual          6563\n",
      "dealer              1107\n",
      "trustmark dealer     236\n",
      "Name: seller_type, dtype: int64\n"
     ]
    }
   ],
   "source": [
    "print(df.seller_type.value_counts())"
   ]
  },
  {
   "cell_type": "code",
   "execution_count": 37,
   "id": "7f3c98c0",
   "metadata": {},
   "outputs": [],
   "source": [
    "df.replace({'seller_type':{'individual':0,'dealer':1,'trustmark dealer':2}},inplace=True)"
   ]
  },
  {
   "cell_type": "code",
   "execution_count": 38,
   "id": "aed7c172",
   "metadata": {},
   "outputs": [
    {
     "name": "stdout",
     "output_type": "stream",
     "text": [
      "manual       6865\n",
      "automatic    1041\n",
      "Name: transmission, dtype: int64\n"
     ]
    }
   ],
   "source": [
    "print(df.transmission.value_counts())"
   ]
  },
  {
   "cell_type": "code",
   "execution_count": 39,
   "id": "64dd835e",
   "metadata": {},
   "outputs": [],
   "source": [
    "df.replace({'transmission':{'manual':0,'automatic':1}},inplace=True)"
   ]
  },
  {
   "cell_type": "code",
   "execution_count": 40,
   "id": "328c6ef3",
   "metadata": {
    "scrolled": true
   },
   "outputs": [
    {
     "name": "stdout",
     "output_type": "stream",
     "text": [
      "      year  selling_price  km_driven  fuel  seller_type  transmission  \\\n",
      "0     2014         450000     145500     1            0             0   \n",
      "1     2014         370000     120000     1            0             0   \n",
      "2     2006         158000     140000     0            0             0   \n",
      "3     2010         225000     127000     1            0             0   \n",
      "4     2007         130000     120000     0            0             0   \n",
      "...    ...            ...        ...   ...          ...           ...   \n",
      "7901  2013         320000     110000     0            0             0   \n",
      "7902  2007         135000     119000     1            0             0   \n",
      "7903  2009         382000     120000     1            0             0   \n",
      "7904  2013         290000      25000     1            0             0   \n",
      "7905  2013         290000      25000     1            0             0   \n",
      "\n",
      "                     owner  seats company_name              model_name  \\\n",
      "0              first owner    5.0       maruti         swift dzire vdi   \n",
      "1             second owner    5.0        skoda  rapid 1.5 tdi ambition   \n",
      "2              third owner    5.0        honda      city 2017-2020 exi   \n",
      "3              first owner    5.0      hyundai       i20 sportz diesel   \n",
      "4              first owner    5.0       maruti         swift vxi bsiii   \n",
      "...                    ...    ...          ...                     ...   \n",
      "7901           first owner    5.0      hyundai               i20 magna   \n",
      "7902  fourth & above owner    5.0      hyundai           verna crdi sx   \n",
      "7903           first owner    5.0       maruti         swift dzire zdi   \n",
      "7904           first owner    5.0         tata              indigo cr4   \n",
      "7905           first owner    5.0         tata              indigo cr4   \n",
      "\n",
      "      mileage (kmpl)  engine (cc)  max_power (bhp)  \n",
      "0              23.40       1248.0            74.00  \n",
      "1              21.14       1498.0           103.52  \n",
      "2              17.70       1497.0            78.00  \n",
      "3              23.00       1396.0            90.00  \n",
      "4              16.10       1298.0            88.20  \n",
      "...              ...          ...              ...  \n",
      "7901           18.50       1197.0            82.85  \n",
      "7902           16.80       1493.0           110.00  \n",
      "7903           19.30       1248.0            73.90  \n",
      "7904           23.57       1396.0            70.00  \n",
      "7905           23.57       1396.0            70.00  \n",
      "\n",
      "[7906 rows x 13 columns]\n"
     ]
    }
   ],
   "source": [
    "print(df)"
   ]
  },
  {
   "cell_type": "code",
   "execution_count": 41,
   "id": "f59a5ed2",
   "metadata": {},
   "outputs": [
    {
     "name": "stdout",
     "output_type": "stream",
     "text": [
      "first owner             5215\n",
      "second owner            2016\n",
      "third owner              510\n",
      "fourth & above owner     160\n",
      "test drive car             5\n",
      "Name: owner, dtype: int64\n"
     ]
    }
   ],
   "source": [
    "print(df.owner.value_counts())"
   ]
  },
  {
   "cell_type": "code",
   "execution_count": 42,
   "id": "3d2fd811",
   "metadata": {},
   "outputs": [],
   "source": [
    "df.replace({'transmission':{'first owner':1,'second owner':2,'third owner':3,'fourth & above owner':4,'test drive car':0}},inplace=True)"
   ]
  },
  {
   "cell_type": "code",
   "execution_count": 43,
   "id": "d9c0dade",
   "metadata": {},
   "outputs": [
    {
     "name": "stdout",
     "output_type": "stream",
     "text": [
      "      year  selling_price  km_driven  fuel  seller_type  transmission  \\\n",
      "0     2014         450000     145500     1            0             0   \n",
      "1     2014         370000     120000     1            0             0   \n",
      "2     2006         158000     140000     0            0             0   \n",
      "3     2010         225000     127000     1            0             0   \n",
      "4     2007         130000     120000     0            0             0   \n",
      "...    ...            ...        ...   ...          ...           ...   \n",
      "7901  2013         320000     110000     0            0             0   \n",
      "7902  2007         135000     119000     1            0             0   \n",
      "7903  2009         382000     120000     1            0             0   \n",
      "7904  2013         290000      25000     1            0             0   \n",
      "7905  2013         290000      25000     1            0             0   \n",
      "\n",
      "                     owner  seats company_name              model_name  \\\n",
      "0              first owner    5.0       maruti         swift dzire vdi   \n",
      "1             second owner    5.0        skoda  rapid 1.5 tdi ambition   \n",
      "2              third owner    5.0        honda      city 2017-2020 exi   \n",
      "3              first owner    5.0      hyundai       i20 sportz diesel   \n",
      "4              first owner    5.0       maruti         swift vxi bsiii   \n",
      "...                    ...    ...          ...                     ...   \n",
      "7901           first owner    5.0      hyundai               i20 magna   \n",
      "7902  fourth & above owner    5.0      hyundai           verna crdi sx   \n",
      "7903           first owner    5.0       maruti         swift dzire zdi   \n",
      "7904           first owner    5.0         tata              indigo cr4   \n",
      "7905           first owner    5.0         tata              indigo cr4   \n",
      "\n",
      "      mileage (kmpl)  engine (cc)  max_power (bhp)  \n",
      "0              23.40       1248.0            74.00  \n",
      "1              21.14       1498.0           103.52  \n",
      "2              17.70       1497.0            78.00  \n",
      "3              23.00       1396.0            90.00  \n",
      "4              16.10       1298.0            88.20  \n",
      "...              ...          ...              ...  \n",
      "7901           18.50       1197.0            82.85  \n",
      "7902           16.80       1493.0           110.00  \n",
      "7903           19.30       1248.0            73.90  \n",
      "7904           23.57       1396.0            70.00  \n",
      "7905           23.57       1396.0            70.00  \n",
      "\n",
      "[7906 rows x 13 columns]\n"
     ]
    }
   ],
   "source": [
    "print(df)"
   ]
  },
  {
   "cell_type": "code",
   "execution_count": 44,
   "id": "5ecad234",
   "metadata": {},
   "outputs": [],
   "source": [
    "df.replace({'owner':{'first owner':1,'second owner':2,'third owner':3,'fourth & above owner':4,'test drive car':0}},inplace=True)"
   ]
  },
  {
   "cell_type": "code",
   "execution_count": 45,
   "id": "1d4825ec",
   "metadata": {},
   "outputs": [
    {
     "name": "stdout",
     "output_type": "stream",
     "text": [
      "0    6865\n",
      "1    1041\n",
      "Name: transmission, dtype: int64\n"
     ]
    }
   ],
   "source": [
    "print(df.transmission.value_counts())"
   ]
  },
  {
   "cell_type": "code",
   "execution_count": 46,
   "id": "336ade32",
   "metadata": {},
   "outputs": [
    {
     "name": "stdout",
     "output_type": "stream",
     "text": [
      "      year  selling_price  km_driven  fuel  seller_type  transmission  owner  \\\n",
      "0     2014         450000     145500     1            0             0      1   \n",
      "1     2014         370000     120000     1            0             0      2   \n",
      "2     2006         158000     140000     0            0             0      3   \n",
      "3     2010         225000     127000     1            0             0      1   \n",
      "4     2007         130000     120000     0            0             0      1   \n",
      "...    ...            ...        ...   ...          ...           ...    ...   \n",
      "7901  2013         320000     110000     0            0             0      1   \n",
      "7902  2007         135000     119000     1            0             0      4   \n",
      "7903  2009         382000     120000     1            0             0      1   \n",
      "7904  2013         290000      25000     1            0             0      1   \n",
      "7905  2013         290000      25000     1            0             0      1   \n",
      "\n",
      "      seats company_name              model_name  mileage (kmpl)  engine (cc)  \\\n",
      "0       5.0       maruti         swift dzire vdi           23.40       1248.0   \n",
      "1       5.0        skoda  rapid 1.5 tdi ambition           21.14       1498.0   \n",
      "2       5.0        honda      city 2017-2020 exi           17.70       1497.0   \n",
      "3       5.0      hyundai       i20 sportz diesel           23.00       1396.0   \n",
      "4       5.0       maruti         swift vxi bsiii           16.10       1298.0   \n",
      "...     ...          ...                     ...             ...          ...   \n",
      "7901    5.0      hyundai               i20 magna           18.50       1197.0   \n",
      "7902    5.0      hyundai           verna crdi sx           16.80       1493.0   \n",
      "7903    5.0       maruti         swift dzire zdi           19.30       1248.0   \n",
      "7904    5.0         tata              indigo cr4           23.57       1396.0   \n",
      "7905    5.0         tata              indigo cr4           23.57       1396.0   \n",
      "\n",
      "      max_power (bhp)  \n",
      "0               74.00  \n",
      "1              103.52  \n",
      "2               78.00  \n",
      "3               90.00  \n",
      "4               88.20  \n",
      "...               ...  \n",
      "7901            82.85  \n",
      "7902           110.00  \n",
      "7903            73.90  \n",
      "7904            70.00  \n",
      "7905            70.00  \n",
      "\n",
      "[7906 rows x 13 columns]\n"
     ]
    }
   ],
   "source": [
    "print(df)"
   ]
  },
  {
   "cell_type": "code",
   "execution_count": 47,
   "id": "2a34bf7c",
   "metadata": {},
   "outputs": [
    {
     "name": "stdout",
     "output_type": "stream",
     "text": [
      "<class 'pandas.core.frame.DataFrame'>\n",
      "RangeIndex: 7906 entries, 0 to 7905\n",
      "Data columns (total 13 columns):\n",
      " #   Column           Non-Null Count  Dtype  \n",
      "---  ------           --------------  -----  \n",
      " 0   year             7906 non-null   int64  \n",
      " 1   selling_price    7906 non-null   int64  \n",
      " 2   km_driven        7906 non-null   int64  \n",
      " 3   fuel             7906 non-null   int64  \n",
      " 4   seller_type      7906 non-null   int64  \n",
      " 5   transmission     7906 non-null   int64  \n",
      " 6   owner            7906 non-null   int64  \n",
      " 7   seats            7906 non-null   float64\n",
      " 8   company_name     7906 non-null   object \n",
      " 9   model_name       7906 non-null   object \n",
      " 10  mileage (kmpl)   7906 non-null   float64\n",
      " 11  engine (cc)      7906 non-null   float64\n",
      " 12  max_power (bhp)  7906 non-null   float64\n",
      "dtypes: float64(4), int64(7), object(2)\n",
      "memory usage: 803.1+ KB\n"
     ]
    }
   ],
   "source": [
    "df.info()"
   ]
  },
  {
   "cell_type": "code",
   "execution_count": 48,
   "id": "2574939a",
   "metadata": {},
   "outputs": [
    {
     "data": {
      "text/html": [
       "<div>\n",
       "<style scoped>\n",
       "    .dataframe tbody tr th:only-of-type {\n",
       "        vertical-align: middle;\n",
       "    }\n",
       "\n",
       "    .dataframe tbody tr th {\n",
       "        vertical-align: top;\n",
       "    }\n",
       "\n",
       "    .dataframe thead th {\n",
       "        text-align: right;\n",
       "    }\n",
       "</style>\n",
       "<table border=\"1\" class=\"dataframe\">\n",
       "  <thead>\n",
       "    <tr style=\"text-align: right;\">\n",
       "      <th></th>\n",
       "      <th>year</th>\n",
       "      <th>selling_price</th>\n",
       "      <th>km_driven</th>\n",
       "      <th>fuel</th>\n",
       "      <th>seller_type</th>\n",
       "      <th>transmission</th>\n",
       "      <th>owner</th>\n",
       "      <th>seats</th>\n",
       "      <th>company_name</th>\n",
       "      <th>model_name</th>\n",
       "      <th>mileage (kmpl)</th>\n",
       "      <th>engine (cc)</th>\n",
       "      <th>max_power (bhp)</th>\n",
       "    </tr>\n",
       "  </thead>\n",
       "  <tbody>\n",
       "    <tr>\n",
       "      <th>0</th>\n",
       "      <td>2014</td>\n",
       "      <td>450000</td>\n",
       "      <td>145500</td>\n",
       "      <td>1</td>\n",
       "      <td>0</td>\n",
       "      <td>0</td>\n",
       "      <td>1</td>\n",
       "      <td>5.0</td>\n",
       "      <td>maruti</td>\n",
       "      <td>swift dzire vdi</td>\n",
       "      <td>23.40</td>\n",
       "      <td>1248.0</td>\n",
       "      <td>74.00</td>\n",
       "    </tr>\n",
       "    <tr>\n",
       "      <th>1</th>\n",
       "      <td>2014</td>\n",
       "      <td>370000</td>\n",
       "      <td>120000</td>\n",
       "      <td>1</td>\n",
       "      <td>0</td>\n",
       "      <td>0</td>\n",
       "      <td>2</td>\n",
       "      <td>5.0</td>\n",
       "      <td>skoda</td>\n",
       "      <td>rapid 1.5 tdi ambition</td>\n",
       "      <td>21.14</td>\n",
       "      <td>1498.0</td>\n",
       "      <td>103.52</td>\n",
       "    </tr>\n",
       "    <tr>\n",
       "      <th>2</th>\n",
       "      <td>2006</td>\n",
       "      <td>158000</td>\n",
       "      <td>140000</td>\n",
       "      <td>0</td>\n",
       "      <td>0</td>\n",
       "      <td>0</td>\n",
       "      <td>3</td>\n",
       "      <td>5.0</td>\n",
       "      <td>honda</td>\n",
       "      <td>city 2017-2020 exi</td>\n",
       "      <td>17.70</td>\n",
       "      <td>1497.0</td>\n",
       "      <td>78.00</td>\n",
       "    </tr>\n",
       "    <tr>\n",
       "      <th>3</th>\n",
       "      <td>2010</td>\n",
       "      <td>225000</td>\n",
       "      <td>127000</td>\n",
       "      <td>1</td>\n",
       "      <td>0</td>\n",
       "      <td>0</td>\n",
       "      <td>1</td>\n",
       "      <td>5.0</td>\n",
       "      <td>hyundai</td>\n",
       "      <td>i20 sportz diesel</td>\n",
       "      <td>23.00</td>\n",
       "      <td>1396.0</td>\n",
       "      <td>90.00</td>\n",
       "    </tr>\n",
       "    <tr>\n",
       "      <th>4</th>\n",
       "      <td>2007</td>\n",
       "      <td>130000</td>\n",
       "      <td>120000</td>\n",
       "      <td>0</td>\n",
       "      <td>0</td>\n",
       "      <td>0</td>\n",
       "      <td>1</td>\n",
       "      <td>5.0</td>\n",
       "      <td>maruti</td>\n",
       "      <td>swift vxi bsiii</td>\n",
       "      <td>16.10</td>\n",
       "      <td>1298.0</td>\n",
       "      <td>88.20</td>\n",
       "    </tr>\n",
       "  </tbody>\n",
       "</table>\n",
       "</div>"
      ],
      "text/plain": [
       "   year  selling_price  km_driven  fuel  seller_type  transmission  owner  \\\n",
       "0  2014         450000     145500     1            0             0      1   \n",
       "1  2014         370000     120000     1            0             0      2   \n",
       "2  2006         158000     140000     0            0             0      3   \n",
       "3  2010         225000     127000     1            0             0      1   \n",
       "4  2007         130000     120000     0            0             0      1   \n",
       "\n",
       "   seats company_name              model_name  mileage (kmpl)  engine (cc)  \\\n",
       "0    5.0       maruti         swift dzire vdi           23.40       1248.0   \n",
       "1    5.0        skoda  rapid 1.5 tdi ambition           21.14       1498.0   \n",
       "2    5.0        honda      city 2017-2020 exi           17.70       1497.0   \n",
       "3    5.0      hyundai       i20 sportz diesel           23.00       1396.0   \n",
       "4    5.0       maruti         swift vxi bsiii           16.10       1298.0   \n",
       "\n",
       "   max_power (bhp)  \n",
       "0            74.00  \n",
       "1           103.52  \n",
       "2            78.00  \n",
       "3            90.00  \n",
       "4            88.20  "
      ]
     },
     "execution_count": 48,
     "metadata": {},
     "output_type": "execute_result"
    }
   ],
   "source": [
    "df.head()"
   ]
  },
  {
   "cell_type": "code",
   "execution_count": 49,
   "id": "3daf4cb4",
   "metadata": {},
   "outputs": [],
   "source": [
    "X = df.drop(['company_name','selling_price','model_name'],axis=1)\n",
    "Y = df['selling_price']"
   ]
  },
  {
   "cell_type": "code",
   "execution_count": 50,
   "id": "69de3d40",
   "metadata": {},
   "outputs": [],
   "source": [
    "X = df.drop(['company_name','selling_price','model_name'],axis=1)\n",
    "Y = df['selling_price']"
   ]
  },
  {
   "cell_type": "code",
   "execution_count": 51,
   "id": "367905c0",
   "metadata": {},
   "outputs": [
    {
     "name": "stdout",
     "output_type": "stream",
     "text": [
      "      year  km_driven  fuel  seller_type  transmission  owner  seats  \\\n",
      "0     2014     145500     1            0             0      1    5.0   \n",
      "1     2014     120000     1            0             0      2    5.0   \n",
      "2     2006     140000     0            0             0      3    5.0   \n",
      "3     2010     127000     1            0             0      1    5.0   \n",
      "4     2007     120000     0            0             0      1    5.0   \n",
      "...    ...        ...   ...          ...           ...    ...    ...   \n",
      "7901  2013     110000     0            0             0      1    5.0   \n",
      "7902  2007     119000     1            0             0      4    5.0   \n",
      "7903  2009     120000     1            0             0      1    5.0   \n",
      "7904  2013      25000     1            0             0      1    5.0   \n",
      "7905  2013      25000     1            0             0      1    5.0   \n",
      "\n",
      "      mileage (kmpl)  engine (cc)  max_power (bhp)  \n",
      "0              23.40       1248.0            74.00  \n",
      "1              21.14       1498.0           103.52  \n",
      "2              17.70       1497.0            78.00  \n",
      "3              23.00       1396.0            90.00  \n",
      "4              16.10       1298.0            88.20  \n",
      "...              ...          ...              ...  \n",
      "7901           18.50       1197.0            82.85  \n",
      "7902           16.80       1493.0           110.00  \n",
      "7903           19.30       1248.0            73.90  \n",
      "7904           23.57       1396.0            70.00  \n",
      "7905           23.57       1396.0            70.00  \n",
      "\n",
      "[7906 rows x 10 columns]\n"
     ]
    }
   ],
   "source": [
    "print(X)"
   ]
  },
  {
   "cell_type": "code",
   "execution_count": 52,
   "id": "f89c5559",
   "metadata": {},
   "outputs": [
    {
     "name": "stdout",
     "output_type": "stream",
     "text": [
      "0       450000\n",
      "1       370000\n",
      "2       158000\n",
      "3       225000\n",
      "4       130000\n",
      "         ...  \n",
      "7901    320000\n",
      "7902    135000\n",
      "7903    382000\n",
      "7904    290000\n",
      "7905    290000\n",
      "Name: selling_price, Length: 7906, dtype: int64\n"
     ]
    }
   ],
   "source": [
    "print(Y)"
   ]
  },
  {
   "cell_type": "code",
   "execution_count": 53,
   "id": "67f658e8",
   "metadata": {},
   "outputs": [],
   "source": [
    "X_train, X_test, Y_train, Y_test = train_test_split(X, Y, test_size = 0.1, random_state=2)"
   ]
  },
  {
   "cell_type": "code",
   "execution_count": 54,
   "id": "3ccc126d",
   "metadata": {},
   "outputs": [],
   "source": [
    "#laod lasso\n",
    "lass_reg_model = Lasso()"
   ]
  },
  {
   "cell_type": "code",
   "execution_count": 55,
   "id": "4e300cc9",
   "metadata": {},
   "outputs": [
    {
     "data": {
      "text/html": [
       "<style>#sk-container-id-1 {color: black;background-color: white;}#sk-container-id-1 pre{padding: 0;}#sk-container-id-1 div.sk-toggleable {background-color: white;}#sk-container-id-1 label.sk-toggleable__label {cursor: pointer;display: block;width: 100%;margin-bottom: 0;padding: 0.3em;box-sizing: border-box;text-align: center;}#sk-container-id-1 label.sk-toggleable__label-arrow:before {content: \"▸\";float: left;margin-right: 0.25em;color: #696969;}#sk-container-id-1 label.sk-toggleable__label-arrow:hover:before {color: black;}#sk-container-id-1 div.sk-estimator:hover label.sk-toggleable__label-arrow:before {color: black;}#sk-container-id-1 div.sk-toggleable__content {max-height: 0;max-width: 0;overflow: hidden;text-align: left;background-color: #f0f8ff;}#sk-container-id-1 div.sk-toggleable__content pre {margin: 0.2em;color: black;border-radius: 0.25em;background-color: #f0f8ff;}#sk-container-id-1 input.sk-toggleable__control:checked~div.sk-toggleable__content {max-height: 200px;max-width: 100%;overflow: auto;}#sk-container-id-1 input.sk-toggleable__control:checked~label.sk-toggleable__label-arrow:before {content: \"▾\";}#sk-container-id-1 div.sk-estimator input.sk-toggleable__control:checked~label.sk-toggleable__label {background-color: #d4ebff;}#sk-container-id-1 div.sk-label input.sk-toggleable__control:checked~label.sk-toggleable__label {background-color: #d4ebff;}#sk-container-id-1 input.sk-hidden--visually {border: 0;clip: rect(1px 1px 1px 1px);clip: rect(1px, 1px, 1px, 1px);height: 1px;margin: -1px;overflow: hidden;padding: 0;position: absolute;width: 1px;}#sk-container-id-1 div.sk-estimator {font-family: monospace;background-color: #f0f8ff;border: 1px dotted black;border-radius: 0.25em;box-sizing: border-box;margin-bottom: 0.5em;}#sk-container-id-1 div.sk-estimator:hover {background-color: #d4ebff;}#sk-container-id-1 div.sk-parallel-item::after {content: \"\";width: 100%;border-bottom: 1px solid gray;flex-grow: 1;}#sk-container-id-1 div.sk-label:hover label.sk-toggleable__label {background-color: #d4ebff;}#sk-container-id-1 div.sk-serial::before {content: \"\";position: absolute;border-left: 1px solid gray;box-sizing: border-box;top: 0;bottom: 0;left: 50%;z-index: 0;}#sk-container-id-1 div.sk-serial {display: flex;flex-direction: column;align-items: center;background-color: white;padding-right: 0.2em;padding-left: 0.2em;position: relative;}#sk-container-id-1 div.sk-item {position: relative;z-index: 1;}#sk-container-id-1 div.sk-parallel {display: flex;align-items: stretch;justify-content: center;background-color: white;position: relative;}#sk-container-id-1 div.sk-item::before, #sk-container-id-1 div.sk-parallel-item::before {content: \"\";position: absolute;border-left: 1px solid gray;box-sizing: border-box;top: 0;bottom: 0;left: 50%;z-index: -1;}#sk-container-id-1 div.sk-parallel-item {display: flex;flex-direction: column;z-index: 1;position: relative;background-color: white;}#sk-container-id-1 div.sk-parallel-item:first-child::after {align-self: flex-end;width: 50%;}#sk-container-id-1 div.sk-parallel-item:last-child::after {align-self: flex-start;width: 50%;}#sk-container-id-1 div.sk-parallel-item:only-child::after {width: 0;}#sk-container-id-1 div.sk-dashed-wrapped {border: 1px dashed gray;margin: 0 0.4em 0.5em 0.4em;box-sizing: border-box;padding-bottom: 0.4em;background-color: white;}#sk-container-id-1 div.sk-label label {font-family: monospace;font-weight: bold;display: inline-block;line-height: 1.2em;}#sk-container-id-1 div.sk-label-container {text-align: center;}#sk-container-id-1 div.sk-container {/* jupyter's `normalize.less` sets `[hidden] { display: none; }` but bootstrap.min.css set `[hidden] { display: none !important; }` so we also need the `!important` here to be able to override the default hidden behavior on the sphinx rendered scikit-learn.org. See: https://github.com/scikit-learn/scikit-learn/issues/21755 */display: inline-block !important;position: relative;}#sk-container-id-1 div.sk-text-repr-fallback {display: none;}</style><div id=\"sk-container-id-1\" class=\"sk-top-container\"><div class=\"sk-text-repr-fallback\"><pre>Lasso()</pre><b>In a Jupyter environment, please rerun this cell to show the HTML representation or trust the notebook. <br />On GitHub, the HTML representation is unable to render, please try loading this page with nbviewer.org.</b></div><div class=\"sk-container\" hidden><div class=\"sk-item\"><div class=\"sk-estimator sk-toggleable\"><input class=\"sk-toggleable__control sk-hidden--visually\" id=\"sk-estimator-id-1\" type=\"checkbox\" checked><label for=\"sk-estimator-id-1\" class=\"sk-toggleable__label sk-toggleable__label-arrow\">Lasso</label><div class=\"sk-toggleable__content\"><pre>Lasso()</pre></div></div></div></div></div>"
      ],
      "text/plain": [
       "Lasso()"
      ]
     },
     "execution_count": 55,
     "metadata": {},
     "output_type": "execute_result"
    }
   ],
   "source": [
    "lass_reg_model.fit(X_train,Y_train)"
   ]
  },
  {
   "cell_type": "code",
   "execution_count": 56,
   "id": "80455ed8",
   "metadata": {},
   "outputs": [],
   "source": [
    "training_data_prediction = lass_reg_model.predict(X_train)"
   ]
  },
  {
   "cell_type": "code",
   "execution_count": 57,
   "id": "d9923e58",
   "metadata": {},
   "outputs": [
    {
     "name": "stdout",
     "output_type": "stream",
     "text": [
      "R squared Error :  0.6705794149866036\n"
     ]
    }
   ],
   "source": [
    "error_score = metrics.r2_score(Y_train, training_data_prediction)\n",
    "print(\"R squared Error : \", error_score)"
   ]
  },
  {
   "cell_type": "code",
   "execution_count": 58,
   "id": "8149847f",
   "metadata": {},
   "outputs": [
    {
     "data": {
      "image/png": "[encoded data removed]",
      "text/plain": [
       "<Figure size 432x288 with 1 Axes>"
      ]
     },
     "metadata": {
      "needs_background": "light"
     },
     "output_type": "display_data"
    }
   ],
   "source": [
    "plt.scatter(Y_train, training_data_prediction)\n",
    "plt.xlabel(\"Actual Price\")\n",
    "plt.ylabel(\"Predicted Price\")\n",
    "plt.title(\" Actual Prices vs Predicted Prices\")\n",
    "plt.show()"
   ]
  },
  {
   "cell_type": "code",
   "execution_count": 59,
   "id": "fb04713c",
   "metadata": {},
   "outputs": [],
   "source": [
    "test_data_prediction = lass_reg_model.predict(X_test)"
   ]
  },
  {
   "cell_type": "code",
   "execution_count": 60,
   "id": "855866c0",
   "metadata": {},
   "outputs": [
    {
     "name": "stdout",
     "output_type": "stream",
     "text": [
      "R squared Error :  0.6799242856609777\n"
     ]
    }
   ],
   "source": [
    "error_score = metrics.r2_score(Y_test, test_data_prediction)\n",
    "print(\"R squared Error : \", error_score)"
   ]
  },
  {
   "cell_type": "code",
   "execution_count": 61,
   "id": "d53fc5f3",
   "metadata": {},
   "outputs": [
    {
     "data": {
      "image/png": "[encoded data removed]",
      "text/plain": [
       "<Figure size 432x288 with 1 Axes>"
      ]
     },
     "metadata": {
      "needs_background": "light"
     },
     "output_type": "display_data"
    }
   ],
   "source": [
    "plt.scatter(Y_test, test_data_prediction)\n",
    "plt.xlabel(\"Actual Price\")\n",
    "plt.ylabel(\"Predicted Price\")\n",
    "plt.title(\" Actual Prices vs Predicted Prices\")\n",
    "plt.show()"
   ]
  },
  {
   "cell_type": "code",
   "execution_count": 62,
   "id": "a2b367c5",
   "metadata": {},
   "outputs": [
    {
     "name": "stdout",
     "output_type": "stream",
     "text": [
      "[787906.51158018 948337.75753722 -11581.86706039 ... 349231.46374615\n",
      " 390419.38147972  13700.31798234]\n"
     ]
    }
   ],
   "source": [
    "print(training_data_prediction)"
   ]
  },
  {
   "cell_type": "code",
   "execution_count": 63,
   "id": "79753233",
   "metadata": {},
   "outputs": [
    {
     "name": "stdout",
     "output_type": "stream",
     "text": [
      "<class 'pandas.core.frame.DataFrame'>\n",
      "RangeIndex: 7906 entries, 0 to 7905\n",
      "Data columns (total 13 columns):\n",
      " #   Column           Non-Null Count  Dtype  \n",
      "---  ------           --------------  -----  \n",
      " 0   year             7906 non-null   int64  \n",
      " 1   selling_price    7906 non-null   int64  \n",
      " 2   km_driven        7906 non-null   int64  \n",
      " 3   fuel             7906 non-null   int64  \n",
      " 4   seller_type      7906 non-null   int64  \n",
      " 5   transmission     7906 non-null   int64  \n",
      " 6   owner            7906 non-null   int64  \n",
      " 7   seats            7906 non-null   float64\n",
      " 8   company_name     7906 non-null   object \n",
      " 9   model_name       7906 non-null   object \n",
      " 10  mileage (kmpl)   7906 non-null   float64\n",
      " 11  engine (cc)      7906 non-null   float64\n",
      " 12  max_power (bhp)  7906 non-null   float64\n",
      "dtypes: float64(4), int64(7), object(2)\n",
      "memory usage: 803.1+ KB\n"
     ]
    }
   ],
   "source": [
    "df.info()\n"
   ]
  },
  {
   "cell_type": "code",
   "execution_count": 64,
   "id": "48b3c116",
   "metadata": {},
   "outputs": [
    {
     "name": "stdout",
     "output_type": "stream",
     "text": [
      "      year  selling_price  km_driven  fuel  seller_type  transmission  owner  \\\n",
      "0     2014         450000     145500     1            0             0      1   \n",
      "1     2014         370000     120000     1            0             0      2   \n",
      "2     2006         158000     140000     0            0             0      3   \n",
      "3     2010         225000     127000     1            0             0      1   \n",
      "4     2007         130000     120000     0            0             0      1   \n",
      "...    ...            ...        ...   ...          ...           ...    ...   \n",
      "7901  2013         320000     110000     0            0             0      1   \n",
      "7902  2007         135000     119000     1            0             0      4   \n",
      "7903  2009         382000     120000     1            0             0      1   \n",
      "7904  2013         290000      25000     1            0             0      1   \n",
      "7905  2013         290000      25000     1            0             0      1   \n",
      "\n",
      "      seats company_name              model_name  mileage (kmpl)  engine (cc)  \\\n",
      "0       5.0       maruti         swift dzire vdi           23.40       1248.0   \n",
      "1       5.0        skoda  rapid 1.5 tdi ambition           21.14       1498.0   \n",
      "2       5.0        honda      city 2017-2020 exi           17.70       1497.0   \n",
      "3       5.0      hyundai       i20 sportz diesel           23.00       1396.0   \n",
      "4       5.0       maruti         swift vxi bsiii           16.10       1298.0   \n",
      "...     ...          ...                     ...             ...          ...   \n",
      "7901    5.0      hyundai               i20 magna           18.50       1197.0   \n",
      "7902    5.0      hyundai           verna crdi sx           16.80       1493.0   \n",
      "7903    5.0       maruti         swift dzire zdi           19.30       1248.0   \n",
      "7904    5.0         tata              indigo cr4           23.57       1396.0   \n",
      "7905    5.0         tata              indigo cr4           23.57       1396.0   \n",
      "\n",
      "      max_power (bhp)  \n",
      "0               74.00  \n",
      "1              103.52  \n",
      "2               78.00  \n",
      "3               90.00  \n",
      "4               88.20  \n",
      "...               ...  \n",
      "7901            82.85  \n",
      "7902           110.00  \n",
      "7903            73.90  \n",
      "7904            70.00  \n",
      "7905            70.00  \n",
      "\n",
      "[7906 rows x 13 columns]\n"
     ]
    }
   ],
   "source": [
    "print (df)"
   ]
  },
  {
   "cell_type": "code",
   "execution_count": 65,
   "id": "9a04abc8",
   "metadata": {},
   "outputs": [
    {
     "name": "stdout",
     "output_type": "stream",
     "text": [
      "<class 'pandas.core.frame.DataFrame'>\n",
      "RangeIndex: 7906 entries, 0 to 7905\n",
      "Data columns (total 13 columns):\n",
      " #   Column           Non-Null Count  Dtype  \n",
      "---  ------           --------------  -----  \n",
      " 0   year             7906 non-null   int64  \n",
      " 1   selling_price    7906 non-null   int64  \n",
      " 2   km_driven        7906 non-null   int64  \n",
      " 3   fuel             7906 non-null   int64  \n",
      " 4   seller_type      7906 non-null   int64  \n",
      " 5   transmission     7906 non-null   int64  \n",
      " 6   owner            7906 non-null   int64  \n",
      " 7   seats            7906 non-null   float64\n",
      " 8   company_name     7906 non-null   object \n",
      " 9   model_name       7906 non-null   object \n",
      " 10  mileage (kmpl)   7906 non-null   float64\n",
      " 11  engine (cc)      7906 non-null   float64\n",
      " 12  max_power (bhp)  7906 non-null   float64\n",
      "dtypes: float64(4), int64(7), object(2)\n",
      "memory usage: 803.1+ KB\n"
     ]
    }
   ],
   "source": [
    "df.info()"
   ]
  },
  {
   "cell_type": "code",
   "execution_count": 66,
   "id": "6ca09aa5",
   "metadata": {},
   "outputs": [
    {
     "name": "stdout",
     "output_type": "stream",
     "text": [
      "      year  selling_price  km_driven  fuel  seller_type  transmission  owner  \\\n",
      "0     2014         450000     145500     1            0             0      1   \n",
      "1     2014         370000     120000     1            0             0      2   \n",
      "2     2006         158000     140000     0            0             0      3   \n",
      "3     2010         225000     127000     1            0             0      1   \n",
      "4     2007         130000     120000     0            0             0      1   \n",
      "...    ...            ...        ...   ...          ...           ...    ...   \n",
      "7901  2013         320000     110000     0            0             0      1   \n",
      "7902  2007         135000     119000     1            0             0      4   \n",
      "7903  2009         382000     120000     1            0             0      1   \n",
      "7904  2013         290000      25000     1            0             0      1   \n",
      "7905  2013         290000      25000     1            0             0      1   \n",
      "\n",
      "      seats company_name              model_name  mileage (kmpl)  engine (cc)  \\\n",
      "0       5.0       maruti         swift dzire vdi           23.40       1248.0   \n",
      "1       5.0        skoda  rapid 1.5 tdi ambition           21.14       1498.0   \n",
      "2       5.0        honda      city 2017-2020 exi           17.70       1497.0   \n",
      "3       5.0      hyundai       i20 sportz diesel           23.00       1396.0   \n",
      "4       5.0       maruti         swift vxi bsiii           16.10       1298.0   \n",
      "...     ...          ...                     ...             ...          ...   \n",
      "7901    5.0      hyundai               i20 magna           18.50       1197.0   \n",
      "7902    5.0      hyundai           verna crdi sx           16.80       1493.0   \n",
      "7903    5.0       maruti         swift dzire zdi           19.30       1248.0   \n",
      "7904    5.0         tata              indigo cr4           23.57       1396.0   \n",
      "7905    5.0         tata              indigo cr4           23.57       1396.0   \n",
      "\n",
      "      max_power (bhp)  \n",
      "0               74.00  \n",
      "1              103.52  \n",
      "2               78.00  \n",
      "3               90.00  \n",
      "4               88.20  \n",
      "...               ...  \n",
      "7901            82.85  \n",
      "7902           110.00  \n",
      "7903            73.90  \n",
      "7904            70.00  \n",
      "7905            70.00  \n",
      "\n",
      "[7906 rows x 13 columns]\n"
     ]
    }
   ],
   "source": [
    "df=df.reset_index(drop=True)\n",
    "print (df)"
   ]
  },
  {
   "cell_type": "code",
   "execution_count": 67,
   "id": "f80ecd84",
   "metadata": {},
   "outputs": [],
   "source": [
    "df.to_csv('cleaned df.csv')"
   ]
  },
  {
   "cell_type": "code",
   "execution_count": 68,
   "id": "c23df103",
   "metadata": {},
   "outputs": [],
   "source": [
    "x = df.drop(columns='selling_price')\n",
    "y=df['selling_price']"
   ]
  },
  {
   "cell_type": "code",
   "execution_count": 69,
   "id": "25782ac3",
   "metadata": {},
   "outputs": [
    {
     "data": {
      "text/html": [
       "<div>\n",
       "<style scoped>\n",
       "    .dataframe tbody tr th:only-of-type {\n",
       "        vertical-align: middle;\n",
       "    }\n",
       "\n",
       "    .dataframe tbody tr th {\n",
       "        vertical-align: top;\n",
       "    }\n",
       "\n",
       "    .dataframe thead th {\n",
       "        text-align: right;\n",
       "    }\n",
       "</style>\n",
       "<table border=\"1\" class=\"dataframe\">\n",
       "  <thead>\n",
       "    <tr style=\"text-align: right;\">\n",
       "      <th></th>\n",
       "      <th>year</th>\n",
       "      <th>km_driven</th>\n",
       "      <th>fuel</th>\n",
       "      <th>seller_type</th>\n",
       "      <th>transmission</th>\n",
       "      <th>owner</th>\n",
       "      <th>seats</th>\n",
       "      <th>company_name</th>\n",
       "      <th>model_name</th>\n",
       "      <th>mileage (kmpl)</th>\n",
       "      <th>engine (cc)</th>\n",
       "      <th>max_power (bhp)</th>\n",
       "    </tr>\n",
       "  </thead>\n",
       "  <tbody>\n",
       "    <tr>\n",
       "      <th>0</th>\n",
       "      <td>2014</td>\n",
       "      <td>145500</td>\n",
       "      <td>1</td>\n",
       "      <td>0</td>\n",
       "      <td>0</td>\n",
       "      <td>1</td>\n",
       "      <td>5.0</td>\n",
       "      <td>maruti</td>\n",
       "      <td>swift dzire vdi</td>\n",
       "      <td>23.40</td>\n",
       "      <td>1248.0</td>\n",
       "      <td>74.00</td>\n",
       "    </tr>\n",
       "    <tr>\n",
       "      <th>1</th>\n",
       "      <td>2014</td>\n",
       "      <td>120000</td>\n",
       "      <td>1</td>\n",
       "      <td>0</td>\n",
       "      <td>0</td>\n",
       "      <td>2</td>\n",
       "      <td>5.0</td>\n",
       "      <td>skoda</td>\n",
       "      <td>rapid 1.5 tdi ambition</td>\n",
       "      <td>21.14</td>\n",
       "      <td>1498.0</td>\n",
       "      <td>103.52</td>\n",
       "    </tr>\n",
       "    <tr>\n",
       "      <th>2</th>\n",
       "      <td>2006</td>\n",
       "      <td>140000</td>\n",
       "      <td>0</td>\n",
       "      <td>0</td>\n",
       "      <td>0</td>\n",
       "      <td>3</td>\n",
       "      <td>5.0</td>\n",
       "      <td>honda</td>\n",
       "      <td>city 2017-2020 exi</td>\n",
       "      <td>17.70</td>\n",
       "      <td>1497.0</td>\n",
       "      <td>78.00</td>\n",
       "    </tr>\n",
       "    <tr>\n",
       "      <th>3</th>\n",
       "      <td>2010</td>\n",
       "      <td>127000</td>\n",
       "      <td>1</td>\n",
       "      <td>0</td>\n",
       "      <td>0</td>\n",
       "      <td>1</td>\n",
       "      <td>5.0</td>\n",
       "      <td>hyundai</td>\n",
       "      <td>i20 sportz diesel</td>\n",
       "      <td>23.00</td>\n",
       "      <td>1396.0</td>\n",
       "      <td>90.00</td>\n",
       "    </tr>\n",
       "    <tr>\n",
       "      <th>4</th>\n",
       "      <td>2007</td>\n",
       "      <td>120000</td>\n",
       "      <td>0</td>\n",
       "      <td>0</td>\n",
       "      <td>0</td>\n",
       "      <td>1</td>\n",
       "      <td>5.0</td>\n",
       "      <td>maruti</td>\n",
       "      <td>swift vxi bsiii</td>\n",
       "      <td>16.10</td>\n",
       "      <td>1298.0</td>\n",
       "      <td>88.20</td>\n",
       "    </tr>\n",
       "    <tr>\n",
       "      <th>...</th>\n",
       "      <td>...</td>\n",
       "      <td>...</td>\n",
       "      <td>...</td>\n",
       "      <td>...</td>\n",
       "      <td>...</td>\n",
       "      <td>...</td>\n",
       "      <td>...</td>\n",
       "      <td>...</td>\n",
       "      <td>...</td>\n",
       "      <td>...</td>\n",
       "      <td>...</td>\n",
       "      <td>...</td>\n",
       "    </tr>\n",
       "    <tr>\n",
       "      <th>7901</th>\n",
       "      <td>2013</td>\n",
       "      <td>110000</td>\n",
       "      <td>0</td>\n",
       "      <td>0</td>\n",
       "      <td>0</td>\n",
       "      <td>1</td>\n",
       "      <td>5.0</td>\n",
       "      <td>hyundai</td>\n",
       "      <td>i20 magna</td>\n",
       "      <td>18.50</td>\n",
       "      <td>1197.0</td>\n",
       "      <td>82.85</td>\n",
       "    </tr>\n",
       "    <tr>\n",
       "      <th>7902</th>\n",
       "      <td>2007</td>\n",
       "      <td>119000</td>\n",
       "      <td>1</td>\n",
       "      <td>0</td>\n",
       "      <td>0</td>\n",
       "      <td>4</td>\n",
       "      <td>5.0</td>\n",
       "      <td>hyundai</td>\n",
       "      <td>verna crdi sx</td>\n",
       "      <td>16.80</td>\n",
       "      <td>1493.0</td>\n",
       "      <td>110.00</td>\n",
       "    </tr>\n",
       "    <tr>\n",
       "      <th>7903</th>\n",
       "      <td>2009</td>\n",
       "      <td>120000</td>\n",
       "      <td>1</td>\n",
       "      <td>0</td>\n",
       "      <td>0</td>\n",
       "      <td>1</td>\n",
       "      <td>5.0</td>\n",
       "      <td>maruti</td>\n",
       "      <td>swift dzire zdi</td>\n",
       "      <td>19.30</td>\n",
       "      <td>1248.0</td>\n",
       "      <td>73.90</td>\n",
       "    </tr>\n",
       "    <tr>\n",
       "      <th>7904</th>\n",
       "      <td>2013</td>\n",
       "      <td>25000</td>\n",
       "      <td>1</td>\n",
       "      <td>0</td>\n",
       "      <td>0</td>\n",
       "      <td>1</td>\n",
       "      <td>5.0</td>\n",
       "      <td>tata</td>\n",
       "      <td>indigo cr4</td>\n",
       "      <td>23.57</td>\n",
       "      <td>1396.0</td>\n",
       "      <td>70.00</td>\n",
       "    </tr>\n",
       "    <tr>\n",
       "      <th>7905</th>\n",
       "      <td>2013</td>\n",
       "      <td>25000</td>\n",
       "      <td>1</td>\n",
       "      <td>0</td>\n",
       "      <td>0</td>\n",
       "      <td>1</td>\n",
       "      <td>5.0</td>\n",
       "      <td>tata</td>\n",
       "      <td>indigo cr4</td>\n",
       "      <td>23.57</td>\n",
       "      <td>1396.0</td>\n",
       "      <td>70.00</td>\n",
       "    </tr>\n",
       "  </tbody>\n",
       "</table>\n",
       "<p>7906 rows × 12 columns</p>\n",
       "</div>"
      ],
      "text/plain": [
       "      year  km_driven  fuel  seller_type  transmission  owner  seats  \\\n",
       "0     2014     145500     1            0             0      1    5.0   \n",
       "1     2014     120000     1            0             0      2    5.0   \n",
       "2     2006     140000     0            0             0      3    5.0   \n",
       "3     2010     127000     1            0             0      1    5.0   \n",
       "4     2007     120000     0            0             0      1    5.0   \n",
       "...    ...        ...   ...          ...           ...    ...    ...   \n",
       "7901  2013     110000     0            0             0      1    5.0   \n",
       "7902  2007     119000     1            0             0      4    5.0   \n",
       "7903  2009     120000     1            0             0      1    5.0   \n",
       "7904  2013      25000     1            0             0      1    5.0   \n",
       "7905  2013      25000     1            0             0      1    5.0   \n",
       "\n",
       "     company_name              model_name  mileage (kmpl)  engine (cc)  \\\n",
       "0          maruti         swift dzire vdi           23.40       1248.0   \n",
       "1           skoda  rapid 1.5 tdi ambition           21.14       1498.0   \n",
       "2           honda      city 2017-2020 exi           17.70       1497.0   \n",
       "3         hyundai       i20 sportz diesel           23.00       1396.0   \n",
       "4          maruti         swift vxi bsiii           16.10       1298.0   \n",
       "...           ...                     ...             ...          ...   \n",
       "7901      hyundai               i20 magna           18.50       1197.0   \n",
       "7902      hyundai           verna crdi sx           16.80       1493.0   \n",
       "7903       maruti         swift dzire zdi           19.30       1248.0   \n",
       "7904         tata              indigo cr4           23.57       1396.0   \n",
       "7905         tata              indigo cr4           23.57       1396.0   \n",
       "\n",
       "      max_power (bhp)  \n",
       "0               74.00  \n",
       "1              103.52  \n",
       "2               78.00  \n",
       "3               90.00  \n",
       "4               88.20  \n",
       "...               ...  \n",
       "7901            82.85  \n",
       "7902           110.00  \n",
       "7903            73.90  \n",
       "7904            70.00  \n",
       "7905            70.00  \n",
       "\n",
       "[7906 rows x 12 columns]"
      ]
     },
     "execution_count": 69,
     "metadata": {},
     "output_type": "execute_result"
    }
   ],
   "source": [
    "x"
   ]
  },
  {
   "cell_type": "code",
   "execution_count": 70,
   "id": "f128b20f",
   "metadata": {},
   "outputs": [
    {
     "data": {
      "text/plain": [
       "0       450000\n",
       "1       370000\n",
       "2       158000\n",
       "3       225000\n",
       "4       130000\n",
       "         ...  \n",
       "7901    320000\n",
       "7902    135000\n",
       "7903    382000\n",
       "7904    290000\n",
       "7905    290000\n",
       "Name: selling_price, Length: 7906, dtype: int64"
      ]
     },
     "execution_count": 70,
     "metadata": {},
     "output_type": "execute_result"
    }
   ],
   "source": [
    "y"
   ]
  },
  {
   "cell_type": "code",
   "execution_count": 71,
   "id": "724c2ad3",
   "metadata": {},
   "outputs": [],
   "source": [
    "from sklearn.model_selection import train_test_split\n",
    "x_train, x_test, y_train, y_test= train_test_split(x,y, test_size=0.2)"
   ]
  },
  {
   "cell_type": "code",
   "execution_count": 72,
   "id": "3b91d82d",
   "metadata": {},
   "outputs": [],
   "source": [
    "from sklearn.linear_model import LinearRegression\n",
    "from sklearn.metrics import r2_score\n",
    "from sklearn.preprocessing import OneHotEncoder\n",
    "from sklearn.compose import make_column_transformer\n",
    "from sklearn.pipeline import make_pipeline"
   ]
  },
  {
   "cell_type": "code",
   "execution_count": 73,
   "id": "520b37da",
   "metadata": {},
   "outputs": [
    {
     "data": {
      "text/html": [
       "<style>#sk-container-id-2 {color: black;background-color: white;}#sk-container-id-2 pre{padding: 0;}#sk-container-id-2 div.sk-toggleable {background-color: white;}#sk-container-id-2 label.sk-toggleable__label {cursor: pointer;display: block;width: 100%;margin-bottom: 0;padding: 0.3em;box-sizing: border-box;text-align: center;}#sk-container-id-2 label.sk-toggleable__label-arrow:before {content: \"▸\";float: left;margin-right: 0.25em;color: #696969;}#sk-container-id-2 label.sk-toggleable__label-arrow:hover:before {color: black;}#sk-container-id-2 div.sk-estimator:hover label.sk-toggleable__label-arrow:before {color: black;}#sk-container-id-2 div.sk-toggleable__content {max-height: 0;max-width: 0;overflow: hidden;text-align: left;background-color: #f0f8ff;}#sk-container-id-2 div.sk-toggleable__content pre {margin: 0.2em;color: black;border-radius: 0.25em;background-color: #f0f8ff;}#sk-container-id-2 input.sk-toggleable__control:checked~div.sk-toggleable__content {max-height: 200px;max-width: 100%;overflow: auto;}#sk-container-id-2 input.sk-toggleable__control:checked~label.sk-toggleable__label-arrow:before {content: \"▾\";}#sk-container-id-2 div.sk-estimator input.sk-toggleable__control:checked~label.sk-toggleable__label {background-color: #d4ebff;}#sk-container-id-2 div.sk-label input.sk-toggleable__control:checked~label.sk-toggleable__label {background-color: #d4ebff;}#sk-container-id-2 input.sk-hidden--visually {border: 0;clip: rect(1px 1px 1px 1px);clip: rect(1px, 1px, 1px, 1px);height: 1px;margin: -1px;overflow: hidden;padding: 0;position: absolute;width: 1px;}#sk-container-id-2 div.sk-estimator {font-family: monospace;background-color: #f0f8ff;border: 1px dotted black;border-radius: 0.25em;box-sizing: border-box;margin-bottom: 0.5em;}#sk-container-id-2 div.sk-estimator:hover {background-color: #d4ebff;}#sk-container-id-2 div.sk-parallel-item::after {content: \"\";width: 100%;border-bottom: 1px solid gray;flex-grow: 1;}#sk-container-id-2 div.sk-label:hover label.sk-toggleable__label {background-color: #d4ebff;}#sk-container-id-2 div.sk-serial::before {content: \"\";position: absolute;border-left: 1px solid gray;box-sizing: border-box;top: 0;bottom: 0;left: 50%;z-index: 0;}#sk-container-id-2 div.sk-serial {display: flex;flex-direction: column;align-items: center;background-color: white;padding-right: 0.2em;padding-left: 0.2em;position: relative;}#sk-container-id-2 div.sk-item {position: relative;z-index: 1;}#sk-container-id-2 div.sk-parallel {display: flex;align-items: stretch;justify-content: center;background-color: white;position: relative;}#sk-container-id-2 div.sk-item::before, #sk-container-id-2 div.sk-parallel-item::before {content: \"\";position: absolute;border-left: 1px solid gray;box-sizing: border-box;top: 0;bottom: 0;left: 50%;z-index: -1;}#sk-container-id-2 div.sk-parallel-item {display: flex;flex-direction: column;z-index: 1;position: relative;background-color: white;}#sk-container-id-2 div.sk-parallel-item:first-child::after {align-self: flex-end;width: 50%;}#sk-container-id-2 div.sk-parallel-item:last-child::after {align-self: flex-start;width: 50%;}#sk-container-id-2 div.sk-parallel-item:only-child::after {width: 0;}#sk-container-id-2 div.sk-dashed-wrapped {border: 1px dashed gray;margin: 0 0.4em 0.5em 0.4em;box-sizing: border-box;padding-bottom: 0.4em;background-color: white;}#sk-container-id-2 div.sk-label label {font-family: monospace;font-weight: bold;display: inline-block;line-height: 1.2em;}#sk-container-id-2 div.sk-label-container {text-align: center;}#sk-container-id-2 div.sk-container {/* jupyter's `normalize.less` sets `[hidden] { display: none; }` but bootstrap.min.css set `[hidden] { display: none !important; }` so we also need the `!important` here to be able to override the default hidden behavior on the sphinx rendered scikit-learn.org. See: https://github.com/scikit-learn/scikit-learn/issues/21755 */display: inline-block !important;position: relative;}#sk-container-id-2 div.sk-text-repr-fallback {display: none;}</style><div id=\"sk-container-id-2\" class=\"sk-top-container\"><div class=\"sk-text-repr-fallback\"><pre>OneHotEncoder()</pre><b>In a Jupyter environment, please rerun this cell to show the HTML representation or trust the notebook. <br />On GitHub, the HTML representation is unable to render, please try loading this page with nbviewer.org.</b></div><div class=\"sk-container\" hidden><div class=\"sk-item\"><div class=\"sk-estimator sk-toggleable\"><input class=\"sk-toggleable__control sk-hidden--visually\" id=\"sk-estimator-id-2\" type=\"checkbox\" checked><label for=\"sk-estimator-id-2\" class=\"sk-toggleable__label sk-toggleable__label-arrow\">OneHotEncoder</label><div class=\"sk-toggleable__content\"><pre>OneHotEncoder()</pre></div></div></div></div></div>"
      ],
      "text/plain": [
       "OneHotEncoder()"
      ]
     },
     "execution_count": 73,
     "metadata": {},
     "output_type": "execute_result"
    }
   ],
   "source": [
    "ohe=OneHotEncoder()\n",
    "ohe.fit(x[['fuel', 'seller_type', 'transmission', 'owner', 'company_name', 'model_name' ]])"
   ]
  },
  {
   "cell_type": "code",
   "execution_count": 74,
   "id": "0b73ee82",
   "metadata": {},
   "outputs": [
    {
     "data": {
      "text/plain": [
       "[array([0, 1, 2, 3], dtype=int64),\n",
       " array([0, 1, 2], dtype=int64),\n",
       " array([0, 1], dtype=int64),\n",
       " array([0, 1, 2, 3, 4], dtype=int64),\n",
       " array(['ambassador', 'ashok', 'audi', 'bmw', 'chevrolet', 'daewoo',\n",
       "        'datsun', 'fiat', 'force', 'ford', 'honda', 'hyundai', 'isuzu',\n",
       "        'jaguar', 'jeep', 'kia', 'land', 'lexus', 'mahindra', 'maruti',\n",
       "        'mercedes-benz', 'mg', 'mitsubishi', 'nissan', 'opel', 'renault',\n",
       "        'skoda', 'tata', 'toyota', 'volkswagen', 'volvo'], dtype=object),\n",
       " array(['3 series 320d', '3 series 320d corporate edition',\n",
       "        '3 series 320d gt luxury line', ..., 'zest revotron 1.2 xt',\n",
       "        'zest revotron 1.2t xm', 'zest revotron 1.2t xms'], dtype=object)]"
      ]
     },
     "execution_count": 74,
     "metadata": {},
     "output_type": "execute_result"
    }
   ],
   "source": [
    "ohe.categories_"
   ]
  },
  {
   "cell_type": "code",
   "execution_count": 75,
   "id": "ec629afd",
   "metadata": {},
   "outputs": [],
   "source": [
    "column_trans = make_column_transformer((OneHotEncoder(categories=ohe.categories_),['fuel', 'seller_type', 'transmission', 'owner', 'company_name', 'model_name']), remainder='passthrough')\n"
   ]
  },
  {
   "cell_type": "code",
   "execution_count": 76,
   "id": "9ed32511",
   "metadata": {},
   "outputs": [],
   "source": [
    "lr= LinearRegression()"
   ]
  },
  {
   "cell_type": "code",
   "execution_count": 77,
   "id": "696e1403",
   "metadata": {},
   "outputs": [],
   "source": [
    "pipe=make_pipeline(column_trans, lr)"
   ]
  },
  {
   "cell_type": "code",
   "execution_count": 78,
   "id": "8cf18059",
   "metadata": {},
   "outputs": [
    {
     "data": {
      "text/html": [
       "<style>#sk-container-id-3 {color: black;background-color: white;}#sk-container-id-3 pre{padding: 0;}#sk-container-id-3 div.sk-toggleable {background-color: white;}#sk-container-id-3 label.sk-toggleable__label {cursor: pointer;display: block;width: 100%;margin-bottom: 0;padding: 0.3em;box-sizing: border-box;text-align: center;}#sk-container-id-3 label.sk-toggleable__label-arrow:before {content: \"▸\";float: left;margin-right: 0.25em;color: #696969;}#sk-container-id-3 label.sk-toggleable__label-arrow:hover:before {color: black;}#sk-container-id-3 div.sk-estimator:hover label.sk-toggleable__label-arrow:before {color: black;}#sk-container-id-3 div.sk-toggleable__content {max-height: 0;max-width: 0;overflow: hidden;text-align: left;background-color: #f0f8ff;}#sk-container-id-3 div.sk-toggleable__content pre {margin: 0.2em;color: black;border-radius: 0.25em;background-color: #f0f8ff;}#sk-container-id-3 input.sk-toggleable__control:checked~div.sk-toggleable__content {max-height: 200px;max-width: 100%;overflow: auto;}#sk-container-id-3 input.sk-toggleable__control:checked~label.sk-toggleable__label-arrow:before {content: \"▾\";}#sk-container-id-3 div.sk-estimator input.sk-toggleable__control:checked~label.sk-toggleable__label {background-color: #d4ebff;}#sk-container-id-3 div.sk-label input.sk-toggleable__control:checked~label.sk-toggleable__label {background-color: #d4ebff;}#sk-container-id-3 input.sk-hidden--visually {border: 0;clip: rect(1px 1px 1px 1px);clip: rect(1px, 1px, 1px, 1px);height: 1px;margin: -1px;overflow: hidden;padding: 0;position: absolute;width: 1px;}#sk-container-id-3 div.sk-estimator {font-family: monospace;background-color: #f0f8ff;border: 1px dotted black;border-radius: 0.25em;box-sizing: border-box;margin-bottom: 0.5em;}#sk-container-id-3 div.sk-estimator:hover {background-color: #d4ebff;}#sk-container-id-3 div.sk-parallel-item::after {content: \"\";width: 100%;border-bottom: 1px solid gray;flex-grow: 1;}#sk-container-id-3 div.sk-label:hover label.sk-toggleable__label {background-color: #d4ebff;}#sk-container-id-3 div.sk-serial::before {content: \"\";position: absolute;border-left: 1px solid gray;box-sizing: border-box;top: 0;bottom: 0;left: 50%;z-index: 0;}#sk-container-id-3 div.sk-serial {display: flex;flex-direction: column;align-items: center;background-color: white;padding-right: 0.2em;padding-left: 0.2em;position: relative;}#sk-container-id-3 div.sk-item {position: relative;z-index: 1;}#sk-container-id-3 div.sk-parallel {display: flex;align-items: stretch;justify-content: center;background-color: white;position: relative;}#sk-container-id-3 div.sk-item::before, #sk-container-id-3 div.sk-parallel-item::before {content: \"\";position: absolute;border-left: 1px solid gray;box-sizing: border-box;top: 0;bottom: 0;left: 50%;z-index: -1;}#sk-container-id-3 div.sk-parallel-item {display: flex;flex-direction: column;z-index: 1;position: relative;background-color: white;}#sk-container-id-3 div.sk-parallel-item:first-child::after {align-self: flex-end;width: 50%;}#sk-container-id-3 div.sk-parallel-item:last-child::after {align-self: flex-start;width: 50%;}#sk-container-id-3 div.sk-parallel-item:only-child::after {width: 0;}#sk-container-id-3 div.sk-dashed-wrapped {border: 1px dashed gray;margin: 0 0.4em 0.5em 0.4em;box-sizing: border-box;padding-bottom: 0.4em;background-color: white;}#sk-container-id-3 div.sk-label label {font-family: monospace;font-weight: bold;display: inline-block;line-height: 1.2em;}#sk-container-id-3 div.sk-label-container {text-align: center;}#sk-container-id-3 div.sk-container {/* jupyter's `normalize.less` sets `[hidden] { display: none; }` but bootstrap.min.css set `[hidden] { display: none !important; }` so we also need the `!important` here to be able to override the default hidden behavior on the sphinx rendered scikit-learn.org. See: https://github.com/scikit-learn/scikit-learn/issues/21755 */display: inline-block !important;position: relative;}#sk-container-id-3 div.sk-text-repr-fallback {display: none;}</style><div id=\"sk-container-id-3\" class=\"sk-top-container\"><div class=\"sk-text-repr-fallback\"><pre>Pipeline(steps=[(&#x27;columntransformer&#x27;,\n",
       "                 ColumnTransformer(remainder=&#x27;passthrough&#x27;,\n",
       "                                   transformers=[(&#x27;onehotencoder&#x27;,\n",
       "                                                  OneHotEncoder(categories=[array([0, 1, 2, 3], dtype=int64),\n",
       "                                                                            array([0, 1, 2], dtype=int64),\n",
       "                                                                            array([0, 1], dtype=int64),\n",
       "                                                                            array([0, 1, 2, 3, 4], dtype=int64),\n",
       "                                                                            array([&#x27;ambassador&#x27;, &#x27;ashok&#x27;, &#x27;audi&#x27;, &#x27;bmw&#x27;, &#x27;chevrolet&#x27;, &#x27;daewoo&#x27;,\n",
       "       &#x27;datsun&#x27;, &#x27;fiat&#x27;, &#x27;force&#x27;, &#x27;ford&#x27;, &#x27;honda&#x27;, &#x27;...\n",
       "       &#x27;mercedes-benz&#x27;, &#x27;mg&#x27;, &#x27;mitsubishi&#x27;, &#x27;nissan&#x27;, &#x27;opel&#x27;, &#x27;renault&#x27;,\n",
       "       &#x27;skoda&#x27;, &#x27;tata&#x27;, &#x27;toyota&#x27;, &#x27;volkswagen&#x27;, &#x27;volvo&#x27;], dtype=object),\n",
       "                                                                            array([&#x27;3 series 320d&#x27;, &#x27;3 series 320d corporate edition&#x27;,\n",
       "       &#x27;3 series 320d gt luxury line&#x27;, ..., &#x27;zest revotron 1.2 xt&#x27;,\n",
       "       &#x27;zest revotron 1.2t xm&#x27;, &#x27;zest revotron 1.2t xms&#x27;], dtype=object)]),\n",
       "                                                  [&#x27;fuel&#x27;, &#x27;seller_type&#x27;,\n",
       "                                                   &#x27;transmission&#x27;, &#x27;owner&#x27;,\n",
       "                                                   &#x27;company_name&#x27;,\n",
       "                                                   &#x27;model_name&#x27;])])),\n",
       "                (&#x27;linearregression&#x27;, LinearRegression())])</pre><b>In a Jupyter environment, please rerun this cell to show the HTML representation or trust the notebook. <br />On GitHub, the HTML representation is unable to render, please try loading this page with nbviewer.org.</b></div><div class=\"sk-container\" hidden><div class=\"sk-item sk-dashed-wrapped\"><div class=\"sk-label-container\"><div class=\"sk-label sk-toggleable\"><input class=\"sk-toggleable__control sk-hidden--visually\" id=\"sk-estimator-id-3\" type=\"checkbox\" ><label for=\"sk-estimator-id-3\" class=\"sk-toggleable__label sk-toggleable__label-arrow\">Pipeline</label><div class=\"sk-toggleable__content\"><pre>Pipeline(steps=[(&#x27;columntransformer&#x27;,\n",
       "                 ColumnTransformer(remainder=&#x27;passthrough&#x27;,\n",
       "                                   transformers=[(&#x27;onehotencoder&#x27;,\n",
       "                                                  OneHotEncoder(categories=[array([0, 1, 2, 3], dtype=int64),\n",
       "                                                                            array([0, 1, 2], dtype=int64),\n",
       "                                                                            array([0, 1], dtype=int64),\n",
       "                                                                            array([0, 1, 2, 3, 4], dtype=int64),\n",
       "                                                                            array([&#x27;ambassador&#x27;, &#x27;ashok&#x27;, &#x27;audi&#x27;, &#x27;bmw&#x27;, &#x27;chevrolet&#x27;, &#x27;daewoo&#x27;,\n",
       "       &#x27;datsun&#x27;, &#x27;fiat&#x27;, &#x27;force&#x27;, &#x27;ford&#x27;, &#x27;honda&#x27;, &#x27;...\n",
       "       &#x27;mercedes-benz&#x27;, &#x27;mg&#x27;, &#x27;mitsubishi&#x27;, &#x27;nissan&#x27;, &#x27;opel&#x27;, &#x27;renault&#x27;,\n",
       "       &#x27;skoda&#x27;, &#x27;tata&#x27;, &#x27;toyota&#x27;, &#x27;volkswagen&#x27;, &#x27;volvo&#x27;], dtype=object),\n",
       "                                                                            array([&#x27;3 series 320d&#x27;, &#x27;3 series 320d corporate edition&#x27;,\n",
       "       &#x27;3 series 320d gt luxury line&#x27;, ..., &#x27;zest revotron 1.2 xt&#x27;,\n",
       "       &#x27;zest revotron 1.2t xm&#x27;, &#x27;zest revotron 1.2t xms&#x27;], dtype=object)]),\n",
       "                                                  [&#x27;fuel&#x27;, &#x27;seller_type&#x27;,\n",
       "                                                   &#x27;transmission&#x27;, &#x27;owner&#x27;,\n",
       "                                                   &#x27;company_name&#x27;,\n",
       "                                                   &#x27;model_name&#x27;])])),\n",
       "                (&#x27;linearregression&#x27;, LinearRegression())])</pre></div></div></div><div class=\"sk-serial\"><div class=\"sk-item sk-dashed-wrapped\"><div class=\"sk-label-container\"><div class=\"sk-label sk-toggleable\"><input class=\"sk-toggleable__control sk-hidden--visually\" id=\"sk-estimator-id-4\" type=\"checkbox\" ><label for=\"sk-estimator-id-4\" class=\"sk-toggleable__label sk-toggleable__label-arrow\">columntransformer: ColumnTransformer</label><div class=\"sk-toggleable__content\"><pre>ColumnTransformer(remainder=&#x27;passthrough&#x27;,\n",
       "                  transformers=[(&#x27;onehotencoder&#x27;,\n",
       "                                 OneHotEncoder(categories=[array([0, 1, 2, 3], dtype=int64),\n",
       "                                                           array([0, 1, 2], dtype=int64),\n",
       "                                                           array([0, 1], dtype=int64),\n",
       "                                                           array([0, 1, 2, 3, 4], dtype=int64),\n",
       "                                                           array([&#x27;ambassador&#x27;, &#x27;ashok&#x27;, &#x27;audi&#x27;, &#x27;bmw&#x27;, &#x27;chevrolet&#x27;, &#x27;daewoo&#x27;,\n",
       "       &#x27;datsun&#x27;, &#x27;fiat&#x27;, &#x27;force&#x27;, &#x27;ford&#x27;, &#x27;honda&#x27;, &#x27;hyundai&#x27;, &#x27;isuzu&#x27;,\n",
       "       &#x27;jaguar&#x27;, &#x27;jeep&#x27;, &#x27;kia...\n",
       "       &#x27;mercedes-benz&#x27;, &#x27;mg&#x27;, &#x27;mitsubishi&#x27;, &#x27;nissan&#x27;, &#x27;opel&#x27;, &#x27;renault&#x27;,\n",
       "       &#x27;skoda&#x27;, &#x27;tata&#x27;, &#x27;toyota&#x27;, &#x27;volkswagen&#x27;, &#x27;volvo&#x27;], dtype=object),\n",
       "                                                           array([&#x27;3 series 320d&#x27;, &#x27;3 series 320d corporate edition&#x27;,\n",
       "       &#x27;3 series 320d gt luxury line&#x27;, ..., &#x27;zest revotron 1.2 xt&#x27;,\n",
       "       &#x27;zest revotron 1.2t xm&#x27;, &#x27;zest revotron 1.2t xms&#x27;], dtype=object)]),\n",
       "                                 [&#x27;fuel&#x27;, &#x27;seller_type&#x27;, &#x27;transmission&#x27;,\n",
       "                                  &#x27;owner&#x27;, &#x27;company_name&#x27;, &#x27;model_name&#x27;])])</pre></div></div></div><div class=\"sk-parallel\"><div class=\"sk-parallel-item\"><div class=\"sk-item\"><div class=\"sk-label-container\"><div class=\"sk-label sk-toggleable\"><input class=\"sk-toggleable__control sk-hidden--visually\" id=\"sk-estimator-id-5\" type=\"checkbox\" ><label for=\"sk-estimator-id-5\" class=\"sk-toggleable__label sk-toggleable__label-arrow\">onehotencoder</label><div class=\"sk-toggleable__content\"><pre>[&#x27;fuel&#x27;, &#x27;seller_type&#x27;, &#x27;transmission&#x27;, &#x27;owner&#x27;, &#x27;company_name&#x27;, &#x27;model_name&#x27;]</pre></div></div></div><div class=\"sk-serial\"><div class=\"sk-item\"><div class=\"sk-estimator sk-toggleable\"><input class=\"sk-toggleable__control sk-hidden--visually\" id=\"sk-estimator-id-6\" type=\"checkbox\" ><label for=\"sk-estimator-id-6\" class=\"sk-toggleable__label sk-toggleable__label-arrow\">OneHotEncoder</label><div class=\"sk-toggleable__content\"><pre>OneHotEncoder(categories=[array([0, 1, 2, 3], dtype=int64),\n",
       "                          array([0, 1, 2], dtype=int64),\n",
       "                          array([0, 1], dtype=int64),\n",
       "                          array([0, 1, 2, 3, 4], dtype=int64),\n",
       "                          array([&#x27;ambassador&#x27;, &#x27;ashok&#x27;, &#x27;audi&#x27;, &#x27;bmw&#x27;, &#x27;chevrolet&#x27;, &#x27;daewoo&#x27;,\n",
       "       &#x27;datsun&#x27;, &#x27;fiat&#x27;, &#x27;force&#x27;, &#x27;ford&#x27;, &#x27;honda&#x27;, &#x27;hyundai&#x27;, &#x27;isuzu&#x27;,\n",
       "       &#x27;jaguar&#x27;, &#x27;jeep&#x27;, &#x27;kia&#x27;, &#x27;land&#x27;, &#x27;lexus&#x27;, &#x27;mahindra&#x27;, &#x27;maruti&#x27;,\n",
       "       &#x27;mercedes-benz&#x27;, &#x27;mg&#x27;, &#x27;mitsubishi&#x27;, &#x27;nissan&#x27;, &#x27;opel&#x27;, &#x27;renault&#x27;,\n",
       "       &#x27;skoda&#x27;, &#x27;tata&#x27;, &#x27;toyota&#x27;, &#x27;volkswagen&#x27;, &#x27;volvo&#x27;], dtype=object),\n",
       "                          array([&#x27;3 series 320d&#x27;, &#x27;3 series 320d corporate edition&#x27;,\n",
       "       &#x27;3 series 320d gt luxury line&#x27;, ..., &#x27;zest revotron 1.2 xt&#x27;,\n",
       "       &#x27;zest revotron 1.2t xm&#x27;, &#x27;zest revotron 1.2t xms&#x27;], dtype=object)])</pre></div></div></div></div></div></div><div class=\"sk-parallel-item\"><div class=\"sk-item\"><div class=\"sk-label-container\"><div class=\"sk-label sk-toggleable\"><input class=\"sk-toggleable__control sk-hidden--visually\" id=\"sk-estimator-id-7\" type=\"checkbox\" ><label for=\"sk-estimator-id-7\" class=\"sk-toggleable__label sk-toggleable__label-arrow\">remainder</label><div class=\"sk-toggleable__content\"><pre>[&#x27;year&#x27;, &#x27;km_driven&#x27;, &#x27;seats&#x27;, &#x27;mileage (kmpl)&#x27;, &#x27;engine (cc)&#x27;, &#x27;max_power (bhp)&#x27;]</pre></div></div></div><div class=\"sk-serial\"><div class=\"sk-item\"><div class=\"sk-estimator sk-toggleable\"><input class=\"sk-toggleable__control sk-hidden--visually\" id=\"sk-estimator-id-8\" type=\"checkbox\" ><label for=\"sk-estimator-id-8\" class=\"sk-toggleable__label sk-toggleable__label-arrow\">passthrough</label><div class=\"sk-toggleable__content\"><pre>passthrough</pre></div></div></div></div></div></div></div></div><div class=\"sk-item\"><div class=\"sk-estimator sk-toggleable\"><input class=\"sk-toggleable__control sk-hidden--visually\" id=\"sk-estimator-id-9\" type=\"checkbox\" ><label for=\"sk-estimator-id-9\" class=\"sk-toggleable__label sk-toggleable__label-arrow\">LinearRegression</label><div class=\"sk-toggleable__content\"><pre>LinearRegression()</pre></div></div></div></div></div></div></div>"
      ],
      "text/plain": [
       "Pipeline(steps=[('columntransformer',\n",
       "                 ColumnTransformer(remainder='passthrough',\n",
       "                                   transformers=[('onehotencoder',\n",
       "                                                  OneHotEncoder(categories=[array([0, 1, 2, 3], dtype=int64),\n",
       "                                                                            array([0, 1, 2], dtype=int64),\n",
       "                                                                            array([0, 1], dtype=int64),\n",
       "                                                                            array([0, 1, 2, 3, 4], dtype=int64),\n",
       "                                                                            array(['ambassador', 'ashok', 'audi', 'bmw', 'chevrolet', 'daewoo',\n",
       "       'datsun', 'fiat', 'force', 'ford', 'honda', '...\n",
       "       'mercedes-benz', 'mg', 'mitsubishi', 'nissan', 'opel', 'renault',\n",
       "       'skoda', 'tata', 'toyota', 'volkswagen', 'volvo'], dtype=object),\n",
       "                                                                            array(['3 series 320d', '3 series 320d corporate edition',\n",
       "       '3 series 320d gt luxury line', ..., 'zest revotron 1.2 xt',\n",
       "       'zest revotron 1.2t xm', 'zest revotron 1.2t xms'], dtype=object)]),\n",
       "                                                  ['fuel', 'seller_type',\n",
       "                                                   'transmission', 'owner',\n",
       "                                                   'company_name',\n",
       "                                                   'model_name'])])),\n",
       "                ('linearregression', LinearRegression())])"
      ]
     },
     "execution_count": 78,
     "metadata": {},
     "output_type": "execute_result"
    }
   ],
   "source": [
    "pipe.fit(x_train,y_train)"
   ]
  },
  {
   "cell_type": "code",
   "execution_count": 79,
   "id": "aeb28ff5",
   "metadata": {},
   "outputs": [],
   "source": [
    "y_pred= pipe.predict(x_test)"
   ]
  },
  {
   "cell_type": "code",
   "execution_count": 80,
   "id": "82c88e63",
   "metadata": {},
   "outputs": [
    {
     "data": {
      "text/plain": [
       "array([ 605560.54053296,  585885.89083657,  484310.66953043, ...,\n",
       "        697278.2423427 ,  289247.66874425, -155018.89336376])"
      ]
     },
     "execution_count": 80,
     "metadata": {},
     "output_type": "execute_result"
    }
   ],
   "source": [
    "y_pred"
   ]
  },
  {
   "cell_type": "code",
   "execution_count": 81,
   "id": "a979632f",
   "metadata": {},
   "outputs": [
    {
     "data": {
      "text/plain": [
       "0.8416561664314092"
      ]
     },
     "execution_count": 81,
     "metadata": {},
     "output_type": "execute_result"
    }
   ],
   "source": [
    "r2_score(y_test, y_pred)"
   ]
  },
  {
   "cell_type": "code",
   "execution_count": 82,
   "id": "a6dd4963",
   "metadata": {},
   "outputs": [],
   "source": [
    "import numpy as np"
   ]
  },
  {
   "cell_type": "code",
   "execution_count": 83,
   "id": "18eeb882",
   "metadata": {},
   "outputs": [],
   "source": [
    "scores=[]\n",
    "for i in range(1000):\n",
    "    x_train,x_test,y_train,y_test=train_test_split(x,y,test_size=0.2, random_state=i)\n",
    "    lr=LinearRegression()\n",
    "    pipe=make_pipeline(column_trans,lr)\n",
    "    pipe.fit(x_train,y_train)\n",
    "    y_pred=pipe.predict(x_test)\n",
    "    scores.append(r2_score(y_test,y_pred))"
   ]
  },
  {
   "cell_type": "code",
   "execution_count": 84,
   "id": "438ba883",
   "metadata": {},
   "outputs": [
    {
     "data": {
      "text/plain": [
       "555"
      ]
     },
     "execution_count": 84,
     "metadata": {},
     "output_type": "execute_result"
    }
   ],
   "source": [
    "np.argmax(scores)"
   ]
  },
  {
   "cell_type": "code",
   "execution_count": 85,
   "id": "fa87b083",
   "metadata": {},
   "outputs": [
    {
     "data": {
      "text/plain": [
       "0.8918018461667707"
      ]
     },
     "execution_count": 85,
     "metadata": {},
     "output_type": "execute_result"
    }
   ],
   "source": [
    "scores[np.argmax(scores)]"
   ]
  },
  {
   "cell_type": "code",
   "execution_count": 86,
   "id": "008e1eef",
   "metadata": {},
   "outputs": [
    {
     "data": {
      "text/plain": [
       "0.8918018461667707"
      ]
     },
     "execution_count": 86,
     "metadata": {},
     "output_type": "execute_result"
    }
   ],
   "source": [
    "x_train,x_test,y_train,y_test=train_test_split(x,y,test_size=0.2, random_state=np.argmax(scores))\n",
    "lr=LinearRegression()\n",
    "pipe=make_pipeline(column_trans,lr)\n",
    "pipe.fit(x_train,y_train)\n",
    "y_pred=pipe.predict(x_test)\n",
    "r2_score(y_test, y_pred)"
   ]
  },
  {
   "cell_type": "code",
   "execution_count": 87,
   "id": "d8d14fd0",
   "metadata": {},
   "outputs": [
    {
     "name": "stdout",
     "output_type": "stream",
     "text": [
      "Requirement already satisfied: pickle-mixin in c:\\users\\shivanshu\\appdata\\local\\programs\\python\\python310\\lib\\site-packages (1.0.2)\n"
     ]
    }
   ],
   "source": [
    "!pip install pickle-mixin"
   ]
  },
  {
   "cell_type": "code",
   "execution_count": 88,
   "id": "0520bca4",
   "metadata": {},
   "outputs": [
    {
     "name": "stdout",
     "output_type": "stream",
     "text": [
      "Requirement already satisfied: pickle-mixin in c:\\users\\shivanshu\\appdata\\local\\programs\\python\\python310\\lib\\site-packages (1.0.2)\n",
      "Note: you may need to restart the kernel to use updated packages.\n"
     ]
    }
   ],
   "source": [
    "pip install pickle-mixin"
   ]
  },
  {
   "cell_type": "code",
   "execution_count": 89,
   "id": "7824cbff",
   "metadata": {},
   "outputs": [],
   "source": [
    "import pickle"
   ]
  },
  {
   "cell_type": "code",
   "execution_count": 90,
   "id": "b2e4b8df",
   "metadata": {},
   "outputs": [],
   "source": [
    "pickle.dump(pipe,open('LinearRegressionModel.pkl', 'wb'))"
   ]
  },
  {
   "cell_type": "code",
   "execution_count": 91,
   "id": "dbd2b483",
   "metadata": {
    "scrolled": true
   },
   "outputs": [],
   "source": [
    "model = pickle.load(open('LinearRegressionModel.pkl','rb'))"
   ]
  },
  {
   "cell_type": "code",
   "execution_count": 102,
   "id": "cf7a797a",
   "metadata": {},
   "outputs": [],
   "source": [
    "frame=pd.DataFrame([['2007', '100000', 'petrol', 'individual', 'manual', 'first owner', '5.0', 'tata', 'indigo cr4', '18.50', '1398.0', '79.0']], columns=['year', 'km_driven', 'fuel', 'seller_type', 'transmission', 'owner', 'seats', 'company_name', 'model_name', 'mileage (kmpl)', 'engine (cc)', 'max_power (bhp)'])"
   ]
  },
  {
   "cell_type": "code",
   "execution_count": 93,
   "id": "5dadc110",
   "metadata": {},
   "outputs": [
    {
     "data": {
      "text/html": [
       "<div>\n",
       "<style scoped>\n",
       "    .dataframe tbody tr th:only-of-type {\n",
       "        vertical-align: middle;\n",
       "    }\n",
       "\n",
       "    .dataframe tbody tr th {\n",
       "        vertical-align: top;\n",
       "    }\n",
       "\n",
       "    .dataframe thead th {\n",
       "        text-align: right;\n",
       "    }\n",
       "</style>\n",
       "<table border=\"1\" class=\"dataframe\">\n",
       "  <thead>\n",
       "    <tr style=\"text-align: right;\">\n",
       "      <th></th>\n",
       "      <th>year</th>\n",
       "      <th>km_driven</th>\n",
       "      <th>fuel</th>\n",
       "      <th>seller_type</th>\n",
       "      <th>transmission</th>\n",
       "      <th>owner</th>\n",
       "      <th>seats</th>\n",
       "      <th>company_name</th>\n",
       "      <th>model_name</th>\n",
       "      <th>mileage (kmpl)</th>\n",
       "      <th>engine (cc)</th>\n",
       "      <th>max_power (bhp)</th>\n",
       "    </tr>\n",
       "  </thead>\n",
       "  <tbody>\n",
       "    <tr>\n",
       "      <th>0</th>\n",
       "      <td>2014</td>\n",
       "      <td>145500</td>\n",
       "      <td>1</td>\n",
       "      <td>0</td>\n",
       "      <td>0</td>\n",
       "      <td>1</td>\n",
       "      <td>5.0</td>\n",
       "      <td>maruti</td>\n",
       "      <td>swift dzire vdi</td>\n",
       "      <td>23.40</td>\n",
       "      <td>1248.0</td>\n",
       "      <td>74.00</td>\n",
       "    </tr>\n",
       "    <tr>\n",
       "      <th>1</th>\n",
       "      <td>2014</td>\n",
       "      <td>120000</td>\n",
       "      <td>1</td>\n",
       "      <td>0</td>\n",
       "      <td>0</td>\n",
       "      <td>2</td>\n",
       "      <td>5.0</td>\n",
       "      <td>skoda</td>\n",
       "      <td>rapid 1.5 tdi ambition</td>\n",
       "      <td>21.14</td>\n",
       "      <td>1498.0</td>\n",
       "      <td>103.52</td>\n",
       "    </tr>\n",
       "    <tr>\n",
       "      <th>2</th>\n",
       "      <td>2006</td>\n",
       "      <td>140000</td>\n",
       "      <td>0</td>\n",
       "      <td>0</td>\n",
       "      <td>0</td>\n",
       "      <td>3</td>\n",
       "      <td>5.0</td>\n",
       "      <td>honda</td>\n",
       "      <td>city 2017-2020 exi</td>\n",
       "      <td>17.70</td>\n",
       "      <td>1497.0</td>\n",
       "      <td>78.00</td>\n",
       "    </tr>\n",
       "    <tr>\n",
       "      <th>3</th>\n",
       "      <td>2010</td>\n",
       "      <td>127000</td>\n",
       "      <td>1</td>\n",
       "      <td>0</td>\n",
       "      <td>0</td>\n",
       "      <td>1</td>\n",
       "      <td>5.0</td>\n",
       "      <td>hyundai</td>\n",
       "      <td>i20 sportz diesel</td>\n",
       "      <td>23.00</td>\n",
       "      <td>1396.0</td>\n",
       "      <td>90.00</td>\n",
       "    </tr>\n",
       "    <tr>\n",
       "      <th>4</th>\n",
       "      <td>2007</td>\n",
       "      <td>120000</td>\n",
       "      <td>0</td>\n",
       "      <td>0</td>\n",
       "      <td>0</td>\n",
       "      <td>1</td>\n",
       "      <td>5.0</td>\n",
       "      <td>maruti</td>\n",
       "      <td>swift vxi bsiii</td>\n",
       "      <td>16.10</td>\n",
       "      <td>1298.0</td>\n",
       "      <td>88.20</td>\n",
       "    </tr>\n",
       "  </tbody>\n",
       "</table>\n",
       "</div>"
      ],
      "text/plain": [
       "   year  km_driven  fuel  seller_type  transmission  owner  seats  \\\n",
       "0  2014     145500     1            0             0      1    5.0   \n",
       "1  2014     120000     1            0             0      2    5.0   \n",
       "2  2006     140000     0            0             0      3    5.0   \n",
       "3  2010     127000     1            0             0      1    5.0   \n",
       "4  2007     120000     0            0             0      1    5.0   \n",
       "\n",
       "  company_name              model_name  mileage (kmpl)  engine (cc)  \\\n",
       "0       maruti         swift dzire vdi           23.40       1248.0   \n",
       "1        skoda  rapid 1.5 tdi ambition           21.14       1498.0   \n",
       "2        honda      city 2017-2020 exi           17.70       1497.0   \n",
       "3      hyundai       i20 sportz diesel           23.00       1396.0   \n",
       "4       maruti         swift vxi bsiii           16.10       1298.0   \n",
       "\n",
       "   max_power (bhp)  \n",
       "0            74.00  \n",
       "1           103.52  \n",
       "2            78.00  \n",
       "3            90.00  \n",
       "4            88.20  "
      ]
     },
     "execution_count": 93,
     "metadata": {},
     "output_type": "execute_result"
    }
   ],
   "source": [
    "x.head()"
   ]
  },
  {
   "cell_type": "code",
   "execution_count": 105,
   "id": "5f8e5ee4",
   "metadata": {},
   "outputs": [
    {
     "data": {
      "text/plain": [
       "array([461127.85166258])"
      ]
     },
     "execution_count": 105,
     "metadata": {},
     "output_type": "execute_result"
    }
   ],
   "source": [
    "model.predict(pd.DataFrame([['2007', '100000', 1, 1, 0, 1, '5.0', 'tata', 'indigo cr4', '18.50', '1398.0','111.0']], columns=['year', 'km_driven', 'fuel', 'seller_type', 'transmission', 'owner', 'seats', 'company_name', 'model_name', 'mileage (kmpl)', 'engine (cc)', 'max_power (bhp)']))"
   ]
  },
  {
   "cell_type": "code",
   "execution_count": 106,
   "id": "5cf94205",
   "metadata": {},
   "outputs": [
    {
     "ename": "ValueError",
     "evalue": "columns are missing: {'max_power (bhp)'}",
     "output_type": "error",
     "traceback": [
      "\u001b[1;31m---------------------------------------------------------------------------\u001b[0m",
      "\u001b[1;31mValueError\u001b[0m                                Traceback (most recent call last)",
      "Input \u001b[1;32mIn [106]\u001b[0m, in \u001b[0;36m<cell line: 1>\u001b[1;34m()\u001b[0m\n\u001b[1;32m----> 1\u001b[0m \u001b[43mmodel\u001b[49m\u001b[38;5;241;43m.\u001b[39;49m\u001b[43mpredict\u001b[49m\u001b[43m(\u001b[49m\u001b[43mframe\u001b[49m\u001b[43m)\u001b[49m\n",
      "File \u001b[1;32m~\\AppData\\Local\\Programs\\Python\\Python310\\lib\\site-packages\\sklearn\\pipeline.py:457\u001b[0m, in \u001b[0;36mPipeline.predict\u001b[1;34m(self, X, **predict_params)\u001b[0m\n\u001b[0;32m    455\u001b[0m Xt \u001b[38;5;241m=\u001b[39m X\n\u001b[0;32m    456\u001b[0m \u001b[38;5;28;01mfor\u001b[39;00m _, name, transform \u001b[38;5;129;01min\u001b[39;00m \u001b[38;5;28mself\u001b[39m\u001b[38;5;241m.\u001b[39m_iter(with_final\u001b[38;5;241m=\u001b[39m\u001b[38;5;28;01mFalse\u001b[39;00m):\n\u001b[1;32m--> 457\u001b[0m     Xt \u001b[38;5;241m=\u001b[39m \u001b[43mtransform\u001b[49m\u001b[38;5;241;43m.\u001b[39;49m\u001b[43mtransform\u001b[49m\u001b[43m(\u001b[49m\u001b[43mXt\u001b[49m\u001b[43m)\u001b[49m\n\u001b[0;32m    458\u001b[0m \u001b[38;5;28;01mreturn\u001b[39;00m \u001b[38;5;28mself\u001b[39m\u001b[38;5;241m.\u001b[39msteps[\u001b[38;5;241m-\u001b[39m\u001b[38;5;241m1\u001b[39m][\u001b[38;5;241m1\u001b[39m]\u001b[38;5;241m.\u001b[39mpredict(Xt, \u001b[38;5;241m*\u001b[39m\u001b[38;5;241m*\u001b[39mpredict_params)\n",
      "File \u001b[1;32m~\\AppData\\Local\\Programs\\Python\\Python310\\lib\\site-packages\\sklearn\\compose\\_column_transformer.py:757\u001b[0m, in \u001b[0;36mColumnTransformer.transform\u001b[1;34m(self, X)\u001b[0m\n\u001b[0;32m    755\u001b[0m     diff \u001b[38;5;241m=\u001b[39m all_names \u001b[38;5;241m-\u001b[39m \u001b[38;5;28mset\u001b[39m(X\u001b[38;5;241m.\u001b[39mcolumns)\n\u001b[0;32m    756\u001b[0m     \u001b[38;5;28;01mif\u001b[39;00m diff:\n\u001b[1;32m--> 757\u001b[0m         \u001b[38;5;28;01mraise\u001b[39;00m \u001b[38;5;167;01mValueError\u001b[39;00m(\u001b[38;5;124mf\u001b[39m\u001b[38;5;124m\"\u001b[39m\u001b[38;5;124mcolumns are missing: \u001b[39m\u001b[38;5;132;01m{\u001b[39;00mdiff\u001b[38;5;132;01m}\u001b[39;00m\u001b[38;5;124m\"\u001b[39m)\n\u001b[0;32m    758\u001b[0m \u001b[38;5;28;01melse\u001b[39;00m:\n\u001b[0;32m    759\u001b[0m     \u001b[38;5;66;03m# ndarray was used for fitting or transforming, thus we only\u001b[39;00m\n\u001b[0;32m    760\u001b[0m     \u001b[38;5;66;03m# check that n_features_in_ is consistent\u001b[39;00m\n\u001b[0;32m    761\u001b[0m     \u001b[38;5;28mself\u001b[39m\u001b[38;5;241m.\u001b[39m_check_n_features(X, reset\u001b[38;5;241m=\u001b[39m\u001b[38;5;28;01mFalse\u001b[39;00m)\n",
      "\u001b[1;31mValueError\u001b[0m: columns are missing: {'max_power (bhp)'}"
     ]
    }
   ],
   "source": [
    "model.predict(frame)"
   ]
  },
  {
   "cell_type": "code",
   "execution_count": null,
   "id": "ad7371ac",
   "metadata": {},
   "outputs": [],
   "source": []
  }
 ],
 "metadata": {
  "kernelspec": {
   "display_name": "Python 3 (ipykernel)",
   "language": "python",
   "name": "python3"
  },
  "language_info": {
   "codemirror_mode": {
    "name": "ipython",
    "version": 3
   },
   "file_extension": ".py",
   "mimetype": "text/x-python",
   "name": "python",
   "nbconvert_exporter": "python",
   "pygments_lexer": "ipython3",
   "version": "3.10.4"
  }
 },
 "nbformat": 4,
 "nbformat_minor": 5
}
