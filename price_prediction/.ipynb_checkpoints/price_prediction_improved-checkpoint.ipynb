{
 "cells": [
  {
   "cell_type": "code",
   "execution_count": 1,
   "id": "8f233f6c",
   "metadata": {},
   "outputs": [],
   "source": [
    "import pandas as pd\n",
    "df = pd.read_csv('Car details v3.csv')"
   ]
  },
  {
   "cell_type": "code",
   "execution_count": 2,
   "id": "c5f88c6d",
   "metadata": {},
   "outputs": [],
   "source": [
    "df.drop('torque', inplace=True, axis=1)"
   ]
  },
  {
   "cell_type": "code",
   "execution_count": 3,
   "id": "975dd42c",
   "metadata": {},
   "outputs": [
    {
     "name": "stdout",
     "output_type": "stream",
     "text": [
      "                              name  year  selling_price  km_driven    fuel  \\\n",
      "0           Maruti Swift Dzire VDI  2014         450000     145500  Diesel   \n",
      "1     Skoda Rapid 1.5 TDI Ambition  2014         370000     120000  Diesel   \n",
      "2         Honda City 2017-2020 EXi  2006         158000     140000  Petrol   \n",
      "3        Hyundai i20 Sportz Diesel  2010         225000     127000  Diesel   \n",
      "4           Maruti Swift VXI BSIII  2007         130000     120000  Petrol   \n",
      "...                            ...   ...            ...        ...     ...   \n",
      "8123             Hyundai i20 Magna  2013         320000     110000  Petrol   \n",
      "8124         Hyundai Verna CRDi SX  2007         135000     119000  Diesel   \n",
      "8125        Maruti Swift Dzire ZDi  2009         382000     120000  Diesel   \n",
      "8126               Tata Indigo CR4  2013         290000      25000  Diesel   \n",
      "8127               Tata Indigo CR4  2013         290000      25000  Diesel   \n",
      "\n",
      "     seller_type transmission                 owner     mileage   engine  \\\n",
      "0     Individual       Manual           First Owner   23.4 kmpl  1248 CC   \n",
      "1     Individual       Manual          Second Owner  21.14 kmpl  1498 CC   \n",
      "2     Individual       Manual           Third Owner   17.7 kmpl  1497 CC   \n",
      "3     Individual       Manual           First Owner   23.0 kmpl  1396 CC   \n",
      "4     Individual       Manual           First Owner   16.1 kmpl  1298 CC   \n",
      "...          ...          ...                   ...         ...      ...   \n",
      "8123  Individual       Manual           First Owner   18.5 kmpl  1197 CC   \n",
      "8124  Individual       Manual  Fourth & Above Owner   16.8 kmpl  1493 CC   \n",
      "8125  Individual       Manual           First Owner   19.3 kmpl  1248 CC   \n",
      "8126  Individual       Manual           First Owner  23.57 kmpl  1396 CC   \n",
      "8127  Individual       Manual           First Owner  23.57 kmpl  1396 CC   \n",
      "\n",
      "       max_power  seats  \n",
      "0         74 bhp    5.0  \n",
      "1     103.52 bhp    5.0  \n",
      "2         78 bhp    5.0  \n",
      "3         90 bhp    5.0  \n",
      "4       88.2 bhp    5.0  \n",
      "...          ...    ...  \n",
      "8123   82.85 bhp    5.0  \n",
      "8124     110 bhp    5.0  \n",
      "8125    73.9 bhp    5.0  \n",
      "8126      70 bhp    5.0  \n",
      "8127      70 bhp    5.0  \n",
      "\n",
      "[8128 rows x 12 columns]\n"
     ]
    }
   ],
   "source": [
    "print (df)"
   ]
  },
  {
   "cell_type": "code",
   "execution_count": 4,
   "id": "c62ab581",
   "metadata": {},
   "outputs": [],
   "source": [
    "backup=df.copy()"
   ]
  },
  {
   "cell_type": "code",
   "execution_count": 5,
   "id": "031580f2",
   "metadata": {},
   "outputs": [],
   "source": [
    "df['company_name'] = df['name'].str.split(' ').str.get(0)"
   ]
  },
  {
   "cell_type": "code",
   "execution_count": 6,
   "id": "e1abba32",
   "metadata": {},
   "outputs": [],
   "source": [
    "df['model_name'] = df['name'].str.split(' ').str.slice(1,10).str.join(' ')"
   ]
  },
  {
   "cell_type": "code",
   "execution_count": 7,
   "id": "c88052c3",
   "metadata": {},
   "outputs": [],
   "source": [
    "df.drop('name', inplace=True, axis=1)"
   ]
  },
  {
   "cell_type": "code",
   "execution_count": 8,
   "id": "457c6824",
   "metadata": {},
   "outputs": [
    {
     "name": "stdout",
     "output_type": "stream",
     "text": [
      "      year  selling_price  km_driven    fuel seller_type transmission  \\\n",
      "0     2014         450000     145500  Diesel  Individual       Manual   \n",
      "1     2014         370000     120000  Diesel  Individual       Manual   \n",
      "2     2006         158000     140000  Petrol  Individual       Manual   \n",
      "3     2010         225000     127000  Diesel  Individual       Manual   \n",
      "4     2007         130000     120000  Petrol  Individual       Manual   \n",
      "...    ...            ...        ...     ...         ...          ...   \n",
      "8123  2013         320000     110000  Petrol  Individual       Manual   \n",
      "8124  2007         135000     119000  Diesel  Individual       Manual   \n",
      "8125  2009         382000     120000  Diesel  Individual       Manual   \n",
      "8126  2013         290000      25000  Diesel  Individual       Manual   \n",
      "8127  2013         290000      25000  Diesel  Individual       Manual   \n",
      "\n",
      "                     owner     mileage   engine   max_power  seats  \\\n",
      "0              First Owner   23.4 kmpl  1248 CC      74 bhp    5.0   \n",
      "1             Second Owner  21.14 kmpl  1498 CC  103.52 bhp    5.0   \n",
      "2              Third Owner   17.7 kmpl  1497 CC      78 bhp    5.0   \n",
      "3              First Owner   23.0 kmpl  1396 CC      90 bhp    5.0   \n",
      "4              First Owner   16.1 kmpl  1298 CC    88.2 bhp    5.0   \n",
      "...                    ...         ...      ...         ...    ...   \n",
      "8123           First Owner   18.5 kmpl  1197 CC   82.85 bhp    5.0   \n",
      "8124  Fourth & Above Owner   16.8 kmpl  1493 CC     110 bhp    5.0   \n",
      "8125           First Owner   19.3 kmpl  1248 CC    73.9 bhp    5.0   \n",
      "8126           First Owner  23.57 kmpl  1396 CC      70 bhp    5.0   \n",
      "8127           First Owner  23.57 kmpl  1396 CC      70 bhp    5.0   \n",
      "\n",
      "     company_name              model_name  \n",
      "0          Maruti         Swift Dzire VDI  \n",
      "1           Skoda  Rapid 1.5 TDI Ambition  \n",
      "2           Honda      City 2017-2020 EXi  \n",
      "3         Hyundai       i20 Sportz Diesel  \n",
      "4          Maruti         Swift VXI BSIII  \n",
      "...           ...                     ...  \n",
      "8123      Hyundai               i20 Magna  \n",
      "8124      Hyundai           Verna CRDi SX  \n",
      "8125       Maruti         Swift Dzire ZDi  \n",
      "8126         Tata              Indigo CR4  \n",
      "8127         Tata              Indigo CR4  \n",
      "\n",
      "[8128 rows x 13 columns]\n"
     ]
    }
   ],
   "source": [
    "print (df)"
   ]
  },
  {
   "cell_type": "code",
   "execution_count": 9,
   "id": "7bd8c254",
   "metadata": {},
   "outputs": [
    {
     "name": "stdout",
     "output_type": "stream",
     "text": [
      "<class 'pandas.core.frame.DataFrame'>\n",
      "RangeIndex: 8128 entries, 0 to 8127\n",
      "Data columns (total 13 columns):\n",
      " #   Column         Non-Null Count  Dtype  \n",
      "---  ------         --------------  -----  \n",
      " 0   year           8128 non-null   int64  \n",
      " 1   selling_price  8128 non-null   int64  \n",
      " 2   km_driven      8128 non-null   int64  \n",
      " 3   fuel           8128 non-null   object \n",
      " 4   seller_type    8128 non-null   object \n",
      " 5   transmission   8128 non-null   object \n",
      " 6   owner          8128 non-null   object \n",
      " 7   mileage        7907 non-null   object \n",
      " 8   engine         7907 non-null   object \n",
      " 9   max_power      7913 non-null   object \n",
      " 10  seats          7907 non-null   float64\n",
      " 11  company_name   8128 non-null   object \n",
      " 12  model_name     8128 non-null   object \n",
      "dtypes: float64(1), int64(3), object(9)\n",
      "memory usage: 825.6+ KB\n"
     ]
    }
   ],
   "source": [
    "df.info()"
   ]
  },
  {
   "cell_type": "code",
   "execution_count": 10,
   "id": "e7d5af91",
   "metadata": {},
   "outputs": [],
   "source": [
    "df['mileage (kmpl)'] = df['mileage']\n",
    "df.drop('mileage', inplace=True, axis=1)\n",
    "df['mileage (kmpl)']=df['mileage (kmpl)'].str.split(' ').str.get(0)\n",
    "\n",
    "df['engine (cc)'] = df['engine']\n",
    "df.drop('engine', inplace=True, axis=1)\n",
    "df['engine (cc)']=df['engine (cc)'].str.split(' ').str.get(0)\n",
    "\n",
    "df['max_power (bhp)'] = df['max_power']\n",
    "df.drop('max_power', inplace=True, axis=1)\n",
    "df['max_power (bhp)']=df['max_power (bhp)'].str.split(' ').str.get(0)"
   ]
  },
  {
   "cell_type": "code",
   "execution_count": 11,
   "id": "9542dcee",
   "metadata": {},
   "outputs": [
    {
     "name": "stdout",
     "output_type": "stream",
     "text": [
      "      year  selling_price  km_driven    fuel seller_type transmission  \\\n",
      "0     2014         450000     145500  Diesel  Individual       Manual   \n",
      "1     2014         370000     120000  Diesel  Individual       Manual   \n",
      "2     2006         158000     140000  Petrol  Individual       Manual   \n",
      "3     2010         225000     127000  Diesel  Individual       Manual   \n",
      "4     2007         130000     120000  Petrol  Individual       Manual   \n",
      "...    ...            ...        ...     ...         ...          ...   \n",
      "8123  2013         320000     110000  Petrol  Individual       Manual   \n",
      "8124  2007         135000     119000  Diesel  Individual       Manual   \n",
      "8125  2009         382000     120000  Diesel  Individual       Manual   \n",
      "8126  2013         290000      25000  Diesel  Individual       Manual   \n",
      "8127  2013         290000      25000  Diesel  Individual       Manual   \n",
      "\n",
      "                     owner  seats company_name              model_name  \\\n",
      "0              First Owner    5.0       Maruti         Swift Dzire VDI   \n",
      "1             Second Owner    5.0        Skoda  Rapid 1.5 TDI Ambition   \n",
      "2              Third Owner    5.0        Honda      City 2017-2020 EXi   \n",
      "3              First Owner    5.0      Hyundai       i20 Sportz Diesel   \n",
      "4              First Owner    5.0       Maruti         Swift VXI BSIII   \n",
      "...                    ...    ...          ...                     ...   \n",
      "8123           First Owner    5.0      Hyundai               i20 Magna   \n",
      "8124  Fourth & Above Owner    5.0      Hyundai           Verna CRDi SX   \n",
      "8125           First Owner    5.0       Maruti         Swift Dzire ZDi   \n",
      "8126           First Owner    5.0         Tata              Indigo CR4   \n",
      "8127           First Owner    5.0         Tata              Indigo CR4   \n",
      "\n",
      "     mileage (kmpl) engine (cc) max_power (bhp)  \n",
      "0              23.4        1248              74  \n",
      "1             21.14        1498          103.52  \n",
      "2              17.7        1497              78  \n",
      "3              23.0        1396              90  \n",
      "4              16.1        1298            88.2  \n",
      "...             ...         ...             ...  \n",
      "8123           18.5        1197           82.85  \n",
      "8124           16.8        1493             110  \n",
      "8125           19.3        1248            73.9  \n",
      "8126          23.57        1396              70  \n",
      "8127          23.57        1396              70  \n",
      "\n",
      "[8128 rows x 13 columns]\n"
     ]
    }
   ],
   "source": [
    "print (df)"
   ]
  },
  {
   "cell_type": "code",
   "execution_count": 12,
   "id": "ce360376",
   "metadata": {},
   "outputs": [
    {
     "name": "stdout",
     "output_type": "stream",
     "text": [
      "<class 'pandas.core.frame.DataFrame'>\n",
      "RangeIndex: 8128 entries, 0 to 8127\n",
      "Data columns (total 13 columns):\n",
      " #   Column           Non-Null Count  Dtype  \n",
      "---  ------           --------------  -----  \n",
      " 0   year             8128 non-null   int64  \n",
      " 1   selling_price    8128 non-null   int64  \n",
      " 2   km_driven        8128 non-null   int64  \n",
      " 3   fuel             8128 non-null   object \n",
      " 4   seller_type      8128 non-null   object \n",
      " 5   transmission     8128 non-null   object \n",
      " 6   owner            8128 non-null   object \n",
      " 7   seats            7907 non-null   float64\n",
      " 8   company_name     8128 non-null   object \n",
      " 9   model_name       8128 non-null   object \n",
      " 10  mileage (kmpl)   7907 non-null   object \n",
      " 11  engine (cc)      7907 non-null   object \n",
      " 12  max_power (bhp)  7913 non-null   object \n",
      "dtypes: float64(1), int64(3), object(9)\n",
      "memory usage: 825.6+ KB\n"
     ]
    }
   ],
   "source": [
    "df.info()"
   ]
  },
  {
   "cell_type": "code",
   "execution_count": 13,
   "id": "810863df",
   "metadata": {},
   "outputs": [
    {
     "data": {
      "text/plain": [
       "0        True\n",
       "1       False\n",
       "2        True\n",
       "3        True\n",
       "4       False\n",
       "        ...  \n",
       "8123    False\n",
       "8124     True\n",
       "8125    False\n",
       "8126     True\n",
       "8127     True\n",
       "Name: max_power (bhp), Length: 8128, dtype: object"
      ]
     },
     "execution_count": 13,
     "metadata": {},
     "output_type": "execute_result"
    }
   ],
   "source": [
    "##df['engine (cc)'].str.isnumeric()\n",
    "df['max_power (bhp)'].str.isnumeric()\n",
    "##df['mileage (kmpl)'].str.isnumeric()\n",
    "\n",
    "##problems\n",
    "##max_power and mileage contains decimel points....system does not recognise it as a numerical value stored in string\n",
    "##all 3 values needs to be converted in integer or double"
   ]
  },
  {
   "cell_type": "code",
   "execution_count": 14,
   "id": "c0756846",
   "metadata": {},
   "outputs": [],
   "source": [
    "df['engine (cc)']=df['engine (cc)'].str.replace(' ','')"
   ]
  },
  {
   "cell_type": "code",
   "execution_count": 15,
   "id": "229a27cb",
   "metadata": {},
   "outputs": [],
   "source": [
    "df['engine (cc)']=df['engine (cc)'].astype(float)"
   ]
  },
  {
   "cell_type": "code",
   "execution_count": 16,
   "id": "b41e71af",
   "metadata": {},
   "outputs": [
    {
     "name": "stdout",
     "output_type": "stream",
     "text": [
      "<class 'pandas.core.frame.DataFrame'>\n",
      "RangeIndex: 8128 entries, 0 to 8127\n",
      "Data columns (total 13 columns):\n",
      " #   Column           Non-Null Count  Dtype  \n",
      "---  ------           --------------  -----  \n",
      " 0   year             8128 non-null   int64  \n",
      " 1   selling_price    8128 non-null   int64  \n",
      " 2   km_driven        8128 non-null   int64  \n",
      " 3   fuel             8128 non-null   object \n",
      " 4   seller_type      8128 non-null   object \n",
      " 5   transmission     8128 non-null   object \n",
      " 6   owner            8128 non-null   object \n",
      " 7   seats            7907 non-null   float64\n",
      " 8   company_name     8128 non-null   object \n",
      " 9   model_name       8128 non-null   object \n",
      " 10  mileage (kmpl)   7907 non-null   object \n",
      " 11  engine (cc)      7907 non-null   float64\n",
      " 12  max_power (bhp)  7913 non-null   object \n",
      "dtypes: float64(2), int64(3), object(8)\n",
      "memory usage: 825.6+ KB\n"
     ]
    }
   ],
   "source": [
    "df.info()"
   ]
  },
  {
   "cell_type": "code",
   "execution_count": 17,
   "id": "694c5ec6",
   "metadata": {},
   "outputs": [],
   "source": [
    "df['mileage (kmpl)']=df['mileage (kmpl)'].str.replace(' ','')"
   ]
  },
  {
   "cell_type": "code",
   "execution_count": 18,
   "id": "1870bb5b",
   "metadata": {},
   "outputs": [
    {
     "name": "stdout",
     "output_type": "stream",
     "text": [
      "      year  selling_price  km_driven    fuel seller_type transmission  \\\n",
      "0     2014         450000     145500  Diesel  Individual       Manual   \n",
      "1     2014         370000     120000  Diesel  Individual       Manual   \n",
      "2     2006         158000     140000  Petrol  Individual       Manual   \n",
      "3     2010         225000     127000  Diesel  Individual       Manual   \n",
      "4     2007         130000     120000  Petrol  Individual       Manual   \n",
      "...    ...            ...        ...     ...         ...          ...   \n",
      "8123  2013         320000     110000  Petrol  Individual       Manual   \n",
      "8124  2007         135000     119000  Diesel  Individual       Manual   \n",
      "8125  2009         382000     120000  Diesel  Individual       Manual   \n",
      "8126  2013         290000      25000  Diesel  Individual       Manual   \n",
      "8127  2013         290000      25000  Diesel  Individual       Manual   \n",
      "\n",
      "                     owner  seats company_name              model_name  \\\n",
      "0              First Owner    5.0       Maruti         Swift Dzire VDI   \n",
      "1             Second Owner    5.0        Skoda  Rapid 1.5 TDI Ambition   \n",
      "2              Third Owner    5.0        Honda      City 2017-2020 EXi   \n",
      "3              First Owner    5.0      Hyundai       i20 Sportz Diesel   \n",
      "4              First Owner    5.0       Maruti         Swift VXI BSIII   \n",
      "...                    ...    ...          ...                     ...   \n",
      "8123           First Owner    5.0      Hyundai               i20 Magna   \n",
      "8124  Fourth & Above Owner    5.0      Hyundai           Verna CRDi SX   \n",
      "8125           First Owner    5.0       Maruti         Swift Dzire ZDi   \n",
      "8126           First Owner    5.0         Tata              Indigo CR4   \n",
      "8127           First Owner    5.0         Tata              Indigo CR4   \n",
      "\n",
      "      mileage (kmpl)  engine (cc) max_power (bhp)  \n",
      "0              23.40       1248.0              74  \n",
      "1              21.14       1498.0          103.52  \n",
      "2              17.70       1497.0              78  \n",
      "3              23.00       1396.0              90  \n",
      "4              16.10       1298.0            88.2  \n",
      "...              ...          ...             ...  \n",
      "8123           18.50       1197.0           82.85  \n",
      "8124           16.80       1493.0             110  \n",
      "8125           19.30       1248.0            73.9  \n",
      "8126           23.57       1396.0              70  \n",
      "8127           23.57       1396.0              70  \n",
      "\n",
      "[8128 rows x 13 columns]\n"
     ]
    }
   ],
   "source": [
    "df['mileage (kmpl)']=df['mileage (kmpl)'].astype(float)\n",
    "print (df)"
   ]
  },
  {
   "cell_type": "code",
   "execution_count": 19,
   "id": "d60ec07e",
   "metadata": {},
   "outputs": [
    {
     "data": {
      "text/plain": [
       "0        True\n",
       "1       False\n",
       "2        True\n",
       "3        True\n",
       "4       False\n",
       "        ...  \n",
       "8123    False\n",
       "8124     True\n",
       "8125    False\n",
       "8126     True\n",
       "8127     True\n",
       "Name: max_power (bhp), Length: 8128, dtype: object"
      ]
     },
     "execution_count": 19,
     "metadata": {},
     "output_type": "execute_result"
    }
   ],
   "source": [
    "df['max_power (bhp)']=df['max_power (bhp)'].str.replace(' ','')\n",
    "df['max_power (bhp)'].str.isnumeric()"
   ]
  },
  {
   "cell_type": "code",
   "execution_count": 20,
   "id": "e1b1f429",
   "metadata": {},
   "outputs": [
    {
     "name": "stdout",
     "output_type": "stream",
     "text": [
      "      year  selling_price  km_driven    fuel seller_type transmission  \\\n",
      "0     2014         450000     145500  Diesel  Individual       Manual   \n",
      "1     2014         370000     120000  Diesel  Individual       Manual   \n",
      "2     2006         158000     140000  Petrol  Individual       Manual   \n",
      "3     2010         225000     127000  Diesel  Individual       Manual   \n",
      "4     2007         130000     120000  Petrol  Individual       Manual   \n",
      "...    ...            ...        ...     ...         ...          ...   \n",
      "8123  2013         320000     110000  Petrol  Individual       Manual   \n",
      "8124  2007         135000     119000  Diesel  Individual       Manual   \n",
      "8125  2009         382000     120000  Diesel  Individual       Manual   \n",
      "8126  2013         290000      25000  Diesel  Individual       Manual   \n",
      "8127  2013         290000      25000  Diesel  Individual       Manual   \n",
      "\n",
      "                     owner  seats company_name              model_name  \\\n",
      "0              First Owner    5.0       Maruti         Swift Dzire VDI   \n",
      "1             Second Owner    5.0        Skoda  Rapid 1.5 TDI Ambition   \n",
      "2              Third Owner    5.0        Honda      City 2017-2020 EXi   \n",
      "3              First Owner    5.0      Hyundai       i20 Sportz Diesel   \n",
      "4              First Owner    5.0       Maruti         Swift VXI BSIII   \n",
      "...                    ...    ...          ...                     ...   \n",
      "8123           First Owner    5.0      Hyundai               i20 Magna   \n",
      "8124  Fourth & Above Owner    5.0      Hyundai           Verna CRDi SX   \n",
      "8125           First Owner    5.0       Maruti         Swift Dzire ZDi   \n",
      "8126           First Owner    5.0         Tata              Indigo CR4   \n",
      "8127           First Owner    5.0         Tata              Indigo CR4   \n",
      "\n",
      "      mileage (kmpl)  engine (cc) max_power (bhp)  \n",
      "0              23.40       1248.0              74  \n",
      "1              21.14       1498.0          103.52  \n",
      "2              17.70       1497.0              78  \n",
      "3              23.00       1396.0              90  \n",
      "4              16.10       1298.0            88.2  \n",
      "...              ...          ...             ...  \n",
      "8123           18.50       1197.0           82.85  \n",
      "8124           16.80       1493.0             110  \n",
      "8125           19.30       1248.0            73.9  \n",
      "8126           23.57       1396.0              70  \n",
      "8127           23.57       1396.0              70  \n",
      "\n",
      "[8128 rows x 13 columns]\n"
     ]
    }
   ],
   "source": [
    "print (df)"
   ]
  },
  {
   "cell_type": "code",
   "execution_count": 21,
   "id": "cc7078f8",
   "metadata": {},
   "outputs": [
    {
     "name": "stdout",
     "output_type": "stream",
     "text": [
      "<class 'pandas.core.frame.DataFrame'>\n",
      "RangeIndex: 8128 entries, 0 to 8127\n",
      "Data columns (total 13 columns):\n",
      " #   Column           Non-Null Count  Dtype  \n",
      "---  ------           --------------  -----  \n",
      " 0   year             8128 non-null   int64  \n",
      " 1   selling_price    8128 non-null   int64  \n",
      " 2   km_driven        8128 non-null   int64  \n",
      " 3   fuel             8128 non-null   object \n",
      " 4   seller_type      8128 non-null   object \n",
      " 5   transmission     8128 non-null   object \n",
      " 6   owner            8128 non-null   object \n",
      " 7   seats            7907 non-null   float64\n",
      " 8   company_name     8128 non-null   object \n",
      " 9   model_name       8128 non-null   object \n",
      " 10  mileage (kmpl)   7907 non-null   float64\n",
      " 11  engine (cc)      7907 non-null   float64\n",
      " 12  max_power (bhp)  7913 non-null   object \n",
      "dtypes: float64(3), int64(3), object(7)\n",
      "memory usage: 825.6+ KB\n"
     ]
    }
   ],
   "source": [
    "df.info()"
   ]
  },
  {
   "cell_type": "code",
   "execution_count": null,
   "id": "d7b8e6d6",
   "metadata": {},
   "outputs": [],
   "source": []
  },
  {
   "cell_type": "code",
   "execution_count": 22,
   "id": "4bad55cf",
   "metadata": {},
   "outputs": [
    {
     "name": "stdout",
     "output_type": "stream",
     "text": [
      "      year  selling_price  km_driven    fuel seller_type transmission  \\\n",
      "0     2014         450000     145500  Diesel  Individual       Manual   \n",
      "1     2014         370000     120000  Diesel  Individual       Manual   \n",
      "2     2006         158000     140000  Petrol  Individual       Manual   \n",
      "3     2010         225000     127000  Diesel  Individual       Manual   \n",
      "4     2007         130000     120000  Petrol  Individual       Manual   \n",
      "...    ...            ...        ...     ...         ...          ...   \n",
      "8123  2013         320000     110000  Petrol  Individual       Manual   \n",
      "8124  2007         135000     119000  Diesel  Individual       Manual   \n",
      "8125  2009         382000     120000  Diesel  Individual       Manual   \n",
      "8126  2013         290000      25000  Diesel  Individual       Manual   \n",
      "8127  2013         290000      25000  Diesel  Individual       Manual   \n",
      "\n",
      "                     owner  seats company_name              model_name  \\\n",
      "0              First Owner    5.0       Maruti         Swift Dzire VDI   \n",
      "1             Second Owner    5.0        Skoda  Rapid 1.5 TDI Ambition   \n",
      "2              Third Owner    5.0        Honda      City 2017-2020 EXi   \n",
      "3              First Owner    5.0      Hyundai       i20 Sportz Diesel   \n",
      "4              First Owner    5.0       Maruti         Swift VXI BSIII   \n",
      "...                    ...    ...          ...                     ...   \n",
      "8123           First Owner    5.0      Hyundai               i20 Magna   \n",
      "8124  Fourth & Above Owner    5.0      Hyundai           Verna CRDi SX   \n",
      "8125           First Owner    5.0       Maruti         Swift Dzire ZDi   \n",
      "8126           First Owner    5.0         Tata              Indigo CR4   \n",
      "8127           First Owner    5.0         Tata              Indigo CR4   \n",
      "\n",
      "      mileage (kmpl)  engine (cc) max_power (bhp)  \n",
      "0              23.40       1248.0              74  \n",
      "1              21.14       1498.0          103.52  \n",
      "2              17.70       1497.0              78  \n",
      "3              23.00       1396.0              90  \n",
      "4              16.10       1298.0            88.2  \n",
      "...              ...          ...             ...  \n",
      "8123           18.50       1197.0           82.85  \n",
      "8124           16.80       1493.0             110  \n",
      "8125           19.30       1248.0            73.9  \n",
      "8126           23.57       1396.0              70  \n",
      "8127           23.57       1396.0              70  \n",
      "\n",
      "[8128 rows x 13 columns]\n"
     ]
    }
   ],
   "source": [
    "print(df)"
   ]
  },
  {
   "cell_type": "code",
   "execution_count": 23,
   "id": "c01e2699",
   "metadata": {},
   "outputs": [
    {
     "name": "stdout",
     "output_type": "stream",
     "text": [
      "<class 'pandas.core.frame.DataFrame'>\n",
      "RangeIndex: 8128 entries, 0 to 8127\n",
      "Data columns (total 13 columns):\n",
      " #   Column           Non-Null Count  Dtype  \n",
      "---  ------           --------------  -----  \n",
      " 0   year             8128 non-null   int64  \n",
      " 1   selling_price    8128 non-null   int64  \n",
      " 2   km_driven        8128 non-null   int64  \n",
      " 3   fuel             8128 non-null   object \n",
      " 4   seller_type      8128 non-null   object \n",
      " 5   transmission     8128 non-null   object \n",
      " 6   owner            8128 non-null   object \n",
      " 7   seats            7907 non-null   float64\n",
      " 8   company_name     8128 non-null   object \n",
      " 9   model_name       8128 non-null   object \n",
      " 10  mileage (kmpl)   7907 non-null   float64\n",
      " 11  engine (cc)      7907 non-null   float64\n",
      " 12  max_power (bhp)  7913 non-null   object \n",
      "dtypes: float64(3), int64(3), object(7)\n",
      "memory usage: 825.6+ KB\n"
     ]
    }
   ],
   "source": [
    "df.info()"
   ]
  },
  {
   "cell_type": "code",
   "execution_count": 24,
   "id": "49a978d1",
   "metadata": {},
   "outputs": [],
   "source": [
    "df['max_power (bhp)'] = pd.to_numeric(df['max_power (bhp)'])  \n"
   ]
  },
  {
   "cell_type": "code",
   "execution_count": 25,
   "id": "a0967d7b",
   "metadata": {},
   "outputs": [
    {
     "name": "stdout",
     "output_type": "stream",
     "text": [
      "<class 'pandas.core.frame.DataFrame'>\n",
      "RangeIndex: 8128 entries, 0 to 8127\n",
      "Data columns (total 13 columns):\n",
      " #   Column           Non-Null Count  Dtype  \n",
      "---  ------           --------------  -----  \n",
      " 0   year             8128 non-null   int64  \n",
      " 1   selling_price    8128 non-null   int64  \n",
      " 2   km_driven        8128 non-null   int64  \n",
      " 3   fuel             8128 non-null   object \n",
      " 4   seller_type      8128 non-null   object \n",
      " 5   transmission     8128 non-null   object \n",
      " 6   owner            8128 non-null   object \n",
      " 7   seats            7907 non-null   float64\n",
      " 8   company_name     8128 non-null   object \n",
      " 9   model_name       8128 non-null   object \n",
      " 10  mileage (kmpl)   7907 non-null   float64\n",
      " 11  engine (cc)      7907 non-null   float64\n",
      " 12  max_power (bhp)  7912 non-null   float64\n",
      "dtypes: float64(4), int64(3), object(6)\n",
      "memory usage: 825.6+ KB\n"
     ]
    }
   ],
   "source": [
    "df.info()"
   ]
  },
  {
   "cell_type": "code",
   "execution_count": 26,
   "id": "b34111fd",
   "metadata": {},
   "outputs": [],
   "source": [
    "df=df.dropna()\n",
    "df=df.reset_index(drop=True)\n"
   ]
  },
  {
   "cell_type": "code",
   "execution_count": 27,
   "id": "e6e11448",
   "metadata": {},
   "outputs": [
    {
     "name": "stdout",
     "output_type": "stream",
     "text": [
      "<class 'pandas.core.frame.DataFrame'>\n",
      "RangeIndex: 7906 entries, 0 to 7905\n",
      "Data columns (total 13 columns):\n",
      " #   Column           Non-Null Count  Dtype  \n",
      "---  ------           --------------  -----  \n",
      " 0   year             7906 non-null   int64  \n",
      " 1   selling_price    7906 non-null   int64  \n",
      " 2   km_driven        7906 non-null   int64  \n",
      " 3   fuel             7906 non-null   object \n",
      " 4   seller_type      7906 non-null   object \n",
      " 5   transmission     7906 non-null   object \n",
      " 6   owner            7906 non-null   object \n",
      " 7   seats            7906 non-null   float64\n",
      " 8   company_name     7906 non-null   object \n",
      " 9   model_name       7906 non-null   object \n",
      " 10  mileage (kmpl)   7906 non-null   float64\n",
      " 11  engine (cc)      7906 non-null   float64\n",
      " 12  max_power (bhp)  7906 non-null   float64\n",
      "dtypes: float64(4), int64(3), object(6)\n",
      "memory usage: 803.1+ KB\n"
     ]
    }
   ],
   "source": [
    "df.info()"
   ]
  },
  {
   "cell_type": "code",
   "execution_count": 28,
   "id": "2f8b9e9e",
   "metadata": {},
   "outputs": [],
   "source": [
    "df['fuel']=df['fuel'].str.lower()\n",
    "df['seller_type']=df['seller_type'].str.lower()\n",
    "df['transmission']=df['transmission'].str.lower()\n",
    "df['owner']=df['owner'].str.lower()\n",
    "df['company_name']=df['company_name'].str.lower()\n",
    "df['model_name']=df['model_name'].str.lower()"
   ]
  },
  {
   "cell_type": "code",
   "execution_count": 29,
   "id": "6470238c",
   "metadata": {
    "scrolled": true
   },
   "outputs": [
    {
     "name": "stdout",
     "output_type": "stream",
     "text": [
      "      year  selling_price  km_driven    fuel seller_type transmission  \\\n",
      "0     2014         450000     145500  diesel  individual       manual   \n",
      "1     2014         370000     120000  diesel  individual       manual   \n",
      "2     2006         158000     140000  petrol  individual       manual   \n",
      "3     2010         225000     127000  diesel  individual       manual   \n",
      "4     2007         130000     120000  petrol  individual       manual   \n",
      "...    ...            ...        ...     ...         ...          ...   \n",
      "7901  2013         320000     110000  petrol  individual       manual   \n",
      "7902  2007         135000     119000  diesel  individual       manual   \n",
      "7903  2009         382000     120000  diesel  individual       manual   \n",
      "7904  2013         290000      25000  diesel  individual       manual   \n",
      "7905  2013         290000      25000  diesel  individual       manual   \n",
      "\n",
      "                     owner  seats company_name              model_name  \\\n",
      "0              first owner    5.0       maruti         swift dzire vdi   \n",
      "1             second owner    5.0        skoda  rapid 1.5 tdi ambition   \n",
      "2              third owner    5.0        honda      city 2017-2020 exi   \n",
      "3              first owner    5.0      hyundai       i20 sportz diesel   \n",
      "4              first owner    5.0       maruti         swift vxi bsiii   \n",
      "...                    ...    ...          ...                     ...   \n",
      "7901           first owner    5.0      hyundai               i20 magna   \n",
      "7902  fourth & above owner    5.0      hyundai           verna crdi sx   \n",
      "7903           first owner    5.0       maruti         swift dzire zdi   \n",
      "7904           first owner    5.0         tata              indigo cr4   \n",
      "7905           first owner    5.0         tata              indigo cr4   \n",
      "\n",
      "      mileage (kmpl)  engine (cc)  max_power (bhp)  \n",
      "0              23.40       1248.0            74.00  \n",
      "1              21.14       1498.0           103.52  \n",
      "2              17.70       1497.0            78.00  \n",
      "3              23.00       1396.0            90.00  \n",
      "4              16.10       1298.0            88.20  \n",
      "...              ...          ...              ...  \n",
      "7901           18.50       1197.0            82.85  \n",
      "7902           16.80       1493.0           110.00  \n",
      "7903           19.30       1248.0            73.90  \n",
      "7904           23.57       1396.0            70.00  \n",
      "7905           23.57       1396.0            70.00  \n",
      "\n",
      "[7906 rows x 13 columns]\n"
     ]
    }
   ],
   "source": [
    "print(df)"
   ]
  },
  {
   "cell_type": "markdown",
   "id": "844e37df",
   "metadata": {},
   "source": [
    "data cleaning over"
   ]
  },
  {
   "cell_type": "code",
   "execution_count": 30,
   "id": "3b4408c8",
   "metadata": {},
   "outputs": [
    {
     "data": {
      "text/plain": [
       "year               0\n",
       "selling_price      0\n",
       "km_driven          0\n",
       "fuel               0\n",
       "seller_type        0\n",
       "transmission       0\n",
       "owner              0\n",
       "seats              0\n",
       "company_name       0\n",
       "model_name         0\n",
       "mileage (kmpl)     0\n",
       "engine (cc)        0\n",
       "max_power (bhp)    0\n",
       "dtype: int64"
      ]
     },
     "execution_count": 30,
     "metadata": {},
     "output_type": "execute_result"
    }
   ],
   "source": [
    "df.isnull().sum()"
   ]
  },
  {
   "cell_type": "code",
   "execution_count": 31,
   "id": "4cb57a4d",
   "metadata": {},
   "outputs": [
    {
     "ename": "ModuleNotFoundError",
     "evalue": "No module named 'matplotlib'",
     "output_type": "error",
     "traceback": [
      "\u001b[1;31m---------------------------------------------------------------------------\u001b[0m",
      "\u001b[1;31mModuleNotFoundError\u001b[0m                       Traceback (most recent call last)",
      "Input \u001b[1;32mIn [31]\u001b[0m, in \u001b[0;36m<cell line: 1>\u001b[1;34m()\u001b[0m\n\u001b[1;32m----> 1\u001b[0m \u001b[38;5;28;01mimport\u001b[39;00m \u001b[38;5;21;01mmatplotlib\u001b[39;00m\u001b[38;5;21;01m.\u001b[39;00m\u001b[38;5;21;01mpyplot\u001b[39;00m \u001b[38;5;28;01mas\u001b[39;00m \u001b[38;5;21;01mplt\u001b[39;00m\n\u001b[0;32m      2\u001b[0m \u001b[38;5;28;01mimport\u001b[39;00m \u001b[38;5;21;01mseaborn\u001b[39;00m \u001b[38;5;28;01mas\u001b[39;00m \u001b[38;5;21;01msns\u001b[39;00m\n\u001b[0;32m      3\u001b[0m \u001b[38;5;28;01mfrom\u001b[39;00m \u001b[38;5;21;01msklearn\u001b[39;00m\u001b[38;5;21;01m.\u001b[39;00m\u001b[38;5;21;01mmodel_selection\u001b[39;00m \u001b[38;5;28;01mimport\u001b[39;00m train_test_split\n",
      "\u001b[1;31mModuleNotFoundError\u001b[0m: No module named 'matplotlib'"
     ]
    }
   ],
   "source": [
    "import matplotlib.pyplot as plt\n",
    "import seaborn as sns\n",
    "from sklearn.model_selection import train_test_split\n",
    "from sklearn.linear_model import LinearRegression\n",
    "from sklearn.linear_model import Lasso\n",
    "from sklearn import metrics"
   ]
  },
  {
   "cell_type": "code",
   "execution_count": null,
   "id": "8303aa40",
   "metadata": {},
   "outputs": [],
   "source": [
    "print(df)"
   ]
  },
  {
   "cell_type": "code",
   "execution_count": null,
   "id": "21af2998",
   "metadata": {},
   "outputs": [],
   "source": [
    "print(df.fuel.value_counts())"
   ]
  },
  {
   "cell_type": "code",
   "execution_count": null,
   "id": "c1f2af6f",
   "metadata": {},
   "outputs": [],
   "source": [
    "df.replace({'fuel':{'petrol':0,'diesel':1,'cng':2,'lpg':3}},inplace=True)"
   ]
  },
  {
   "cell_type": "code",
   "execution_count": null,
   "id": "02fff3d9",
   "metadata": {},
   "outputs": [],
   "source": [
    "print(df)"
   ]
  },
  {
   "cell_type": "code",
   "execution_count": null,
   "id": "62bf6a56",
   "metadata": {},
   "outputs": [],
   "source": [
    "print(df.seller_type.value_counts())"
   ]
  },
  {
   "cell_type": "code",
   "execution_count": null,
   "id": "7f3c98c0",
   "metadata": {},
   "outputs": [],
   "source": [
    "df.replace({'seller_type':{'individual':0,'dealer':1,'trustmark dealer':2}},inplace=True)"
   ]
  },
  {
   "cell_type": "code",
   "execution_count": null,
   "id": "aed7c172",
   "metadata": {},
   "outputs": [],
   "source": [
    "print(df.transmission.value_counts())"
   ]
  },
  {
   "cell_type": "code",
   "execution_count": null,
   "id": "64dd835e",
   "metadata": {},
   "outputs": [],
   "source": [
    "df.replace({'transmission':{'manual':0,'automatic':1}},inplace=True)"
   ]
  },
  {
   "cell_type": "code",
   "execution_count": null,
   "id": "328c6ef3",
   "metadata": {
    "scrolled": true
   },
   "outputs": [],
   "source": [
    "print(df)"
   ]
  },
  {
   "cell_type": "code",
   "execution_count": null,
   "id": "f59a5ed2",
   "metadata": {},
   "outputs": [],
   "source": [
    "print(df.owner.value_counts())"
   ]
  },
  {
   "cell_type": "code",
   "execution_count": null,
   "id": "3d2fd811",
   "metadata": {},
   "outputs": [],
   "source": [
    "df.replace({'transmission':{'first owner':1,'second owner':2,'third owner':3,'fourth & above owner':4,'test drive car':0}},inplace=True)"
   ]
  },
  {
   "cell_type": "code",
   "execution_count": null,
   "id": "d9c0dade",
   "metadata": {},
   "outputs": [],
   "source": [
    "print(df)"
   ]
  },
  {
   "cell_type": "code",
   "execution_count": null,
   "id": "5ecad234",
   "metadata": {},
   "outputs": [],
   "source": [
    "df.replace({'owner':{'first owner':1,'second owner':2,'third owner':3,'fourth & above owner':4,'test drive car':0}},inplace=True)"
   ]
  },
  {
   "cell_type": "code",
   "execution_count": null,
   "id": "1d4825ec",
   "metadata": {},
   "outputs": [],
   "source": [
    "print(df.transmission.value_counts())"
   ]
  },
  {
   "cell_type": "code",
   "execution_count": null,
   "id": "336ade32",
   "metadata": {},
   "outputs": [],
   "source": [
    "print(df)"
   ]
  },
  {
   "cell_type": "code",
   "execution_count": null,
   "id": "2a34bf7c",
   "metadata": {},
   "outputs": [],
   "source": [
    "df.info()"
   ]
  },
  {
   "cell_type": "code",
   "execution_count": null,
   "id": "2574939a",
   "metadata": {},
   "outputs": [],
   "source": [
    "df.head()"
   ]
  },
  {
   "cell_type": "code",
   "execution_count": null,
   "id": "3daf4cb4",
   "metadata": {},
   "outputs": [],
   "source": [
    "X = df.drop(['company_name','selling_price','model_name'],axis=1)\n",
    "Y = df['selling_price']"
   ]
  },
  {
   "cell_type": "code",
   "execution_count": null,
   "id": "69de3d40",
   "metadata": {},
   "outputs": [],
   "source": [
    "X = df.drop(['company_name','selling_price','model_name'],axis=1)\n",
    "Y = df['selling_price']"
   ]
  },
  {
   "cell_type": "code",
   "execution_count": null,
   "id": "367905c0",
   "metadata": {},
   "outputs": [],
   "source": [
    "print(X)"
   ]
  },
  {
   "cell_type": "code",
   "execution_count": null,
   "id": "f89c5559",
   "metadata": {},
   "outputs": [],
   "source": [
    "print(Y)"
   ]
  },
  {
   "cell_type": "code",
   "execution_count": null,
   "id": "67f658e8",
   "metadata": {},
   "outputs": [],
   "source": [
    "X_train, X_test, Y_train, Y_test = train_test_split(X, Y, test_size = 0.1, random_state=2)"
   ]
  },
  {
   "cell_type": "code",
   "execution_count": null,
   "id": "3ccc126d",
   "metadata": {},
   "outputs": [],
   "source": [
    "#laod lasso\n",
    "lass_reg_model = Lasso()"
   ]
  },
  {
   "cell_type": "code",
   "execution_count": null,
   "id": "4e300cc9",
   "metadata": {},
   "outputs": [],
   "source": [
    "lass_reg_model.fit(X_train,Y_train)"
   ]
  },
  {
   "cell_type": "code",
   "execution_count": null,
   "id": "80455ed8",
   "metadata": {},
   "outputs": [],
   "source": [
    "training_data_prediction = lass_reg_model.predict(X_train)"
   ]
  },
  {
   "cell_type": "code",
   "execution_count": null,
   "id": "d9923e58",
   "metadata": {},
   "outputs": [],
   "source": [
    "error_score = metrics.r2_score(Y_train, training_data_prediction)\n",
    "print(\"R squared Error : \", error_score)"
   ]
  },
  {
   "cell_type": "code",
   "execution_count": null,
   "id": "8149847f",
   "metadata": {},
   "outputs": [],
   "source": [
    "plt.scatter(Y_train, training_data_prediction)\n",
    "plt.xlabel(\"Actual Price\")\n",
    "plt.ylabel(\"Predicted Price\")\n",
    "plt.title(\" Actual Prices vs Predicted Prices\")\n",
    "plt.show()"
   ]
  },
  {
   "cell_type": "code",
   "execution_count": null,
   "id": "fb04713c",
   "metadata": {},
   "outputs": [],
   "source": [
    "test_data_prediction = lass_reg_model.predict(X_test)"
   ]
  },
  {
   "cell_type": "code",
   "execution_count": null,
   "id": "855866c0",
   "metadata": {},
   "outputs": [],
   "source": [
    "error_score = metrics.r2_score(Y_test, test_data_prediction)\n",
    "print(\"R squared Error : \", error_score)"
   ]
  },
  {
   "cell_type": "code",
   "execution_count": null,
   "id": "d53fc5f3",
   "metadata": {},
   "outputs": [],
   "source": [
    "plt.scatter(Y_test, test_data_prediction)\n",
    "plt.xlabel(\"Actual Price\")\n",
    "plt.ylabel(\"Predicted Price\")\n",
    "plt.title(\" Actual Prices vs Predicted Prices\")\n",
    "plt.show()"
   ]
  },
  {
   "cell_type": "code",
   "execution_count": null,
   "id": "a2b367c5",
   "metadata": {},
   "outputs": [],
   "source": [
    "print(training_data_prediction)"
   ]
  },
  {
   "cell_type": "code",
   "execution_count": null,
   "id": "79753233",
   "metadata": {},
   "outputs": [],
   "source": [
    "df.info()\n"
   ]
  },
  {
   "cell_type": "code",
   "execution_count": 32,
   "id": "48b3c116",
   "metadata": {},
   "outputs": [
    {
     "name": "stdout",
     "output_type": "stream",
     "text": [
      "      year  selling_price  km_driven    fuel seller_type transmission  \\\n",
      "0     2014         450000     145500  diesel  individual       manual   \n",
      "1     2014         370000     120000  diesel  individual       manual   \n",
      "2     2006         158000     140000  petrol  individual       manual   \n",
      "3     2010         225000     127000  diesel  individual       manual   \n",
      "4     2007         130000     120000  petrol  individual       manual   \n",
      "...    ...            ...        ...     ...         ...          ...   \n",
      "7901  2013         320000     110000  petrol  individual       manual   \n",
      "7902  2007         135000     119000  diesel  individual       manual   \n",
      "7903  2009         382000     120000  diesel  individual       manual   \n",
      "7904  2013         290000      25000  diesel  individual       manual   \n",
      "7905  2013         290000      25000  diesel  individual       manual   \n",
      "\n",
      "                     owner  seats company_name              model_name  \\\n",
      "0              first owner    5.0       maruti         swift dzire vdi   \n",
      "1             second owner    5.0        skoda  rapid 1.5 tdi ambition   \n",
      "2              third owner    5.0        honda      city 2017-2020 exi   \n",
      "3              first owner    5.0      hyundai       i20 sportz diesel   \n",
      "4              first owner    5.0       maruti         swift vxi bsiii   \n",
      "...                    ...    ...          ...                     ...   \n",
      "7901           first owner    5.0      hyundai               i20 magna   \n",
      "7902  fourth & above owner    5.0      hyundai           verna crdi sx   \n",
      "7903           first owner    5.0       maruti         swift dzire zdi   \n",
      "7904           first owner    5.0         tata              indigo cr4   \n",
      "7905           first owner    5.0         tata              indigo cr4   \n",
      "\n",
      "      mileage (kmpl)  engine (cc)  max_power (bhp)  \n",
      "0              23.40       1248.0            74.00  \n",
      "1              21.14       1498.0           103.52  \n",
      "2              17.70       1497.0            78.00  \n",
      "3              23.00       1396.0            90.00  \n",
      "4              16.10       1298.0            88.20  \n",
      "...              ...          ...              ...  \n",
      "7901           18.50       1197.0            82.85  \n",
      "7902           16.80       1493.0           110.00  \n",
      "7903           19.30       1248.0            73.90  \n",
      "7904           23.57       1396.0            70.00  \n",
      "7905           23.57       1396.0            70.00  \n",
      "\n",
      "[7906 rows x 13 columns]\n"
     ]
    }
   ],
   "source": [
    "print (df)"
   ]
  },
  {
   "cell_type": "code",
   "execution_count": 33,
   "id": "9a04abc8",
   "metadata": {},
   "outputs": [
    {
     "name": "stdout",
     "output_type": "stream",
     "text": [
      "<class 'pandas.core.frame.DataFrame'>\n",
      "RangeIndex: 7906 entries, 0 to 7905\n",
      "Data columns (total 13 columns):\n",
      " #   Column           Non-Null Count  Dtype  \n",
      "---  ------           --------------  -----  \n",
      " 0   year             7906 non-null   int64  \n",
      " 1   selling_price    7906 non-null   int64  \n",
      " 2   km_driven        7906 non-null   int64  \n",
      " 3   fuel             7906 non-null   object \n",
      " 4   seller_type      7906 non-null   object \n",
      " 5   transmission     7906 non-null   object \n",
      " 6   owner            7906 non-null   object \n",
      " 7   seats            7906 non-null   float64\n",
      " 8   company_name     7906 non-null   object \n",
      " 9   model_name       7906 non-null   object \n",
      " 10  mileage (kmpl)   7906 non-null   float64\n",
      " 11  engine (cc)      7906 non-null   float64\n",
      " 12  max_power (bhp)  7906 non-null   float64\n",
      "dtypes: float64(4), int64(3), object(6)\n",
      "memory usage: 803.1+ KB\n"
     ]
    }
   ],
   "source": [
    "df.info()"
   ]
  },
  {
   "cell_type": "code",
   "execution_count": 37,
   "id": "6ca09aa5",
   "metadata": {},
   "outputs": [
    {
     "name": "stdout",
     "output_type": "stream",
     "text": [
      "      year  selling_price  km_driven    fuel seller_type transmission  \\\n",
      "0     2014         450000     145500  diesel  individual       manual   \n",
      "1     2014         370000     120000  diesel  individual       manual   \n",
      "2     2006         158000     140000  petrol  individual       manual   \n",
      "3     2010         225000     127000  diesel  individual       manual   \n",
      "4     2007         130000     120000  petrol  individual       manual   \n",
      "...    ...            ...        ...     ...         ...          ...   \n",
      "7901  2013         320000     110000  petrol  individual       manual   \n",
      "7902  2007         135000     119000  diesel  individual       manual   \n",
      "7903  2009         382000     120000  diesel  individual       manual   \n",
      "7904  2013         290000      25000  diesel  individual       manual   \n",
      "7905  2013         290000      25000  diesel  individual       manual   \n",
      "\n",
      "                     owner  seats company_name              model_name  \\\n",
      "0              first owner    5.0       maruti         swift dzire vdi   \n",
      "1             second owner    5.0        skoda  rapid 1.5 tdi ambition   \n",
      "2              third owner    5.0        honda      city 2017-2020 exi   \n",
      "3              first owner    5.0      hyundai       i20 sportz diesel   \n",
      "4              first owner    5.0       maruti         swift vxi bsiii   \n",
      "...                    ...    ...          ...                     ...   \n",
      "7901           first owner    5.0      hyundai               i20 magna   \n",
      "7902  fourth & above owner    5.0      hyundai           verna crdi sx   \n",
      "7903           first owner    5.0       maruti         swift dzire zdi   \n",
      "7904           first owner    5.0         tata              indigo cr4   \n",
      "7905           first owner    5.0         tata              indigo cr4   \n",
      "\n",
      "      mileage (kmpl)  engine (cc)  max_power (bhp)  \n",
      "0              23.40       1248.0            74.00  \n",
      "1              21.14       1498.0           103.52  \n",
      "2              17.70       1497.0            78.00  \n",
      "3              23.00       1396.0            90.00  \n",
      "4              16.10       1298.0            88.20  \n",
      "...              ...          ...              ...  \n",
      "7901           18.50       1197.0            82.85  \n",
      "7902           16.80       1493.0           110.00  \n",
      "7903           19.30       1248.0            73.90  \n",
      "7904           23.57       1396.0            70.00  \n",
      "7905           23.57       1396.0            70.00  \n",
      "\n",
      "[7906 rows x 13 columns]\n"
     ]
    }
   ],
   "source": [
    "df=df.reset_index(drop=True)\n",
    "print (df)"
   ]
  },
  {
   "cell_type": "code",
   "execution_count": 38,
   "id": "f80ecd84",
   "metadata": {},
   "outputs": [],
   "source": [
    "df.to_csv('cleaned df.csv')"
   ]
  },
  {
   "cell_type": "code",
   "execution_count": 39,
   "id": "c23df103",
   "metadata": {},
   "outputs": [],
   "source": [
    "x = df.drop(columns='selling_price')\n",
    "y=df['selling_price']"
   ]
  },
  {
   "cell_type": "code",
   "execution_count": 40,
   "id": "25782ac3",
   "metadata": {},
   "outputs": [
    {
     "data": {
      "text/html": [
       "<div>\n",
       "<style scoped>\n",
       "    .dataframe tbody tr th:only-of-type {\n",
       "        vertical-align: middle;\n",
       "    }\n",
       "\n",
       "    .dataframe tbody tr th {\n",
       "        vertical-align: top;\n",
       "    }\n",
       "\n",
       "    .dataframe thead th {\n",
       "        text-align: right;\n",
       "    }\n",
       "</style>\n",
       "<table border=\"1\" class=\"dataframe\">\n",
       "  <thead>\n",
       "    <tr style=\"text-align: right;\">\n",
       "      <th></th>\n",
       "      <th>year</th>\n",
       "      <th>km_driven</th>\n",
       "      <th>fuel</th>\n",
       "      <th>seller_type</th>\n",
       "      <th>transmission</th>\n",
       "      <th>owner</th>\n",
       "      <th>seats</th>\n",
       "      <th>company_name</th>\n",
       "      <th>model_name</th>\n",
       "      <th>mileage (kmpl)</th>\n",
       "      <th>engine (cc)</th>\n",
       "      <th>max_power (bhp)</th>\n",
       "    </tr>\n",
       "  </thead>\n",
       "  <tbody>\n",
       "    <tr>\n",
       "      <th>0</th>\n",
       "      <td>2014</td>\n",
       "      <td>145500</td>\n",
       "      <td>diesel</td>\n",
       "      <td>individual</td>\n",
       "      <td>manual</td>\n",
       "      <td>first owner</td>\n",
       "      <td>5.0</td>\n",
       "      <td>maruti</td>\n",
       "      <td>swift dzire vdi</td>\n",
       "      <td>23.40</td>\n",
       "      <td>1248.0</td>\n",
       "      <td>74.00</td>\n",
       "    </tr>\n",
       "    <tr>\n",
       "      <th>1</th>\n",
       "      <td>2014</td>\n",
       "      <td>120000</td>\n",
       "      <td>diesel</td>\n",
       "      <td>individual</td>\n",
       "      <td>manual</td>\n",
       "      <td>second owner</td>\n",
       "      <td>5.0</td>\n",
       "      <td>skoda</td>\n",
       "      <td>rapid 1.5 tdi ambition</td>\n",
       "      <td>21.14</td>\n",
       "      <td>1498.0</td>\n",
       "      <td>103.52</td>\n",
       "    </tr>\n",
       "    <tr>\n",
       "      <th>2</th>\n",
       "      <td>2006</td>\n",
       "      <td>140000</td>\n",
       "      <td>petrol</td>\n",
       "      <td>individual</td>\n",
       "      <td>manual</td>\n",
       "      <td>third owner</td>\n",
       "      <td>5.0</td>\n",
       "      <td>honda</td>\n",
       "      <td>city 2017-2020 exi</td>\n",
       "      <td>17.70</td>\n",
       "      <td>1497.0</td>\n",
       "      <td>78.00</td>\n",
       "    </tr>\n",
       "    <tr>\n",
       "      <th>3</th>\n",
       "      <td>2010</td>\n",
       "      <td>127000</td>\n",
       "      <td>diesel</td>\n",
       "      <td>individual</td>\n",
       "      <td>manual</td>\n",
       "      <td>first owner</td>\n",
       "      <td>5.0</td>\n",
       "      <td>hyundai</td>\n",
       "      <td>i20 sportz diesel</td>\n",
       "      <td>23.00</td>\n",
       "      <td>1396.0</td>\n",
       "      <td>90.00</td>\n",
       "    </tr>\n",
       "    <tr>\n",
       "      <th>4</th>\n",
       "      <td>2007</td>\n",
       "      <td>120000</td>\n",
       "      <td>petrol</td>\n",
       "      <td>individual</td>\n",
       "      <td>manual</td>\n",
       "      <td>first owner</td>\n",
       "      <td>5.0</td>\n",
       "      <td>maruti</td>\n",
       "      <td>swift vxi bsiii</td>\n",
       "      <td>16.10</td>\n",
       "      <td>1298.0</td>\n",
       "      <td>88.20</td>\n",
       "    </tr>\n",
       "    <tr>\n",
       "      <th>...</th>\n",
       "      <td>...</td>\n",
       "      <td>...</td>\n",
       "      <td>...</td>\n",
       "      <td>...</td>\n",
       "      <td>...</td>\n",
       "      <td>...</td>\n",
       "      <td>...</td>\n",
       "      <td>...</td>\n",
       "      <td>...</td>\n",
       "      <td>...</td>\n",
       "      <td>...</td>\n",
       "      <td>...</td>\n",
       "    </tr>\n",
       "    <tr>\n",
       "      <th>7901</th>\n",
       "      <td>2013</td>\n",
       "      <td>110000</td>\n",
       "      <td>petrol</td>\n",
       "      <td>individual</td>\n",
       "      <td>manual</td>\n",
       "      <td>first owner</td>\n",
       "      <td>5.0</td>\n",
       "      <td>hyundai</td>\n",
       "      <td>i20 magna</td>\n",
       "      <td>18.50</td>\n",
       "      <td>1197.0</td>\n",
       "      <td>82.85</td>\n",
       "    </tr>\n",
       "    <tr>\n",
       "      <th>7902</th>\n",
       "      <td>2007</td>\n",
       "      <td>119000</td>\n",
       "      <td>diesel</td>\n",
       "      <td>individual</td>\n",
       "      <td>manual</td>\n",
       "      <td>fourth &amp; above owner</td>\n",
       "      <td>5.0</td>\n",
       "      <td>hyundai</td>\n",
       "      <td>verna crdi sx</td>\n",
       "      <td>16.80</td>\n",
       "      <td>1493.0</td>\n",
       "      <td>110.00</td>\n",
       "    </tr>\n",
       "    <tr>\n",
       "      <th>7903</th>\n",
       "      <td>2009</td>\n",
       "      <td>120000</td>\n",
       "      <td>diesel</td>\n",
       "      <td>individual</td>\n",
       "      <td>manual</td>\n",
       "      <td>first owner</td>\n",
       "      <td>5.0</td>\n",
       "      <td>maruti</td>\n",
       "      <td>swift dzire zdi</td>\n",
       "      <td>19.30</td>\n",
       "      <td>1248.0</td>\n",
       "      <td>73.90</td>\n",
       "    </tr>\n",
       "    <tr>\n",
       "      <th>7904</th>\n",
       "      <td>2013</td>\n",
       "      <td>25000</td>\n",
       "      <td>diesel</td>\n",
       "      <td>individual</td>\n",
       "      <td>manual</td>\n",
       "      <td>first owner</td>\n",
       "      <td>5.0</td>\n",
       "      <td>tata</td>\n",
       "      <td>indigo cr4</td>\n",
       "      <td>23.57</td>\n",
       "      <td>1396.0</td>\n",
       "      <td>70.00</td>\n",
       "    </tr>\n",
       "    <tr>\n",
       "      <th>7905</th>\n",
       "      <td>2013</td>\n",
       "      <td>25000</td>\n",
       "      <td>diesel</td>\n",
       "      <td>individual</td>\n",
       "      <td>manual</td>\n",
       "      <td>first owner</td>\n",
       "      <td>5.0</td>\n",
       "      <td>tata</td>\n",
       "      <td>indigo cr4</td>\n",
       "      <td>23.57</td>\n",
       "      <td>1396.0</td>\n",
       "      <td>70.00</td>\n",
       "    </tr>\n",
       "  </tbody>\n",
       "</table>\n",
       "<p>7906 rows × 12 columns</p>\n",
       "</div>"
      ],
      "text/plain": [
       "      year  km_driven    fuel seller_type transmission                 owner  \\\n",
       "0     2014     145500  diesel  individual       manual           first owner   \n",
       "1     2014     120000  diesel  individual       manual          second owner   \n",
       "2     2006     140000  petrol  individual       manual           third owner   \n",
       "3     2010     127000  diesel  individual       manual           first owner   \n",
       "4     2007     120000  petrol  individual       manual           first owner   \n",
       "...    ...        ...     ...         ...          ...                   ...   \n",
       "7901  2013     110000  petrol  individual       manual           first owner   \n",
       "7902  2007     119000  diesel  individual       manual  fourth & above owner   \n",
       "7903  2009     120000  diesel  individual       manual           first owner   \n",
       "7904  2013      25000  diesel  individual       manual           first owner   \n",
       "7905  2013      25000  diesel  individual       manual           first owner   \n",
       "\n",
       "      seats company_name              model_name  mileage (kmpl)  engine (cc)  \\\n",
       "0       5.0       maruti         swift dzire vdi           23.40       1248.0   \n",
       "1       5.0        skoda  rapid 1.5 tdi ambition           21.14       1498.0   \n",
       "2       5.0        honda      city 2017-2020 exi           17.70       1497.0   \n",
       "3       5.0      hyundai       i20 sportz diesel           23.00       1396.0   \n",
       "4       5.0       maruti         swift vxi bsiii           16.10       1298.0   \n",
       "...     ...          ...                     ...             ...          ...   \n",
       "7901    5.0      hyundai               i20 magna           18.50       1197.0   \n",
       "7902    5.0      hyundai           verna crdi sx           16.80       1493.0   \n",
       "7903    5.0       maruti         swift dzire zdi           19.30       1248.0   \n",
       "7904    5.0         tata              indigo cr4           23.57       1396.0   \n",
       "7905    5.0         tata              indigo cr4           23.57       1396.0   \n",
       "\n",
       "      max_power (bhp)  \n",
       "0               74.00  \n",
       "1              103.52  \n",
       "2               78.00  \n",
       "3               90.00  \n",
       "4               88.20  \n",
       "...               ...  \n",
       "7901            82.85  \n",
       "7902           110.00  \n",
       "7903            73.90  \n",
       "7904            70.00  \n",
       "7905            70.00  \n",
       "\n",
       "[7906 rows x 12 columns]"
      ]
     },
     "execution_count": 40,
     "metadata": {},
     "output_type": "execute_result"
    }
   ],
   "source": [
    "x"
   ]
  },
  {
   "cell_type": "code",
   "execution_count": 41,
   "id": "f128b20f",
   "metadata": {},
   "outputs": [
    {
     "data": {
      "text/plain": [
       "0       450000\n",
       "1       370000\n",
       "2       158000\n",
       "3       225000\n",
       "4       130000\n",
       "         ...  \n",
       "7901    320000\n",
       "7902    135000\n",
       "7903    382000\n",
       "7904    290000\n",
       "7905    290000\n",
       "Name: selling_price, Length: 7906, dtype: int64"
      ]
     },
     "execution_count": 41,
     "metadata": {},
     "output_type": "execute_result"
    }
   ],
   "source": [
    "y"
   ]
  },
  {
   "cell_type": "code",
   "execution_count": 43,
   "id": "724c2ad3",
   "metadata": {},
   "outputs": [],
   "source": [
    "from sklearn.model_selection import train_test_split\n",
    "x_train, x_test, y_train, y_test= train_test_split(x,y, test_size=0.2)"
   ]
  },
  {
   "cell_type": "code",
   "execution_count": 47,
   "id": "3b91d82d",
   "metadata": {},
   "outputs": [],
   "source": [
    "from sklearn.linear_model import LinearRegression\n",
    "from sklearn.metrics import r2_score\n",
    "from sklearn.preprocessing import OneHotEncoder\n",
    "from sklearn.compose import make_column_transformer\n",
    "from sklearn.pipeline import make_pipeline"
   ]
  },
  {
   "cell_type": "code",
   "execution_count": 53,
   "id": "520b37da",
   "metadata": {},
   "outputs": [
    {
     "data": {
      "text/plain": [
       "OneHotEncoder()"
      ]
     },
     "execution_count": 53,
     "metadata": {},
     "output_type": "execute_result"
    }
   ],
   "source": [
    "ohe=OneHotEncoder()\n",
    "ohe.fit(x[['fuel', 'seller_type', 'transmission', 'owner', 'company_name', 'model_name' ]])"
   ]
  },
  {
   "cell_type": "code",
   "execution_count": 54,
   "id": "0b73ee82",
   "metadata": {},
   "outputs": [
    {
     "data": {
      "text/plain": [
       "[array(['cng', 'diesel', 'lpg', 'petrol'], dtype=object),\n",
       " array(['dealer', 'individual', 'trustmark dealer'], dtype=object),\n",
       " array(['automatic', 'manual'], dtype=object),\n",
       " array(['first owner', 'fourth & above owner', 'second owner',\n",
       "        'test drive car', 'third owner'], dtype=object),\n",
       " array(['ambassador', 'ashok', 'audi', 'bmw', 'chevrolet', 'daewoo',\n",
       "        'datsun', 'fiat', 'force', 'ford', 'honda', 'hyundai', 'isuzu',\n",
       "        'jaguar', 'jeep', 'kia', 'land', 'lexus', 'mahindra', 'maruti',\n",
       "        'mercedes-benz', 'mg', 'mitsubishi', 'nissan', 'opel', 'renault',\n",
       "        'skoda', 'tata', 'toyota', 'volkswagen', 'volvo'], dtype=object),\n",
       " array(['3 series 320d', '3 series 320d corporate edition',\n",
       "        '3 series 320d gt luxury line', ..., 'zest revotron 1.2 xt',\n",
       "        'zest revotron 1.2t xm', 'zest revotron 1.2t xms'], dtype=object)]"
      ]
     },
     "execution_count": 54,
     "metadata": {},
     "output_type": "execute_result"
    }
   ],
   "source": [
    "ohe.categories_"
   ]
  },
  {
   "cell_type": "code",
   "execution_count": 55,
   "id": "ec629afd",
   "metadata": {},
   "outputs": [],
   "source": [
    "column_trans = make_column_transformer((OneHotEncoder(categories=ohe.categories_),['fuel', 'seller_type', 'transmission', 'owner', 'company_name', 'model_name']), remainder='passthrough')\n"
   ]
  },
  {
   "cell_type": "code",
   "execution_count": 56,
   "id": "9ed32511",
   "metadata": {},
   "outputs": [],
   "source": [
    "lr= LinearRegression()"
   ]
  },
  {
   "cell_type": "code",
   "execution_count": 57,
   "id": "696e1403",
   "metadata": {},
   "outputs": [],
   "source": [
    "pipe=make_pipeline(column_trans, lr)"
   ]
  },
  {
   "cell_type": "code",
   "execution_count": 58,
   "id": "8cf18059",
   "metadata": {},
   "outputs": [
    {
     "data": {
      "text/plain": [
       "Pipeline(steps=[('columntransformer',\n",
       "                 ColumnTransformer(remainder='passthrough',\n",
       "                                   transformers=[('onehotencoder',\n",
       "                                                  OneHotEncoder(categories=[array(['cng', 'diesel', 'lpg', 'petrol'], dtype=object),\n",
       "                                                                            array(['dealer', 'individual', 'trustmark dealer'], dtype=object),\n",
       "                                                                            array(['automatic', 'manual'], dtype=object),\n",
       "                                                                            array(['first owner', 'fourth & above owner', 'second owner',\n",
       "       'te...\n",
       "       'mercedes-benz', 'mg', 'mitsubishi', 'nissan', 'opel', 'renault',\n",
       "       'skoda', 'tata', 'toyota', 'volkswagen', 'volvo'], dtype=object),\n",
       "                                                                            array(['3 series 320d', '3 series 320d corporate edition',\n",
       "       '3 series 320d gt luxury line', ..., 'zest revotron 1.2 xt',\n",
       "       'zest revotron 1.2t xm', 'zest revotron 1.2t xms'], dtype=object)]),\n",
       "                                                  ['fuel', 'seller_type',\n",
       "                                                   'transmission', 'owner',\n",
       "                                                   'company_name',\n",
       "                                                   'model_name'])])),\n",
       "                ('linearregression', LinearRegression())])"
      ]
     },
     "execution_count": 58,
     "metadata": {},
     "output_type": "execute_result"
    }
   ],
   "source": [
    "pipe.fit(x_train,y_train)"
   ]
  },
  {
   "cell_type": "code",
   "execution_count": 59,
   "id": "aeb28ff5",
   "metadata": {},
   "outputs": [],
   "source": [
    "y_pred= pipe.predict(x_test)"
   ]
  },
  {
   "cell_type": "code",
   "execution_count": 60,
   "id": "82c88e63",
   "metadata": {},
   "outputs": [
    {
     "data": {
      "text/plain": [
       "array([ 591041.28093193, 1535959.72822855, 1653005.27883336, ...,\n",
       "        241811.488295  ,  126817.86485597, 1148581.38823314])"
      ]
     },
     "execution_count": 60,
     "metadata": {},
     "output_type": "execute_result"
    }
   ],
   "source": [
    "y_pred"
   ]
  },
  {
   "cell_type": "code",
   "execution_count": 61,
   "id": "a979632f",
   "metadata": {},
   "outputs": [
    {
     "data": {
      "text/plain": [
       "0.8313655473056301"
      ]
     },
     "execution_count": 61,
     "metadata": {},
     "output_type": "execute_result"
    }
   ],
   "source": [
    "r2_score(y_test, y_pred)"
   ]
  },
  {
   "cell_type": "raw",
   "id": "c9f8dbb3",
   "metadata": {},
   "source": [
    "import numpy as np"
   ]
  },
  {
   "cell_type": "code",
   "execution_count": 62,
   "id": "a6dd4963",
   "metadata": {},
   "outputs": [],
   "source": [
    "import numpy as np"
   ]
  },
  {
   "cell_type": "code",
   "execution_count": 64,
   "id": "18eeb882",
   "metadata": {},
   "outputs": [],
   "source": [
    "scores=[]\n",
    "for i in range(1000):\n",
    "    x_train,x_test,y_train,y_test=train_test_split(x,y,test_size=0.2, random_state=i)\n",
    "    lr=LinearRegression()\n",
    "    pipe=make_pipeline(column_trans,lr)\n",
    "    pipe.fit(x_train,y_train)\n",
    "    y_pred=pipe.predict(x_test)\n",
    "    scores.append(r2_score(y_test,y_pred))"
   ]
  },
  {
   "cell_type": "code",
   "execution_count": 65,
   "id": "438ba883",
   "metadata": {},
   "outputs": [
    {
     "data": {
      "text/plain": [
       "555"
      ]
     },
     "execution_count": 65,
     "metadata": {},
     "output_type": "execute_result"
    }
   ],
   "source": [
    "np.argmax(scores)"
   ]
  },
  {
   "cell_type": "code",
   "execution_count": 66,
   "id": "fa87b083",
   "metadata": {},
   "outputs": [
    {
     "data": {
      "text/plain": [
       "0.8917614054347752"
      ]
     },
     "execution_count": 66,
     "metadata": {},
     "output_type": "execute_result"
    }
   ],
   "source": [
    "scores[np.argmax(scores)]"
   ]
  },
  {
   "cell_type": "code",
   "execution_count": 68,
   "id": "008e1eef",
   "metadata": {},
   "outputs": [
    {
     "data": {
      "text/plain": [
       "0.8917614054347752"
      ]
     },
     "execution_count": 68,
     "metadata": {},
     "output_type": "execute_result"
    }
   ],
   "source": [
    "x_train,x_test,y_train,y_test=train_test_split(x,y,test_size=0.2, random_state=np.argmax(scores))\n",
    "lr=LinearRegression()\n",
    "pipe=make_pipeline(column_trans,lr)\n",
    "pipe.fit(x_train,y_train)\n",
    "y_pred=pipe.predict(x_test)\n",
    "r2_score(y_test, y_pred)"
   ]
  },
  {
   "cell_type": "code",
   "execution_count": 69,
   "id": "d8d14fd0",
   "metadata": {},
   "outputs": [
    {
     "name": "stderr",
     "output_type": "stream",
     "text": [
      "WARNING: You are using pip version 22.0.4; however, version 22.3 is available.\n",
      "You should consider upgrading via the 'C:\\Users\\khush\\AppData\\Local\\Programs\\Python\\Python310\\python.exe -m pip install --upgrade pip' command.\n"
     ]
    },
    {
     "name": "stdout",
     "output_type": "stream",
     "text": [
      "Collecting pickle-mixin\n",
      "  Downloading pickle-mixin-1.0.2.tar.gz (5.1 kB)\n",
      "  Preparing metadata (setup.py): started\n",
      "  Preparing metadata (setup.py): finished with status 'done'\n",
      "Using legacy 'setup.py install' for pickle-mixin, since package 'wheel' is not installed.\n",
      "Installing collected packages: pickle-mixin\n",
      "  Running setup.py install for pickle-mixin: started\n",
      "  Running setup.py install for pickle-mixin: finished with status 'done'\n",
      "Successfully installed pickle-mixin-1.0.2\n"
     ]
    }
   ],
   "source": [
    "!pip install pickle-mixin"
   ]
  },
  {
   "cell_type": "code",
   "execution_count": 71,
   "id": "0520bca4",
   "metadata": {},
   "outputs": [
    {
     "name": "stdout",
     "output_type": "stream",
     "text": [
      "Requirement already satisfied: pickle-mixin in c:\\users\\khush\\appdata\\local\\programs\\python\\python310\\lib\\site-packages (1.0.2)\n",
      "Note: you may need to restart the kernel to use updated packages.\n"
     ]
    },
    {
     "name": "stderr",
     "output_type": "stream",
     "text": [
      "WARNING: You are using pip version 22.0.4; however, version 22.3 is available.\n",
      "You should consider upgrading via the 'C:\\Users\\khush\\AppData\\Local\\Programs\\Python\\Python310\\python.exe -m pip install --upgrade pip' command.\n"
     ]
    }
   ],
   "source": [
    "pip install pickle-mixin"
   ]
  },
  {
   "cell_type": "code",
   "execution_count": 72,
   "id": "7824cbff",
   "metadata": {},
   "outputs": [],
   "source": [
    "import pickle"
   ]
  },
  {
   "cell_type": "code",
   "execution_count": 73,
   "id": "b2e4b8df",
   "metadata": {},
   "outputs": [],
   "source": [
    "pickle.dump(pipe,open('LinearRegressionModel.pkl', 'wb'))"
   ]
  },
  {
   "cell_type": "code",
   "execution_count": 75,
   "id": "2f266c61",
   "metadata": {},
   "outputs": [
    {
     "data": {
      "text/plain": [
       "array([22283.90260105])"
      ]
     },
     "execution_count": 75,
     "metadata": {},
     "output_type": "execute_result"
    }
   ],
   "source": [
    "pipe.predict(pd.DataFrame([['2007', '100000', 'petrol', 'individual', 'manual', 'first owner', '5.0', 'tata', 'indigo cr4', '18.50', '1398.0', '79.00']], columns=['year', 'km_driven', 'fuel', 'seller_type', 'transmission', 'owner', 'seats', 'company_name', 'model_name', 'mileage (kmpl)', 'engine (cc)', 'max_power (bhp)']))"
   ]
  }
 ],
 "metadata": {
  "kernelspec": {
   "display_name": "Python 3 (ipykernel)",
   "language": "python",
   "name": "python3"
  },
  "language_info": {
   "codemirror_mode": {
    "name": "ipython",
    "version": 3
   },
   "file_extension": ".py",
   "mimetype": "text/x-python",
   "name": "python",
   "nbconvert_exporter": "python",
   "pygments_lexer": "ipython3",
   "version": "3.10.4"
  }
 },
 "nbformat": 4,
 "nbformat_minor": 5
}
